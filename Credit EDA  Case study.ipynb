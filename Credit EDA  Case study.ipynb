{
 "cells": [
  {
   "cell_type": "code",
   "execution_count": null,
   "metadata": {},
   "outputs": [],
   "source": [
    "#import the warnings.\n",
    "import warnings\n",
    "warnings.filterwarnings(\"ignore\")\n",
    "\n",
    "\n",
    "#import the useful / required libraries\n",
    "import pandas as pd \n",
    "import numpy as np\n",
    "import matplotlib.pyplot as plt , seaborn as  sns\n",
    "%matplotlib inline"
   ]
  },
  {
   "cell_type": "markdown",
   "metadata": {},
   "source": [
    "Import the data set"
   ]
  },
  {
   "cell_type": "code",
   "execution_count": null,
   "metadata": {},
   "outputs": [],
   "source": [
    "application = pd.read_csv(\"C:/Users/anvir/OneDrive/Desktop/Upgrad/Credit EDA Case Study/application_data.csv\")\n",
    "\n",
    "pervious_app = pd.read_csv(\"C:/Users/anvir/OneDrive/Desktop/Upgrad/Credit EDA Case Study/previous_application.csv\")\n"
   ]
  },
  {
   "cell_type": "code",
   "execution_count": null,
   "metadata": {},
   "outputs": [],
   "source": [
    "application.head()"
   ]
  },
  {
   "cell_type": "code",
   "execution_count": null,
   "metadata": {},
   "outputs": [],
   "source": [
    "#pervious_app.head()"
   ]
  },
  {
   "cell_type": "markdown",
   "metadata": {},
   "source": [
    "# Data Understanding - Look at the data and get to know the data types accordingly . "
   ]
  },
  {
   "cell_type": "code",
   "execution_count": null,
   "metadata": {},
   "outputs": [],
   "source": [
    "application.info()"
   ]
  },
  {
   "cell_type": "code",
   "execution_count": null,
   "metadata": {},
   "outputs": [],
   "source": [
    "application.shape"
   ]
  },
  {
   "cell_type": "markdown",
   "metadata": {},
   "source": [
    "There are 307511 data points and 122 attributes. "
   ]
  },
  {
   "cell_type": "code",
   "execution_count": null,
   "metadata": {},
   "outputs": [],
   "source": [
    "application.describe()"
   ]
  },
  {
   "cell_type": "markdown",
   "metadata": {},
   "source": [
    "- we have 106 Numerical data type"
   ]
  },
  {
   "cell_type": "markdown",
   "metadata": {},
   "source": [
    "\n",
    "# Numerical  / Non catergorical data - Statistical ananlysis "
   ]
  },
  {
   "cell_type": "markdown",
   "metadata": {},
   "source": [
    "Ananlyze the categorical attributes"
   ]
  },
  {
   "cell_type": "code",
   "execution_count": null,
   "metadata": {},
   "outputs": [],
   "source": [
    "application.select_dtypes(include = \"object\").columns"
   ]
  },
  {
   "cell_type": "code",
   "execution_count": null,
   "metadata": {},
   "outputs": [],
   "source": [
    "# Checking number of categorical variables\n",
    "len(application.select_dtypes(include = \"object\").columns)"
   ]
  },
  {
   "cell_type": "markdown",
   "metadata": {},
   "source": [
    "There are 16 categorical variables. \n",
    "\n",
    "\n",
    "- Check the relative frequecny of each categorical attributes "
   ]
  },
  {
   "cell_type": "code",
   "execution_count": null,
   "metadata": {},
   "outputs": [],
   "source": [
    "application['NAME_CONTRACT_TYPE'].value_counts()/307511*100"
   ]
  },
  {
   "cell_type": "code",
   "execution_count": null,
   "metadata": {},
   "outputs": [],
   "source": [
    "application['CODE_GENDER'].value_counts()/307511*100"
   ]
  },
  {
   "cell_type": "code",
   "execution_count": null,
   "metadata": {},
   "outputs": [],
   "source": [
    "application['FLAG_OWN_CAR'].value_counts()/307511*100"
   ]
  },
  {
   "cell_type": "code",
   "execution_count": null,
   "metadata": {},
   "outputs": [],
   "source": [
    "application['FLAG_OWN_REALTY'].value_counts()/307511*100"
   ]
  },
  {
   "cell_type": "code",
   "execution_count": null,
   "metadata": {},
   "outputs": [],
   "source": [
    "application['NAME_TYPE_SUITE'].value_counts()/307511*100"
   ]
  },
  {
   "cell_type": "code",
   "execution_count": null,
   "metadata": {},
   "outputs": [],
   "source": [
    "application['NAME_INCOME_TYPE'].value_counts()/307511*100"
   ]
  },
  {
   "cell_type": "code",
   "execution_count": null,
   "metadata": {},
   "outputs": [],
   "source": [
    "application['NAME_EDUCATION_TYPE'].value_counts()/307511*100"
   ]
  },
  {
   "cell_type": "code",
   "execution_count": null,
   "metadata": {},
   "outputs": [],
   "source": [
    "application['NAME_FAMILY_STATUS'].value_counts()/307511*100"
   ]
  },
  {
   "cell_type": "code",
   "execution_count": null,
   "metadata": {},
   "outputs": [],
   "source": [
    "application['NAME_HOUSING_TYPE'].value_counts()/307511*100"
   ]
  },
  {
   "cell_type": "code",
   "execution_count": null,
   "metadata": {},
   "outputs": [],
   "source": [
    "application['OCCUPATION_TYPE'].value_counts()/307511*100"
   ]
  },
  {
   "cell_type": "code",
   "execution_count": null,
   "metadata": {},
   "outputs": [],
   "source": [
    "application['WEEKDAY_APPR_PROCESS_START'].value_counts()/307511*100"
   ]
  },
  {
   "cell_type": "code",
   "execution_count": null,
   "metadata": {},
   "outputs": [],
   "source": [
    "application['ORGANIZATION_TYPE'].value_counts()/307511*100"
   ]
  },
  {
   "cell_type": "code",
   "execution_count": null,
   "metadata": {},
   "outputs": [],
   "source": [
    "application['FONDKAPREMONT_MODE'].value_counts()/307511*100"
   ]
  },
  {
   "cell_type": "code",
   "execution_count": null,
   "metadata": {},
   "outputs": [],
   "source": [
    "application['HOUSETYPE_MODE'].value_counts()/307511*100"
   ]
  },
  {
   "cell_type": "code",
   "execution_count": null,
   "metadata": {},
   "outputs": [],
   "source": [
    "application['WALLSMATERIAL_MODE'].value_counts()/307511*100"
   ]
  },
  {
   "cell_type": "code",
   "execution_count": null,
   "metadata": {},
   "outputs": [],
   "source": [
    "application['EMERGENCYSTATE_MODE'].value_counts()/307511*100"
   ]
  },
  {
   "cell_type": "markdown",
   "metadata": {},
   "source": [
    "Analyse the numeric attributes"
   ]
  },
  {
   "cell_type": "code",
   "execution_count": null,
   "metadata": {},
   "outputs": [],
   "source": [
    "application.select_dtypes(include=[\"int64\",\"float64\"]).columns"
   ]
  },
  {
   "cell_type": "code",
   "execution_count": null,
   "metadata": {},
   "outputs": [],
   "source": [
    "# chcek the varibale count \n",
    "len(application.select_dtypes(include=[\"int64\",\"float64\"]).columns)"
   ]
  },
  {
   "cell_type": "code",
   "execution_count": null,
   "metadata": {},
   "outputs": [],
   "source": [
    "application.select_dtypes(include=[\"int64\",\"float64\"])"
   ]
  },
  {
   "cell_type": "markdown",
   "metadata": {},
   "source": [
    "Obeservation : \n",
    "    \n",
    "    - In Categorical varialbes - few missign data do exsits  - ( not sure how much though at this stage ) \n",
    "    - 16 categorical and 106 numeric variables are found \n",
    "    - Looking at the data and their data type , we donot see any incorrect data type / no need to change any attributes data type. "
   ]
  },
  {
   "cell_type": "markdown",
   "metadata": {},
   "source": [
    "Check for Missing values "
   ]
  },
  {
   "cell_type": "code",
   "execution_count": null,
   "metadata": {},
   "outputs": [],
   "source": [
    "application.isnull().values.sum()\n",
    "\n",
    "#application.isnull().values.any()"
   ]
  },
  {
   "cell_type": "markdown",
   "metadata": {},
   "source": [
    "9152465 - is the total number of Null values presnt in the data set. "
   ]
  },
  {
   "cell_type": "code",
   "execution_count": null,
   "metadata": {},
   "outputs": [],
   "source": [
    "# get th lsit of the varibales having null value \n",
    "\n",
    "application.columns[application.isnull().values.any()]"
   ]
  },
  {
   "cell_type": "code",
   "execution_count": null,
   "metadata": {},
   "outputs": [],
   "source": [
    "# number of varibales count having null values \n",
    "len(application.columns[application.isnull().any()])"
   ]
  },
  {
   "cell_type": "markdown",
   "metadata": {},
   "source": [
    "There are totally 67 columns having one or more NULL values in the data"
   ]
  },
  {
   "cell_type": "markdown",
   "metadata": {},
   "source": [
    "# Chcek for the missing value percantage in these columns ( from above)"
   ]
  },
  {
   "cell_type": "code",
   "execution_count": null,
   "metadata": {},
   "outputs": [],
   "source": [
    "# 1. checek for the null value count \n",
    "# 2. CAlcaluate the % of missing value \n",
    "# 3. Chcek for each column name , what is the number of mmissing value  and its percentage. \n",
    "\n",
    "\n",
    "null_count = application.isnull().sum()\n",
    "null_percentage = round((null_count/application.shape[0])*100, 2)\n",
    "\n",
    "\n",
    "null_application = pd.DataFrame({'column_name' : application.columns,'null_count' : null_count,'null_percentage': null_percentage})\n",
    "null_application.reset_index(drop = True, inplace = True)\n",
    "\n",
    "null_application.sort_values(by = 'null_percentage', ascending = False)"
   ]
  },
  {
   "cell_type": "markdown",
   "metadata": {},
   "source": [
    "#### Oberavtions : \n",
    "    \n",
    "  After looking at the missing values ( in both data type ): We see \n",
    "     - Few columns have been seen having more than 50 % missing values. \n",
    "        \n",
    "Looking at the table above  : we can conclude that more than 40 % of misisng value columns can be dropped from the data set. \n",
    "        "
   ]
  },
  {
   "cell_type": "code",
   "execution_count": null,
   "metadata": {},
   "outputs": [],
   "source": [
    "# remove the columns , where we see more than 40 % of missing value and assign that to a new data frame . \n",
    "\n",
    "\n",
    "\n",
    "# 1. get the list of columns which have more than 30 % of missing value -: we see 49 columns having missisng values ( chcek below code ) \n",
    "# 2. Than drop only those columns and assign it to a new data set for further annalysis \n",
    "\n",
    "col_to_dele =  null_application[null_application['null_percentage'] > 40].column_name.to_list()\n",
    "\n",
    "len(col_to_dele)\n",
    "\n",
    "#col_to_dele"
   ]
  },
  {
   "cell_type": "markdown",
   "metadata": {},
   "source": [
    "- There are totally  49  columns to be removed. Delete them from main dataframe. "
   ]
  },
  {
   "cell_type": "code",
   "execution_count": null,
   "metadata": {},
   "outputs": [],
   "source": [
    "application.drop(columns = col_to_dele, inplace = True)"
   ]
  },
  {
   "cell_type": "code",
   "execution_count": null,
   "metadata": {},
   "outputs": [],
   "source": [
    "application.shape"
   ]
  },
  {
   "cell_type": "markdown",
   "metadata": {},
   "source": [
    "Obeservation : After dropping the columns ; we have 73 columns present on the data set "
   ]
  },
  {
   "cell_type": "code",
   "execution_count": null,
   "metadata": {},
   "outputs": [],
   "source": [
    "# create a new data frame with missing values percentages below 40%\n",
    "\n",
    "df =  null_application[null_application['null_percentage'] < 40]"
   ]
  },
  {
   "cell_type": "code",
   "execution_count": null,
   "metadata": {},
   "outputs": [],
   "source": [
    "df.sort_values(by = 'null_percentage')"
   ]
  },
  {
   "cell_type": "markdown",
   "metadata": {},
   "source": [
    "Obeservation : We see  OCCUPATION_TYPE value still has 31 % missign value \n",
    "\n",
    "- Let analyse this attribute to look at the categories deeply"
   ]
  },
  {
   "cell_type": "code",
   "execution_count": null,
   "metadata": {},
   "outputs": [],
   "source": [
    "application['OCCUPATION_TYPE'].value_counts(normalize=True)*100"
   ]
  },
  {
   "cell_type": "code",
   "execution_count": null,
   "metadata": {},
   "outputs": [],
   "source": [
    "# plot the values for visualizations \n",
    "\n",
    "plt.figure(figsize = (10,5))\n",
    "sns.countplot(data = application, x = \"OCCUPATION_TYPE\")\n",
    "plt.xticks(rotation = 90)\n",
    "plt.show()"
   ]
  },
  {
   "cell_type": "markdown",
   "metadata": {},
   "source": [
    "Observations : \n",
    "\n",
    "    - Laborers has the highest number of loan applicants\n",
    "    - For imputation, \n",
    "        - Either fill the value has Laborers ; since it is hightest number of laon applicant value \n",
    "        - it would be better to leave the data as it is since missing values is 31.35% and we wont impute with any value , keep it in'Unknow'category for ease of analsysis "
   ]
  },
  {
   "cell_type": "code",
   "execution_count": null,
   "metadata": {},
   "outputs": [],
   "source": [
    "# Not imputing with any values  - So Impute NULL values with Unknown category\n",
    "\n",
    "application['OCCUPATION_TYPE'].fillna(value = 'Unknown', inplace = True)"
   ]
  },
  {
   "cell_type": "code",
   "execution_count": null,
   "metadata": {},
   "outputs": [],
   "source": []
  },
  {
   "cell_type": "markdown",
   "metadata": {},
   "source": [
    "Analysis of EXT_SOURCE_3 column"
   ]
  },
  {
   "cell_type": "code",
   "execution_count": null,
   "metadata": {},
   "outputs": [],
   "source": [
    "application.EXT_SOURCE_3.value_counts()"
   ]
  },
  {
   "cell_type": "code",
   "execution_count": null,
   "metadata": {},
   "outputs": [],
   "source": [
    "# Analysis of EXT_SOURCE_3 column ; It has 19.83% of missing value \n",
    "# this is a non - categorical attribute \n",
    "# so we will plot box plt to observe\n",
    "\n",
    "\n",
    "sns.boxplot(application['EXT_SOURCE_3'])\n",
    "plt.show()"
   ]
  },
  {
   "cell_type": "code",
   "execution_count": null,
   "metadata": {},
   "outputs": [],
   "source": [
    "# Getting percentile values for the attribute\n",
    "\n",
    "application['EXT_SOURCE_3'].describe()\n",
    "\n",
    "# application['EXT_SOURCE_3'].quantile(q = [0.25,0.5,0.75,1])"
   ]
  },
  {
   "cell_type": "code",
   "execution_count": null,
   "metadata": {},
   "outputs": [],
   "source": [
    "# check for mean \n",
    "\n",
    "application['EXT_SOURCE_3'].mean()"
   ]
  },
  {
   "cell_type": "code",
   "execution_count": null,
   "metadata": {},
   "outputs": [],
   "source": [
    "# chcek for mode \n",
    "\n",
    "application['EXT_SOURCE_3'].mode()"
   ]
  },
  {
   "cell_type": "code",
   "execution_count": null,
   "metadata": {},
   "outputs": [],
   "source": [
    "# chcek for median \n",
    "\n",
    "application['EXT_SOURCE_3'].median()"
   ]
  },
  {
   "cell_type": "markdown",
   "metadata": {},
   "source": [
    "\n",
    "Obeservation : \n",
    "    \n",
    "    - Mean VAlue is 0.51 \n",
    "    - Mode value is 0.75\n",
    "    - Median value is 0.53\n",
    "    \n",
    "    - Mean and Median are closer and we can use this to imput the missing values ( if necessary ) \n",
    "    \n",
    "    - Here since the missing vaue is 19% , we would leave the data as such , rather than  imputation of the value"
   ]
  },
  {
   "cell_type": "code",
   "execution_count": null,
   "metadata": {},
   "outputs": [],
   "source": []
  },
  {
   "cell_type": "markdown",
   "metadata": {},
   "source": [
    "We see their are 6 coulmns with same misisgn value ; i.e 13.5% and these are the non categorical varibales"
   ]
  },
  {
   "cell_type": "code",
   "execution_count": null,
   "metadata": {},
   "outputs": [],
   "source": [
    "application[['AMT_REQ_CREDIT_BUREAU_YEAR',\n",
    "                'AMT_REQ_CREDIT_BUREAU_QRT',\n",
    "                'AMT_REQ_CREDIT_BUREAU_MON',\n",
    "                'AMT_REQ_CREDIT_BUREAU_WEEK',\n",
    "                'AMT_REQ_CREDIT_BUREAU_DAY',\n",
    "                'AMT_REQ_CREDIT_BUREAU_HOUR']].describe()"
   ]
  },
  {
   "cell_type": "code",
   "execution_count": null,
   "metadata": {},
   "outputs": [],
   "source": [
    "application[['AMT_REQ_CREDIT_BUREAU_YEAR',\n",
    "                'AMT_REQ_CREDIT_BUREAU_QRT',\n",
    "                'AMT_REQ_CREDIT_BUREAU_MON',\n",
    "                'AMT_REQ_CREDIT_BUREAU_WEEK',\n",
    "                'AMT_REQ_CREDIT_BUREAU_DAY',\n",
    "                'AMT_REQ_CREDIT_BUREAU_HOUR']].quantile(q = [0.25,0.5,0.75,1])"
   ]
  },
  {
   "cell_type": "code",
   "execution_count": null,
   "metadata": {},
   "outputs": [],
   "source": [
    "# chcek for the mode\n",
    "\n",
    "application[['AMT_REQ_CREDIT_BUREAU_YEAR',\n",
    "                'AMT_REQ_CREDIT_BUREAU_QRT',\n",
    "                'AMT_REQ_CREDIT_BUREAU_MON',\n",
    "                'AMT_REQ_CREDIT_BUREAU_WEEK',\n",
    "                'AMT_REQ_CREDIT_BUREAU_DAY',\n",
    "                'AMT_REQ_CREDIT_BUREAU_HOUR']].mode()"
   ]
  },
  {
   "cell_type": "code",
   "execution_count": null,
   "metadata": {},
   "outputs": [],
   "source": [
    "# check fro mean \n",
    "\n",
    "application[['AMT_REQ_CREDIT_BUREAU_YEAR',\n",
    "                'AMT_REQ_CREDIT_BUREAU_QRT',\n",
    "                'AMT_REQ_CREDIT_BUREAU_MON',\n",
    "                'AMT_REQ_CREDIT_BUREAU_WEEK',\n",
    "                'AMT_REQ_CREDIT_BUREAU_DAY',\n",
    "                'AMT_REQ_CREDIT_BUREAU_HOUR']].mean()"
   ]
  },
  {
   "cell_type": "code",
   "execution_count": null,
   "metadata": {},
   "outputs": [],
   "source": [
    "# chcek fro median \n",
    "\n",
    "application[['AMT_REQ_CREDIT_BUREAU_YEAR',\n",
    "                'AMT_REQ_CREDIT_BUREAU_QRT',\n",
    "                'AMT_REQ_CREDIT_BUREAU_MON',\n",
    "                'AMT_REQ_CREDIT_BUREAU_WEEK',\n",
    "                'AMT_REQ_CREDIT_BUREAU_DAY',\n",
    "                'AMT_REQ_CREDIT_BUREAU_HOUR']].median()"
   ]
  },
  {
   "cell_type": "markdown",
   "metadata": {},
   "source": [
    "Observations for the below columns\n",
    "\n",
    "- AMT_REQ_CREDIT_BUREAU_YEAR  \n",
    "        Mean is 1.899974 and Median is 1.000000\n",
    "        Mode is 0\n",
    "        We wont impute as missing values are higher (13.50%) \n",
    "        \n",
    "- AMT_REQ_CREDIT_BUREAU_QRT\n",
    "        Mean is 0.265474 and Median is 0\n",
    "        Mode is 0\n",
    "        We wont impute as missing values are higher (13.50%) \n",
    "\n",
    "- AMT_REQ_CREDIT_BUREAU_MON\n",
    "        Mean is 0.267395 and Median is 0\n",
    "        Mode is 0\n",
    "        We wont impute as missing values are higher (13.50%) \n",
    "\n",
    "- AMT_REQ_CREDIT_BUREAU_WEEK\n",
    "        Mean is 0.034362 and Median is 0\n",
    "        Mode is 0\n",
    "       We wont impute as missing values are higher (13.50%) \n",
    "- AMT_REQ_CREDIT_BUREAU_DAY\n",
    "        Mean is 0.007000 and Median is 0\n",
    "        Mode is 0\n",
    "        We wont impute as missing values are higher (13.50%) \n",
    "\n",
    "- AMT_REQ_CREDIT_BUREAU_HOUR\n",
    "        Mean is 0.006402 and Median is 0\n",
    "        Mode is 0\n",
    "        We wont impute as missing values are higher (13.50%) "
   ]
  },
  {
   "cell_type": "code",
   "execution_count": null,
   "metadata": {},
   "outputs": [],
   "source": []
  },
  {
   "cell_type": "markdown",
   "metadata": {},
   "source": [
    "The remaining attributes have missing value between : Missing  values > 0% and < 1% "
   ]
  },
  {
   "cell_type": "code",
   "execution_count": null,
   "metadata": {},
   "outputs": [],
   "source": [
    "Miss_less_df = null_application[(null_application['null_percentage'] > 0) & (null_application['null_percentage'] < 1)]"
   ]
  },
  {
   "cell_type": "code",
   "execution_count": null,
   "metadata": {},
   "outputs": [],
   "source": [
    "Miss_less_df.sort_values(by = 'null_percentage', ascending = False)"
   ]
  },
  {
   "cell_type": "code",
   "execution_count": null,
   "metadata": {},
   "outputs": [],
   "source": [
    "#Lets analyse one by one and see if we need to impute these above attributes \n",
    "\n",
    "\n"
   ]
  },
  {
   "cell_type": "code",
   "execution_count": null,
   "metadata": {},
   "outputs": [],
   "source": [
    "# Analysis of NAME_TYPE_SUITE column \n",
    "\n",
    "application['NAME_TYPE_SUITE'].value_counts()"
   ]
  },
  {
   "cell_type": "code",
   "execution_count": null,
   "metadata": {},
   "outputs": [],
   "source": [
    "plt.figure(figsize = (10,5))\n",
    "sns.countplot(data = application, x = \"NAME_TYPE_SUITE\")\n",
    "plt.xticks(rotation = 90)\n",
    "plt.show()"
   ]
  },
  {
   "cell_type": "markdown",
   "metadata": {},
   "source": [
    "\n",
    "Observation : \n",
    "    \n",
    "    - we see \"Unaccompanied\" category has the highest number of loan applicant , looks like loan applicant comes alone to         apply for loan \n",
    "    \n",
    "    - We can impute this to the missing values "
   ]
  },
  {
   "cell_type": "code",
   "execution_count": null,
   "metadata": {},
   "outputs": [],
   "source": [
    "\n",
    "# impute \"Unaccompied\" to the missing value \n",
    "\n",
    "application['NAME_TYPE_SUITE'].fillna(value = 'Unaccompanied', inplace = True)"
   ]
  },
  {
   "cell_type": "code",
   "execution_count": null,
   "metadata": {},
   "outputs": [],
   "source": [
    "\n",
    "plt.figure(figsize = (10,5))\n",
    "sns.countplot(data = application, x = \"NAME_TYPE_SUITE\")\n",
    "plt.xticks(rotation = 90)\n",
    "plt.show()\n"
   ]
  },
  {
   "cell_type": "code",
   "execution_count": null,
   "metadata": {},
   "outputs": [],
   "source": [
    "application['NAME_TYPE_SUITE'].value_counts()"
   ]
  },
  {
   "cell_type": "code",
   "execution_count": null,
   "metadata": {},
   "outputs": [],
   "source": []
  },
  {
   "cell_type": "markdown",
   "metadata": {},
   "source": [
    "Analysis of OBS_30_CNT_SOCIAL_CIRCLE column"
   ]
  },
  {
   "cell_type": "code",
   "execution_count": null,
   "metadata": {},
   "outputs": [],
   "source": [
    "application['OBS_30_CNT_SOCIAL_CIRCLE'].describe()"
   ]
  },
  {
   "cell_type": "code",
   "execution_count": null,
   "metadata": {},
   "outputs": [],
   "source": [
    "sns.boxplot(application['OBS_30_CNT_SOCIAL_CIRCLE'])\n",
    "plt.show()"
   ]
  },
  {
   "cell_type": "code",
   "execution_count": null,
   "metadata": {},
   "outputs": [],
   "source": [
    "application['OBS_30_CNT_SOCIAL_CIRCLE'].mean()"
   ]
  },
  {
   "cell_type": "code",
   "execution_count": null,
   "metadata": {},
   "outputs": [],
   "source": [
    "application['OBS_30_CNT_SOCIAL_CIRCLE'].mode()"
   ]
  },
  {
   "cell_type": "code",
   "execution_count": null,
   "metadata": {},
   "outputs": [],
   "source": [
    "application['OBS_30_CNT_SOCIAL_CIRCLE'].median()"
   ]
  },
  {
   "cell_type": "markdown",
   "metadata": {},
   "source": [
    "Observations\n",
    "\n",
    "- Median is 0.0\n",
    "- MODE is 0.0\n",
    "- Mean is 1.42\n",
    "- There are two outlier values , which lies at 50 and 350.\n",
    "\n",
    "\n",
    "Conclusion - Mean can be used for imputation. \n"
   ]
  },
  {
   "cell_type": "code",
   "execution_count": null,
   "metadata": {},
   "outputs": [],
   "source": [
    "# fill the missignvalue , here we are using mean \n",
    "application['OBS_30_CNT_SOCIAL_CIRCLE'].fillna(value = 1.42, inplace = True)"
   ]
  },
  {
   "cell_type": "markdown",
   "metadata": {},
   "source": [
    "Analysis of DEF_30_CNT_SOCIAL_CIRCLE column"
   ]
  },
  {
   "cell_type": "code",
   "execution_count": null,
   "metadata": {},
   "outputs": [],
   "source": [
    "application.DEF_30_CNT_SOCIAL_CIRCLE.value_counts().describe()"
   ]
  },
  {
   "cell_type": "code",
   "execution_count": null,
   "metadata": {},
   "outputs": [],
   "source": [
    "sns.boxplot(application['DEF_30_CNT_SOCIAL_CIRCLE'])\n",
    "plt.show()"
   ]
  },
  {
   "cell_type": "code",
   "execution_count": null,
   "metadata": {},
   "outputs": [],
   "source": [
    "application['DEF_30_CNT_SOCIAL_CIRCLE'].quantile(q = [0.25,0.5,0.75,0.99,1])"
   ]
  },
  {
   "cell_type": "code",
   "execution_count": null,
   "metadata": {},
   "outputs": [],
   "source": [
    "application['DEF_30_CNT_SOCIAL_CIRCLE'].mean()"
   ]
  },
  {
   "cell_type": "code",
   "execution_count": null,
   "metadata": {},
   "outputs": [],
   "source": [
    "application['DEF_30_CNT_SOCIAL_CIRCLE'].mode()"
   ]
  },
  {
   "cell_type": "code",
   "execution_count": null,
   "metadata": {},
   "outputs": [],
   "source": [
    "application['DEF_30_CNT_SOCIAL_CIRCLE'].median()"
   ]
  },
  {
   "cell_type": "markdown",
   "metadata": {},
   "source": [
    "Observations:\n",
    " \n",
    "  - Median is 0.0\n",
    "  - Mode is 0.0\n",
    "  - Mean value is 0.15\n",
    "  - Even 99th percentile value is 2. There are 10 outliers.\n",
    "  \n",
    "  - Mean can be used for imputation. It will not introduce bias as the missing value percentage is small (0.33%)"
   ]
  },
  {
   "cell_type": "code",
   "execution_count": null,
   "metadata": {},
   "outputs": [],
   "source": [
    "application['DEF_30_CNT_SOCIAL_CIRCLE'].fillna(value = 0.15, inplace = True)"
   ]
  },
  {
   "cell_type": "code",
   "execution_count": null,
   "metadata": {},
   "outputs": [],
   "source": []
  },
  {
   "cell_type": "code",
   "execution_count": null,
   "metadata": {},
   "outputs": [],
   "source": []
  },
  {
   "cell_type": "markdown",
   "metadata": {},
   "source": [
    "Analysis of OBS_60_CNT_SOCIAL_CIRCLE column"
   ]
  },
  {
   "cell_type": "code",
   "execution_count": null,
   "metadata": {},
   "outputs": [],
   "source": [
    "application['OBS_60_CNT_SOCIAL_CIRCLE'].describe()"
   ]
  },
  {
   "cell_type": "code",
   "execution_count": null,
   "metadata": {},
   "outputs": [],
   "source": [
    "sns.boxplot(application['OBS_60_CNT_SOCIAL_CIRCLE'])\n",
    "plt.show()"
   ]
  },
  {
   "cell_type": "code",
   "execution_count": null,
   "metadata": {},
   "outputs": [],
   "source": [
    "application['OBS_60_CNT_SOCIAL_CIRCLE'].quantile(q = [0.25,0.5,0.75,0.99,1])"
   ]
  },
  {
   "cell_type": "code",
   "execution_count": null,
   "metadata": {},
   "outputs": [],
   "source": [
    "application['OBS_60_CNT_SOCIAL_CIRCLE'].mean()"
   ]
  },
  {
   "cell_type": "code",
   "execution_count": null,
   "metadata": {},
   "outputs": [],
   "source": [
    "application['OBS_60_CNT_SOCIAL_CIRCLE'].mode()"
   ]
  },
  {
   "cell_type": "code",
   "execution_count": null,
   "metadata": {},
   "outputs": [],
   "source": [
    "application['OBS_60_CNT_SOCIAL_CIRCLE'].median()"
   ]
  },
  {
   "cell_type": "markdown",
   "metadata": {},
   "source": [
    "Observations:\n",
    "\n",
    " - median is 0.0\n",
    " - Mode is 0.0\n",
    " - Mean value is 1.41\n",
    " - There are 2 outliers. - 50 and 350 approximately \n",
    " - Mean can be used for imputation. "
   ]
  },
  {
   "cell_type": "code",
   "execution_count": null,
   "metadata": {},
   "outputs": [],
   "source": [
    "application['OBS_60_CNT_SOCIAL_CIRCLE'].fillna(value = 1.41, inplace = True)"
   ]
  },
  {
   "cell_type": "code",
   "execution_count": null,
   "metadata": {},
   "outputs": [],
   "source": []
  },
  {
   "cell_type": "code",
   "execution_count": null,
   "metadata": {},
   "outputs": [],
   "source": []
  },
  {
   "cell_type": "code",
   "execution_count": null,
   "metadata": {},
   "outputs": [],
   "source": []
  },
  {
   "cell_type": "markdown",
   "metadata": {},
   "source": [
    "Analysis of DEF_60_CNT_SOCIAL_CIRCLE column"
   ]
  },
  {
   "cell_type": "code",
   "execution_count": null,
   "metadata": {},
   "outputs": [],
   "source": [
    "application['DEF_60_CNT_SOCIAL_CIRCLE'].value_counts().head()"
   ]
  },
  {
   "cell_type": "code",
   "execution_count": null,
   "metadata": {},
   "outputs": [],
   "source": [
    "application['DEF_60_CNT_SOCIAL_CIRCLE'].describe()"
   ]
  },
  {
   "cell_type": "code",
   "execution_count": null,
   "metadata": {},
   "outputs": [],
   "source": [
    "sns.boxplot(application['DEF_60_CNT_SOCIAL_CIRCLE'])\n",
    "plt.show()"
   ]
  },
  {
   "cell_type": "code",
   "execution_count": null,
   "metadata": {},
   "outputs": [],
   "source": [
    "application['DEF_60_CNT_SOCIAL_CIRCLE'].mean()"
   ]
  },
  {
   "cell_type": "code",
   "execution_count": null,
   "metadata": {},
   "outputs": [],
   "source": [
    "application['DEF_60_CNT_SOCIAL_CIRCLE'].mode()"
   ]
  },
  {
   "cell_type": "code",
   "execution_count": null,
   "metadata": {},
   "outputs": [],
   "source": [
    "application['DEF_60_CNT_SOCIAL_CIRCLE'].median()"
   ]
  },
  {
   "cell_type": "code",
   "execution_count": null,
   "metadata": {},
   "outputs": [],
   "source": []
  },
  {
   "cell_type": "markdown",
   "metadata": {},
   "source": [
    "#### Observations\n",
    "\n",
    " - Looking at the boxplot, median is 0.0\n",
    " - Most recurring value is 0.0\n",
    " - Mean value is 0.10\n",
    " -  There are 8 outliers , the farthest of which is 24 appromiately. \n",
    " - Mean can be used for imputation."
   ]
  },
  {
   "cell_type": "code",
   "execution_count": null,
   "metadata": {},
   "outputs": [],
   "source": [
    "application['DEF_60_CNT_SOCIAL_CIRCLE'].fillna(value = 1.10, inplace = True)"
   ]
  },
  {
   "cell_type": "code",
   "execution_count": null,
   "metadata": {},
   "outputs": [],
   "source": []
  },
  {
   "cell_type": "markdown",
   "metadata": {},
   "source": [
    "Analysis of EXT_SOURCE_2 column"
   ]
  },
  {
   "cell_type": "code",
   "execution_count": null,
   "metadata": {},
   "outputs": [],
   "source": [
    "application['EXT_SOURCE_2'].describe()"
   ]
  },
  {
   "cell_type": "code",
   "execution_count": null,
   "metadata": {},
   "outputs": [],
   "source": [
    "sns.boxplot(application['EXT_SOURCE_2'])\n",
    "plt.show()"
   ]
  },
  {
   "cell_type": "code",
   "execution_count": null,
   "metadata": {},
   "outputs": [],
   "source": [
    "application['EXT_SOURCE_2'].mean()"
   ]
  },
  {
   "cell_type": "code",
   "execution_count": null,
   "metadata": {},
   "outputs": [],
   "source": [
    "application['EXT_SOURCE_2'].mode()"
   ]
  },
  {
   "cell_type": "code",
   "execution_count": null,
   "metadata": {},
   "outputs": [],
   "source": [
    "application['EXT_SOURCE_2'].median()"
   ]
  },
  {
   "cell_type": "markdown",
   "metadata": {},
   "source": [
    "Observations\n",
    "\n",
    "-  median is 0.57\n",
    "- mode is 0.29\n",
    "- Mean value is 0.51\n",
    "- There is no outlier in the dataset\n",
    "- Mean  can be used for imputation. "
   ]
  },
  {
   "cell_type": "code",
   "execution_count": null,
   "metadata": {},
   "outputs": [],
   "source": [
    "application['EXT_SOURCE_2'].fillna(value = 0.51, inplace = True)"
   ]
  },
  {
   "cell_type": "code",
   "execution_count": null,
   "metadata": {},
   "outputs": [],
   "source": []
  },
  {
   "cell_type": "code",
   "execution_count": null,
   "metadata": {},
   "outputs": [],
   "source": []
  },
  {
   "cell_type": "markdown",
   "metadata": {},
   "source": [
    "Analysis of AMT_GOODS_PRICE column"
   ]
  },
  {
   "cell_type": "code",
   "execution_count": null,
   "metadata": {},
   "outputs": [],
   "source": [
    "application['AMT_GOODS_PRICE'].describe()"
   ]
  },
  {
   "cell_type": "code",
   "execution_count": null,
   "metadata": {},
   "outputs": [],
   "source": [
    "sns.boxplot(application['AMT_GOODS_PRICE'])\n",
    "plt.show()"
   ]
  },
  {
   "cell_type": "code",
   "execution_count": null,
   "metadata": {},
   "outputs": [],
   "source": [
    "application['AMT_GOODS_PRICE'].mean()"
   ]
  },
  {
   "cell_type": "code",
   "execution_count": null,
   "metadata": {},
   "outputs": [],
   "source": [
    "application['AMT_GOODS_PRICE'].mode()"
   ]
  },
  {
   "cell_type": "code",
   "execution_count": null,
   "metadata": {},
   "outputs": [],
   "source": [
    "application['AMT_GOODS_PRICE'].median()"
   ]
  },
  {
   "cell_type": "markdown",
   "metadata": {},
   "source": [
    "Observations\n",
    "\n",
    "- median is 450000\n",
    "- mode is 450000 -  So median and mode are the same\n",
    "- Mean value is 538396.21\n",
    "- Mean can be used for imputation. "
   ]
  },
  {
   "cell_type": "code",
   "execution_count": null,
   "metadata": {},
   "outputs": [],
   "source": [
    "application.fillna(value=538396.21,inplace=True)"
   ]
  },
  {
   "cell_type": "code",
   "execution_count": null,
   "metadata": {},
   "outputs": [],
   "source": []
  },
  {
   "cell_type": "code",
   "execution_count": null,
   "metadata": {},
   "outputs": [],
   "source": []
  },
  {
   "cell_type": "markdown",
   "metadata": {},
   "source": [
    "# Impute Incorrect values presnt in the variables "
   ]
  },
  {
   "cell_type": "markdown",
   "metadata": {},
   "source": [
    "Analysis of CODE_GENDER column"
   ]
  },
  {
   "cell_type": "code",
   "execution_count": null,
   "metadata": {},
   "outputs": [],
   "source": [
    "application['CODE_GENDER'].value_counts(normalize=True)*100"
   ]
  },
  {
   "cell_type": "code",
   "execution_count": null,
   "metadata": {},
   "outputs": [],
   "source": [
    "application[application['CODE_GENDER'] == 'XNA']"
   ]
  },
  {
   "cell_type": "markdown",
   "metadata": {},
   "source": [
    "Obervation : \n",
    "    \n",
    "    - As data looks valid, we will go ahead and check for an imputation method.\n",
    "        - Female applicants are twice the number of Male applicants; so we will go ahead and impute CODE_GENDER with 'F'"
   ]
  },
  {
   "cell_type": "code",
   "execution_count": null,
   "metadata": {},
   "outputs": [],
   "source": [
    "application['CODE_GENDER'] = application['CODE_GENDER'].apply(lambda x: 'F' if x == 'XNA' else x)"
   ]
  },
  {
   "cell_type": "code",
   "execution_count": null,
   "metadata": {},
   "outputs": [],
   "source": [
    "# chcek if values are filled\n",
    "\n",
    "application['CODE_GENDER'].value_counts(normalize=True)*100"
   ]
  },
  {
   "cell_type": "markdown",
   "metadata": {},
   "source": [
    "Mising values are imputed and treated ; No null vlaue presnet in the gender cloumn "
   ]
  },
  {
   "cell_type": "code",
   "execution_count": null,
   "metadata": {},
   "outputs": [],
   "source": []
  },
  {
   "cell_type": "markdown",
   "metadata": {},
   "source": [
    "Analysis of DAYS_BIRTH column"
   ]
  },
  {
   "cell_type": "code",
   "execution_count": null,
   "metadata": {},
   "outputs": [],
   "source": [
    "application['DAYS_BIRTH'].value_counts(normalize=True)*100\n",
    "\n",
    "# application['DAYS_BIRTH'].nunique()"
   ]
  },
  {
   "cell_type": "markdown",
   "metadata": {},
   "source": [
    "There are 17460 unique records all of which seem to be having negative values"
   ]
  },
  {
   "cell_type": "code",
   "execution_count": null,
   "metadata": {},
   "outputs": [],
   "source": [
    "# convert -ve to + ve  days \n",
    "\n",
    "application['DAYS_BIRTH'] = application['DAYS_BIRTH'].apply(lambda x: -x if x < 0 else x)"
   ]
  },
  {
   "cell_type": "code",
   "execution_count": null,
   "metadata": {},
   "outputs": [],
   "source": [
    "# rechcek fro -ve values \n",
    "\n",
    "application['DAYS_BIRTH'].value_counts(normalize=True)*100"
   ]
  },
  {
   "cell_type": "markdown",
   "metadata": {},
   "source": [
    "Obervation : \n",
    "    \n",
    "    - All Days_birth column has been imputed with +ve values "
   ]
  },
  {
   "cell_type": "code",
   "execution_count": null,
   "metadata": {},
   "outputs": [],
   "source": [
    "application['DAYS_BIRTH'].head()"
   ]
  },
  {
   "cell_type": "markdown",
   "metadata": {},
   "source": [
    "EDA : We can create a new column AGE for ease of analysis "
   ]
  },
  {
   "cell_type": "code",
   "execution_count": null,
   "metadata": {},
   "outputs": [],
   "source": [
    "application['AGE'] = application['DAYS_BIRTH'].apply(lambda x: round(x/365))"
   ]
  },
  {
   "cell_type": "code",
   "execution_count": null,
   "metadata": {},
   "outputs": [],
   "source": [
    "application.head()"
   ]
  },
  {
   "cell_type": "markdown",
   "metadata": {},
   "source": [
    "Obervation : \n",
    "    \n",
    "    EDA , done on column DAYS_BIRTH and a new column AGE is created "
   ]
  },
  {
   "cell_type": "code",
   "execution_count": null,
   "metadata": {},
   "outputs": [],
   "source": []
  },
  {
   "cell_type": "code",
   "execution_count": null,
   "metadata": {},
   "outputs": [],
   "source": []
  },
  {
   "cell_type": "markdown",
   "metadata": {},
   "source": [
    "Analysis of NAME_FAMILY_STATUS column"
   ]
  },
  {
   "cell_type": "code",
   "execution_count": null,
   "metadata": {},
   "outputs": [],
   "source": [
    "application['NAME_FAMILY_STATUS'].value_counts(normalize=True)*100"
   ]
  },
  {
   "cell_type": "code",
   "execution_count": null,
   "metadata": {},
   "outputs": [],
   "source": [
    "application[application['NAME_FAMILY_STATUS'] == 'Unknown']"
   ]
  },
  {
   "cell_type": "code",
   "execution_count": null,
   "metadata": {},
   "outputs": [],
   "source": [
    "application['NAME_FAMILY_STATUS'].value_counts(normalize = True) * 100\n"
   ]
  },
  {
   "cell_type": "markdown",
   "metadata": {},
   "source": [
    "Obervation : \n",
    "    \n",
    "     -- Married applicants make up more than 63% of applicants.\n",
    "     -- Hence, we will go ahead and impute NAME_FAMILY_STATUS with 'Married'"
   ]
  },
  {
   "cell_type": "code",
   "execution_count": null,
   "metadata": {},
   "outputs": [],
   "source": [
    "# impute the value \n",
    "\n",
    "application['NAME_FAMILY_STATUS'] = application['NAME_FAMILY_STATUS'].apply(lambda x: 'Married' if x == 'Unknown' else x)"
   ]
  },
  {
   "cell_type": "code",
   "execution_count": null,
   "metadata": {},
   "outputs": [],
   "source": [
    "# recheck the null value  ; if presnet or not \n",
    "\n",
    "application['NAME_FAMILY_STATUS'].value_counts()"
   ]
  },
  {
   "cell_type": "code",
   "execution_count": null,
   "metadata": {},
   "outputs": [],
   "source": []
  },
  {
   "cell_type": "code",
   "execution_count": null,
   "metadata": {},
   "outputs": [],
   "source": []
  },
  {
   "cell_type": "markdown",
   "metadata": {},
   "source": [
    "Analysis of DAYS_EMPLOYED column "
   ]
  },
  {
   "cell_type": "code",
   "execution_count": null,
   "metadata": {},
   "outputs": [],
   "source": [
    "application['DAYS_EMPLOYED'].value_counts()"
   ]
  },
  {
   "cell_type": "code",
   "execution_count": null,
   "metadata": {},
   "outputs": [],
   "source": [
    "application['DAYS_EMPLOYED'].value_counts(normalize = True) * 100"
   ]
  },
  {
   "cell_type": "markdown",
   "metadata": {},
   "source": [
    "Oberavton : We see -ve values ; which ideally should not be the case"
   ]
  },
  {
   "cell_type": "code",
   "execution_count": null,
   "metadata": {},
   "outputs": [],
   "source": [
    "# chcek to see how many entires are there in -ve value \n",
    "\n",
    "len(application[application['DAYS_EMPLOYED'] < 0])"
   ]
  },
  {
   "cell_type": "markdown",
   "metadata": {},
   "source": [
    "We see there are 252137 data points , whos value is -ve "
   ]
  },
  {
   "cell_type": "code",
   "execution_count": null,
   "metadata": {},
   "outputs": [],
   "source": [
    "# lets check the unique value here \n",
    "\n",
    "application['DAYS_EMPLOYED'].nunique()"
   ]
  },
  {
   "cell_type": "code",
   "execution_count": null,
   "metadata": {},
   "outputs": [],
   "source": []
  },
  {
   "cell_type": "markdown",
   "metadata": {},
   "source": [
    "Observations: \n",
    "    \n",
    "    - 55374 data entries are valid ,days employed is 365243 days \n",
    "    - 252137 data entries are negative values for days employed\n",
    "    - there are 12574 unique values presnet in days employed \n",
    "    \n",
    "    We see lot of -ve values, considering entries where done wrong , by mistake , lets convert the -ve value to + ve value. "
   ]
  },
  {
   "cell_type": "code",
   "execution_count": null,
   "metadata": {},
   "outputs": [],
   "source": [
    "application['DAYS_EMPLOYED'] = application['DAYS_EMPLOYED'].apply(lambda x : -x if x < 0 else x)"
   ]
  },
  {
   "cell_type": "code",
   "execution_count": null,
   "metadata": {},
   "outputs": [],
   "source": [
    "#application['DAYS_EMPLOYED'].value_counts()\n",
    "len(application[application['DAYS_EMPLOYED'] < 0])\n"
   ]
  },
  {
   "cell_type": "markdown",
   "metadata": {},
   "source": [
    "Obervation : We see all the data entries have postive values now. "
   ]
  },
  {
   "cell_type": "code",
   "execution_count": null,
   "metadata": {},
   "outputs": [],
   "source": [
    "application['DAYS_EMPLOYED'].value_counts()"
   ]
  },
  {
   "cell_type": "code",
   "execution_count": null,
   "metadata": {},
   "outputs": [],
   "source": []
  },
  {
   "cell_type": "code",
   "execution_count": null,
   "metadata": {},
   "outputs": [],
   "source": [
    "application.info()"
   ]
  },
  {
   "cell_type": "code",
   "execution_count": null,
   "metadata": {},
   "outputs": [],
   "source": []
  },
  {
   "cell_type": "code",
   "execution_count": null,
   "metadata": {},
   "outputs": [],
   "source": [
    "application['NAME_INCOME_TYPE'].value_counts()"
   ]
  },
  {
   "cell_type": "code",
   "execution_count": null,
   "metadata": {},
   "outputs": [],
   "source": [
    "application['DAYS_EMPLOYED'].value_counts(normalize=True)*100"
   ]
  },
  {
   "cell_type": "markdown",
   "metadata": {},
   "source": [
    "Obervation : \n",
    "    \n",
    "    - In Days employed - 365243 days dosent looks valid , even though logcially its not possible to work for that many days \n",
    "    - We see that its 18% of the data avalibale, So we neither cannot ignore the same. \n",
    "    \n",
    "    - Unless, the applicnt is pensioner or unmemployed . \n",
    "    \n",
    "    - Lets check for the same with looking at the Income type of these data points \n",
    "    \n",
    "\n",
    "\n",
    "\n"
   ]
  },
  {
   "cell_type": "code",
   "execution_count": null,
   "metadata": {},
   "outputs": [],
   "source": [
    "# check to see the days employed values with 365243 days with income type column \n",
    "\n",
    "application[application['DAYS_EMPLOYED'] == 365243].NAME_INCOME_TYPE.value_counts()"
   ]
  },
  {
   "cell_type": "markdown",
   "metadata": {},
   "source": [
    "Observvatrion : Looks like we have Pensioner and also Unemployed applicant on this , so will can take to consideration . And no cahnges is required. "
   ]
  },
  {
   "cell_type": "code",
   "execution_count": null,
   "metadata": {},
   "outputs": [],
   "source": []
  },
  {
   "cell_type": "code",
   "execution_count": null,
   "metadata": {},
   "outputs": [],
   "source": [
    "# from the Days employyed , we can create a column on the years of experince / employed , which will ease our annalysis later \n",
    "\n",
    "application['YEAR_EMPLOYED'] = application['DAYS_EMPLOYED'].apply(lambda x : round(x/365))"
   ]
  },
  {
   "cell_type": "code",
   "execution_count": null,
   "metadata": {},
   "outputs": [],
   "source": [
    "application.head()"
   ]
  },
  {
   "cell_type": "code",
   "execution_count": null,
   "metadata": {},
   "outputs": [],
   "source": []
  },
  {
   "cell_type": "markdown",
   "metadata": {},
   "source": [
    "Observation : \n",
    "    \n",
    "    EDA - Cretaed a new column \"YEAR_EMPLOYED\" , from \"DAYS_EMPLOYED\""
   ]
  },
  {
   "cell_type": "code",
   "execution_count": null,
   "metadata": {},
   "outputs": [],
   "source": []
  },
  {
   "cell_type": "code",
   "execution_count": null,
   "metadata": {},
   "outputs": [],
   "source": []
  },
  {
   "cell_type": "markdown",
   "metadata": {},
   "source": [
    "Analysis of DAYS_REGISTRATION column"
   ]
  },
  {
   "cell_type": "code",
   "execution_count": null,
   "metadata": {},
   "outputs": [],
   "source": [
    "application['DAYS_REGISTRATION'].value_counts(normalize=True)"
   ]
  },
  {
   "cell_type": "markdown",
   "metadata": {},
   "source": [
    "Obervation : \n",
    "    \n",
    "    We see -ve values here , Unlike to be these values . \n",
    "    So lets convert the same to +ve values "
   ]
  },
  {
   "cell_type": "code",
   "execution_count": null,
   "metadata": {},
   "outputs": [],
   "source": [
    "application['DAYS_REGISTRATION'] =  application['DAYS_REGISTRATION'].apply(lambda x : -x if x < 0 else x)"
   ]
  },
  {
   "cell_type": "code",
   "execution_count": null,
   "metadata": {},
   "outputs": [],
   "source": [
    "application['DAYS_REGISTRATION'].value_counts(normalize=True)"
   ]
  },
  {
   "cell_type": "markdown",
   "metadata": {},
   "source": [
    "Oberavtion  : Converted DAYS_REGISTRATION to positive days"
   ]
  },
  {
   "cell_type": "code",
   "execution_count": null,
   "metadata": {},
   "outputs": [],
   "source": [
    "# craete a column to get the year of registration for ease of analysis \n",
    "\n",
    "application['YEAR_REGISTRATION'] =  application['DAYS_REGISTRATION'].apply(lambda x : round(x/365))\n",
    "\n",
    "application.head()"
   ]
  },
  {
   "cell_type": "markdown",
   "metadata": {},
   "source": [
    "observation : \n",
    "    \n",
    "    - EDA : on Year of registration , using days of registration cloumn "
   ]
  },
  {
   "cell_type": "code",
   "execution_count": null,
   "metadata": {},
   "outputs": [],
   "source": []
  },
  {
   "cell_type": "code",
   "execution_count": null,
   "metadata": {},
   "outputs": [],
   "source": []
  },
  {
   "cell_type": "markdown",
   "metadata": {},
   "source": [
    "Analysis of DAYS_ID_PUBLISH column"
   ]
  },
  {
   "cell_type": "code",
   "execution_count": null,
   "metadata": {},
   "outputs": [],
   "source": [
    "application['DAYS_ID_PUBLISH'].value_counts(normalize=True)"
   ]
  },
  {
   "cell_type": "code",
   "execution_count": null,
   "metadata": {},
   "outputs": [],
   "source": [
    "application['DAYS_ID_PUBLISH'] = application['DAYS_ID_PUBLISH'].apply(lambda x : -x if x < 0 else x)"
   ]
  },
  {
   "cell_type": "code",
   "execution_count": null,
   "metadata": {},
   "outputs": [],
   "source": [
    "application['DAYS_ID_PUBLISH'].value_counts(normalize=True)"
   ]
  },
  {
   "cell_type": "markdown",
   "metadata": {},
   "source": [
    "Observation : \n",
    "    \n",
    "    - -ve values are converted to + ve values \n",
    "    - And we can create a new column , on this variable ,to know the year of publish , which ease the analysis"
   ]
  },
  {
   "cell_type": "code",
   "execution_count": null,
   "metadata": {},
   "outputs": [],
   "source": [
    "# Creating a new column YEARS_ID_PUBLISH  using DAYS_ID_PUBLISH.\n",
    "application['YEARS_ID_PUBLISH'] = application['DAYS_ID_PUBLISH'].apply(lambda x: round(x/365))"
   ]
  },
  {
   "cell_type": "code",
   "execution_count": null,
   "metadata": {},
   "outputs": [],
   "source": [
    "application.head()"
   ]
  },
  {
   "cell_type": "code",
   "execution_count": null,
   "metadata": {},
   "outputs": [],
   "source": []
  },
  {
   "cell_type": "markdown",
   "metadata": {},
   "source": [
    "Obseravtion :  EDA  Performed on DAYS_ID_PUBLISH , to create YEARS_ID_PUBLISH"
   ]
  },
  {
   "cell_type": "code",
   "execution_count": null,
   "metadata": {},
   "outputs": [],
   "source": []
  },
  {
   "cell_type": "code",
   "execution_count": null,
   "metadata": {},
   "outputs": [],
   "source": []
  },
  {
   "cell_type": "markdown",
   "metadata": {},
   "source": [
    "Analysis of DAYS_LAST_PHONE_CHANGE column"
   ]
  },
  {
   "cell_type": "code",
   "execution_count": null,
   "metadata": {},
   "outputs": [],
   "source": [
    "application['DAYS_LAST_PHONE_CHANGE'].value_counts(normalize=True)"
   ]
  },
  {
   "cell_type": "code",
   "execution_count": null,
   "metadata": {},
   "outputs": [],
   "source": [
    "application['DAYS_LAST_PHONE_CHANGE'] = application['DAYS_LAST_PHONE_CHANGE'].apply(lambda x : -x if x < 0 else x)\n",
    "\n",
    "application['DAYS_LAST_PHONE_CHANGE'].value_counts(normalize=True)"
   ]
  },
  {
   "cell_type": "code",
   "execution_count": null,
   "metadata": {},
   "outputs": [],
   "source": []
  },
  {
   "cell_type": "markdown",
   "metadata": {},
   "source": [
    "Obervation : All Data enties in  DAYS_LAST_PHONE_CHANGE have been changed to positive values"
   ]
  },
  {
   "cell_type": "code",
   "execution_count": null,
   "metadata": {},
   "outputs": [],
   "source": [
    "# crete a new column for YEars Last phone change \n",
    "\n",
    "application['YEARS_LAST_PHONE_CHANGE'] = application['DAYS_LAST_PHONE_CHANGE'].apply(lambda x: round(x/365))"
   ]
  },
  {
   "cell_type": "code",
   "execution_count": null,
   "metadata": {},
   "outputs": [],
   "source": [
    "application.head()"
   ]
  },
  {
   "cell_type": "markdown",
   "metadata": {},
   "source": [
    "Observation : \n",
    "    \n",
    "    EDA done on DAYS_LAST_PHONE_CHANGE , and a new attribute YEARS_LAST_PHONE_CHANGE is created . "
   ]
  },
  {
   "cell_type": "code",
   "execution_count": null,
   "metadata": {},
   "outputs": [],
   "source": []
  },
  {
   "cell_type": "code",
   "execution_count": null,
   "metadata": {},
   "outputs": [],
   "source": []
  },
  {
   "cell_type": "code",
   "execution_count": null,
   "metadata": {},
   "outputs": [],
   "source": [
    "application.info()"
   ]
  },
  {
   "cell_type": "code",
   "execution_count": null,
   "metadata": {},
   "outputs": [],
   "source": []
  },
  {
   "cell_type": "code",
   "execution_count": null,
   "metadata": {},
   "outputs": [],
   "source": []
  },
  {
   "cell_type": "code",
   "execution_count": null,
   "metadata": {},
   "outputs": [],
   "source": []
  },
  {
   "cell_type": "markdown",
   "metadata": {},
   "source": [
    "# Outlier chcek   / Outlier Analysis"
   ]
  },
  {
   "cell_type": "markdown",
   "metadata": {},
   "source": [
    "Chcek for the Numeric varibales , if outliers are present \n",
    "\n",
    "\n",
    "Analysis of CNT_CHILDREN column"
   ]
  },
  {
   "cell_type": "code",
   "execution_count": null,
   "metadata": {},
   "outputs": [],
   "source": [
    "application['CNT_CHILDREN'].value_counts().sort_values(ascending = False)"
   ]
  },
  {
   "cell_type": "code",
   "execution_count": null,
   "metadata": {},
   "outputs": [],
   "source": [
    "application['CNT_CHILDREN'].value_counts(normalize = True)* 100\n"
   ]
  },
  {
   "cell_type": "code",
   "execution_count": null,
   "metadata": {},
   "outputs": [],
   "source": [
    "application[application['CNT_CHILDREN']>7].AGE.value_counts()\n"
   ]
  },
  {
   "cell_type": "code",
   "execution_count": null,
   "metadata": {},
   "outputs": [],
   "source": [
    "application[application['CNT_CHILDREN']>10].AGE.value_counts()"
   ]
  },
  {
   "cell_type": "markdown",
   "metadata": {},
   "source": [
    "Observations : \n",
    "\n",
    "- we can see that above 7 children, the count of applicants are very minimal .\n",
    "- Looking at the data for applicants with 10 children and above , the applicants are 30years and above  \n",
    "- There seems a one-off scenario , applicant age being 28 and that not possible logically and can be treated as an outlier\n"
   ]
  },
  {
   "cell_type": "code",
   "execution_count": null,
   "metadata": {},
   "outputs": [],
   "source": []
  },
  {
   "cell_type": "code",
   "execution_count": null,
   "metadata": {},
   "outputs": [],
   "source": []
  },
  {
   "cell_type": "code",
   "execution_count": null,
   "metadata": {},
   "outputs": [],
   "source": [
    "# Plot the distplt and box plot to look at the outlier more accurately\n",
    "\n",
    "\n",
    "plt.subplots(1,2 ,figsize = (20,8))\n",
    "plt.subplot(121)\n",
    "    \n",
    "sns.distplot(application['CNT_CHILDREN'], color = 'purple')\n",
    "pltname = 'Distplot of ' + 'CNT_CHILDREN'\n",
    "plt.title(pltname)\n",
    "\n",
    "plt.subplot(122)\n",
    "sns.boxplot(y = 'CNT_CHILDREN', data = application, fliersize = 10)\n",
    "pltname = 'Boxplot of ' + 'CNT_CHILDREN'\n",
    "plt.title(pltname)\n",
    "\n",
    "plt.tight_layout(pad = 4)\n",
    "plt.show()"
   ]
  },
  {
   "cell_type": "code",
   "execution_count": null,
   "metadata": {},
   "outputs": [],
   "source": [
    "# look at the Qualtile range \n",
    "\n",
    "Q1 = application['CNT_CHILDREN'].quantile(0.25)\n",
    "Q3 = application['CNT_CHILDREN'].quantile(0.75)\n",
    "IQR = Q3 - Q1\n",
    "\n",
    "# print(Q1)\n",
    "# print(Q3)\n",
    "print(IQR)"
   ]
  },
  {
   "cell_type": "code",
   "execution_count": null,
   "metadata": {},
   "outputs": [],
   "source": [
    "# chcek for the Oulier  : perform the IQR calulation , to chcek the min and Max value of outlier \n",
    "\n",
    "Min_value = (Q1 - 1.5 * IQR)\n",
    "Max_value = (Q3 + 1.5 * IQR)\n",
    "\n",
    "print(\"Min value before which outlier exist: {}\".format(Min_value))\n",
    "print(\"Max value after which outlier exist: {}\".format(Max_value))"
   ]
  },
  {
   "cell_type": "markdown",
   "metadata": {},
   "source": [
    "Observation  : \n",
    "\n",
    "- we see that Max value of outlier is above 2.5 . \n",
    "    \n",
    "- So to conclude this , we can look applicants with 3 or more childern has outliers. "
   ]
  },
  {
   "cell_type": "code",
   "execution_count": null,
   "metadata": {},
   "outputs": [],
   "source": []
  },
  {
   "cell_type": "code",
   "execution_count": null,
   "metadata": {},
   "outputs": [],
   "source": []
  },
  {
   "cell_type": "markdown",
   "metadata": {},
   "source": [
    "Analysis of AMT_INCOME_TOTAL column"
   ]
  },
  {
   "cell_type": "code",
   "execution_count": null,
   "metadata": {},
   "outputs": [],
   "source": [
    "application['AMT_INCOME_TOTAL'].value_counts(normalize = True).sort_values(ascending = False) * 100"
   ]
  },
  {
   "cell_type": "code",
   "execution_count": null,
   "metadata": {},
   "outputs": [],
   "source": [
    "# chcek the qualtile range \n",
    "\n",
    "application['AMT_INCOME_TOTAL'].describe()\n",
    "\n",
    "#application['AMT_INCOME_TOTAL'].describe(percentiles = [0.75,0.99,0.999])"
   ]
  },
  {
   "cell_type": "code",
   "execution_count": null,
   "metadata": {},
   "outputs": [],
   "source": [
    "# Plt the box plt and distplt to visualize \n",
    "\n",
    "\n",
    "plt.subplots(1,2 ,figsize = (20,8))\n",
    "plt.subplot(121)\n",
    "    \n",
    "sns.distplot(application['AMT_INCOME_TOTAL'], color = 'purple')\n",
    "pltname = 'Distplot of ' + 'AMT_INCOME_TOTAL'\n",
    "plt.title(pltname)\n",
    "\n",
    "plt.subplot(122)\n",
    "sns.boxplot(y = 'AMT_INCOME_TOTAL', data = application)\n",
    "pltname = 'Boxplot of ' + 'AMT_INCOME_TOTAL'\n",
    "plt.title(pltname)\n",
    "\n",
    "plt.tight_layout(pad = 4)\n",
    "plt.show()"
   ]
  },
  {
   "cell_type": "markdown",
   "metadata": {},
   "source": [
    "Observation : \n",
    "    - In box plot , we see an Outliers at a far around of 12 million "
   ]
  },
  {
   "cell_type": "code",
   "execution_count": null,
   "metadata": {},
   "outputs": [],
   "source": [
    "# chcek the lower percentile and see the quantile range value \n",
    "application['AMT_INCOME_TOTAL'].describe(percentiles = [0.75,0.95,0.99,0.999])"
   ]
  },
  {
   "cell_type": "markdown",
   "metadata": {},
   "source": [
    "observation : \n",
    "\n",
    "- we see at 99.9% we get a value which is 900K \n",
    "    \n",
    "- let chcek the plot at this range and observe the visulization "
   ]
  },
  {
   "cell_type": "code",
   "execution_count": null,
   "metadata": {},
   "outputs": [],
   "source": [
    "# Plt the box plt and distplt to visualize \n",
    "\n",
    "\n",
    "plt.subplots(1,2 ,figsize = (20,8))\n",
    "plt.subplot(121)\n",
    "    \n",
    "sns.distplot(application[application['AMT_INCOME_TOTAL'] < 900000 ].AMT_INCOME_TOTAL, color = 'blue')\n",
    "pltname = 'Distplot of ' + 'AMT_INCOME_TOTAL'\n",
    "plt.title(pltname)\n",
    "\n",
    "plt.subplot(122)\n",
    "sns.boxplot(y = application[application['AMT_INCOME_TOTAL'] < 900000 ].AMT_INCOME_TOTAL, data = application)\n",
    "pltname = 'Boxplot of ' + 'AMT_INCOME_TOTAL'\n",
    "plt.title(pltname)\n",
    "\n",
    "plt.tight_layout(pad = 4)\n",
    "plt.show()"
   ]
  },
  {
   "cell_type": "markdown",
   "metadata": {},
   "source": [
    "Observation : We are can clearly look at the plot and get the insight on outlier much better than the last ones. \n",
    "    \n",
    "   Conclusion  : we consider the income above 900K has outlier . "
   ]
  },
  {
   "cell_type": "code",
   "execution_count": null,
   "metadata": {},
   "outputs": [],
   "source": []
  },
  {
   "cell_type": "code",
   "execution_count": null,
   "metadata": {},
   "outputs": [],
   "source": []
  },
  {
   "cell_type": "markdown",
   "metadata": {},
   "source": [
    "Analysis of CNT_FAM_MEMBERS column"
   ]
  },
  {
   "cell_type": "code",
   "execution_count": null,
   "metadata": {},
   "outputs": [],
   "source": [
    "(application['CNT_FAM_MEMBERS'].value_counts(normalize=True)*100).sort_values(ascending = False)"
   ]
  },
  {
   "cell_type": "code",
   "execution_count": null,
   "metadata": {},
   "outputs": [],
   "source": [
    "# chcek for the qunatile range \n",
    "\n",
    "application['CNT_FAM_MEMBERS'].describe()"
   ]
  },
  {
   "cell_type": "code",
   "execution_count": null,
   "metadata": {},
   "outputs": [],
   "source": [
    "# try plotting the graph \n",
    "\n",
    "plt.subplots(1,2 ,figsize = (20,8))\n",
    "plt.subplot(121)\n",
    "    \n",
    "sns.distplot(application['CNT_FAM_MEMBERS'], color = 'green')\n",
    "pltname = 'Distplot of ' + 'CNT_FAM_MEMBERS'\n",
    "plt.ticklabel_format(style='plain', axis='x')\n",
    "plt.title(pltname)\n",
    "\n",
    "plt.subplot(122)\n",
    "sns.boxplot(y = application['CNT_FAM_MEMBERS'], data = application)\n",
    "pltname = 'Boxplot of ' + 'CNT_FAM_MEMBERS'\n",
    "plt.title(pltname)\n",
    "plt.tight_layout(pad = 4)\n",
    "plt.show()"
   ]
  },
  {
   "cell_type": "markdown",
   "metadata": {},
   "source": [
    "Observation :  We see outlier is far around 500000 and no much pattern found and box plot is not clearrly vivisble to get the conclusion "
   ]
  },
  {
   "cell_type": "code",
   "execution_count": null,
   "metadata": {},
   "outputs": [],
   "source": [
    "# chcek for the qunatile range \n",
    "\n",
    "application['CNT_FAM_MEMBERS'].describe(percentiles= [0.75,0.99,0.9999])"
   ]
  },
  {
   "cell_type": "code",
   "execution_count": null,
   "metadata": {},
   "outputs": [],
   "source": [
    "# try plotting the graph , with 99.9% percentile value.\n",
    "\n",
    "plt.subplots(1,2 ,figsize = (20,8))\n",
    "plt.subplot(121)\n",
    "    \n",
    "sns.distplot(application[application['CNT_FAM_MEMBERS'] <= 8].CNT_FAM_MEMBERS, color = 'green')\n",
    "pltname = 'Distplot of ' + 'CNT_FAM_MEMBERS'\n",
    "plt.ticklabel_format(style='plain', axis='x')\n",
    "plt.title(pltname)\n",
    "\n",
    "plt.subplot(122)\n",
    "sns.boxplot(y = application[application['CNT_FAM_MEMBERS'] <= 8].CNT_FAM_MEMBERS, data = application)\n",
    "pltname = 'Boxplot of ' + 'CNT_FAM_MEMBERS'\n",
    "plt.title(pltname)\n",
    "plt.tight_layout(pad = 4)\n",
    "plt.show()"
   ]
  },
  {
   "cell_type": "markdown",
   "metadata": {},
   "source": [
    "Obervation : We can see applicant with 5 or more family member are outliers. \n",
    "    \n",
    "    \n",
    "   Conclude : we consider family with 5 or more memebers has outliers."
   ]
  },
  {
   "cell_type": "code",
   "execution_count": null,
   "metadata": {},
   "outputs": [],
   "source": []
  },
  {
   "cell_type": "markdown",
   "metadata": {},
   "source": [
    "\n",
    "\n",
    "Analysis of AMT_ANNUITY column"
   ]
  },
  {
   "cell_type": "code",
   "execution_count": null,
   "metadata": {},
   "outputs": [],
   "source": [
    "application['AMT_ANNUITY'].value_counts(normalize=True).sort_values(ascending = False)*100"
   ]
  },
  {
   "cell_type": "code",
   "execution_count": null,
   "metadata": {},
   "outputs": [],
   "source": [
    "application['AMT_ANNUITY'].describe()"
   ]
  },
  {
   "cell_type": "code",
   "execution_count": null,
   "metadata": {},
   "outputs": [],
   "source": [
    "\n",
    "# calculate IQR \n",
    "\n",
    "\n",
    "Q1 = application['AMT_ANNUITY'].quantile(0.25)\n",
    "Q3 = application['AMT_ANNUITY'].quantile(0.75)\n",
    "IQR = Q3 - Q1\n",
    "print(IQR)"
   ]
  },
  {
   "cell_type": "code",
   "execution_count": null,
   "metadata": {},
   "outputs": [],
   "source": [
    "# Values before (Q1 - 1.5 IQR) and (Q3 + 1.5 IQR) are outliers - Chcek these values \n",
    "\n",
    "Min_value = (Q1 - 1.5 * IQR)\n",
    "Max_value = (Q3 + 1.5 * IQR)\n",
    "print(\"Min value before which outlier exist: {}\".format(Min_value))\n",
    "print(\"Max value after which outlier exist: {}\".format(Max_value))"
   ]
  },
  {
   "cell_type": "markdown",
   "metadata": {},
   "source": [
    "Obervation : We see the outliers are above 61704 , after the IQR calculation \n",
    "\n",
    "Lets plot and visualize the same. "
   ]
  },
  {
   "cell_type": "code",
   "execution_count": null,
   "metadata": {},
   "outputs": [],
   "source": [
    "# try plotting the graph \n",
    "\n",
    "plt.subplots(1,2 ,figsize = (20,8))\n",
    "plt.subplot(121)\n",
    "    \n",
    "sns.distplot(application['AMT_ANNUITY'], color = 'red')\n",
    "pltname = 'Distplot of ' + 'AMT_ANNUITY'\n",
    "plt.ticklabel_format(style='plain', axis='x')\n",
    "plt.title(pltname)\n",
    "\n",
    "plt.subplot(122)\n",
    "sns.boxplot(y = application['AMT_ANNUITY'], data = application)\n",
    "pltname = 'Boxplot of ' + 'AMT_ANNUITY'\n",
    "plt.title(pltname)\n",
    "plt.tight_layout(pad = 4)\n",
    "plt.show()"
   ]
  },
  {
   "cell_type": "markdown",
   "metadata": {},
   "source": [
    "Observation : AS in the IQR max value calculation , We see outier exists above 61704 . \n",
    "    \n",
    "-  Lets plot the visualization , under the outliers "
   ]
  },
  {
   "cell_type": "code",
   "execution_count": null,
   "metadata": {},
   "outputs": [],
   "source": [
    "plt.subplots(1,2 ,figsize = (20,8))\n",
    "\n",
    "plt.subplot(121)\n",
    "sns.distplot(application[application['AMT_ANNUITY'] <= 61704].AMT_ANNUITY,color=\"red\")\n",
    "pltname = 'Distplot of ' + 'AMT_ANNUITY'\n",
    "plt.ticklabel_format(style='plain', axis='x')\n",
    "plt.title(pltname)\n",
    "\n",
    "plt.subplot(122)\n",
    "sns.boxplot(application[application['AMT_ANNUITY'] <= 61704].AMT_ANNUITY, data = application)\n",
    "pltname = 'Boxplot of ' + 'AMT_ANNUITY'\n",
    "plt.title(pltname)\n",
    "\n",
    "plt.tight_layout(pad = 4)\n",
    "plt.show()"
   ]
  },
  {
   "cell_type": "markdown",
   "metadata": {},
   "source": [
    "Observations\n",
    "\n",
    "-the outliers tend to exist after 61704\n",
    "\n",
    "\n",
    "Conclusion : Applicants with AMT_ANNUITY above 61704  are considered has outliers"
   ]
  },
  {
   "cell_type": "code",
   "execution_count": null,
   "metadata": {},
   "outputs": [],
   "source": []
  },
  {
   "cell_type": "code",
   "execution_count": null,
   "metadata": {},
   "outputs": [],
   "source": []
  },
  {
   "cell_type": "markdown",
   "metadata": {},
   "source": [
    "\n",
    "Analysis of AMT_CREDIT column "
   ]
  },
  {
   "cell_type": "code",
   "execution_count": null,
   "metadata": {},
   "outputs": [],
   "source": [
    "application['AMT_CREDIT'].value_counts(normalize = True).sort_values(ascending = False) * 100"
   ]
  },
  {
   "cell_type": "code",
   "execution_count": null,
   "metadata": {},
   "outputs": [],
   "source": [
    "application['AMT_CREDIT'].describe()"
   ]
  },
  {
   "cell_type": "code",
   "execution_count": null,
   "metadata": {},
   "outputs": [],
   "source": [
    "# try plotting the graph \n",
    "\n",
    "plt.subplots(1,2 ,figsize = (20,8))\n",
    "plt.subplot(121)\n",
    "    \n",
    "sns.distplot(application['AMT_CREDIT'], color = 'red')\n",
    "pltname = 'Distplot of ' + 'AMT_CREDIT'\n",
    "plt.ticklabel_format(style='plain', axis='x')\n",
    "plt.title(pltname)\n",
    "\n",
    "plt.subplot(122)\n",
    "sns.boxplot(y = application['AMT_CREDIT'], data = application)\n",
    "pltname = 'Boxplot of ' + 'AMT_CREDIT'\n",
    "plt.title(pltname)\n",
    "plt.tight_layout(pad = 4)\n",
    "plt.show()"
   ]
  },
  {
   "cell_type": "code",
   "execution_count": null,
   "metadata": {},
   "outputs": [],
   "source": [
    "# calculate IQR\n",
    "Q1 = application['AMT_CREDIT'].quantile(0.25)\n",
    "Q3 = application['AMT_CREDIT'].quantile(0.75)\n",
    "IQR = Q3 - Q1\n",
    "print(IQR)"
   ]
  },
  {
   "cell_type": "code",
   "execution_count": null,
   "metadata": {},
   "outputs": [],
   "source": [
    "# Values before (Q1 - 1.5 IQR) and after (Q3 + 1.5 IQR) are outliers - Chcek these values \n",
    "\n",
    "Min_value = (Q1 - 1.5 * IQR)\n",
    "Max_value = (Q3 + 1.5 * IQR)\n",
    "print(\"Min value before which outlier exist: {}\".format(Min_value))\n",
    "print(\"Max value after which outlier exist: {}\".format(Max_value))"
   ]
  },
  {
   "cell_type": "markdown",
   "metadata": {},
   "source": [
    "Observation  : Values  above 1616625 are considered has outliers "
   ]
  },
  {
   "cell_type": "code",
   "execution_count": null,
   "metadata": {},
   "outputs": [],
   "source": [
    "# plot using the same with value 1616625 has outlier limit\n",
    "\n",
    "plt.subplots(1,2 ,figsize = (20,8))\n",
    "\n",
    "plt.subplot(121)\n",
    "sns.distplot(application[application['AMT_CREDIT']<= 1616625].AMT_CREDIT,color=\"red\")\n",
    "pltname = 'Distplot of ' + 'AMT_CREDIT'\n",
    "plt.ticklabel_format(style='plain', axis='x')\n",
    "plt.title(pltname)\n",
    "\n",
    "plt.subplot(122)\n",
    "sns.boxplot(application[application['AMT_CREDIT'] <= 1616625].AMT_CREDIT, data = application)\n",
    "pltname = 'Boxplot of ' + 'AMT_CREDIT'\n",
    "plt.title(pltname)\n",
    "\n",
    "plt.tight_layout(pad = 4)\n",
    "plt.show()"
   ]
  },
  {
   "cell_type": "markdown",
   "metadata": {},
   "source": [
    "Observations\n",
    "\n",
    "- the outliers tend to exist after 1616625\n",
    "\n",
    "Conclusion : Applicants with AMT_CREDIT above 1616625 are considered has outliers"
   ]
  },
  {
   "cell_type": "code",
   "execution_count": null,
   "metadata": {},
   "outputs": [],
   "source": []
  },
  {
   "cell_type": "code",
   "execution_count": null,
   "metadata": {},
   "outputs": [],
   "source": [
    "application.info()"
   ]
  },
  {
   "cell_type": "code",
   "execution_count": null,
   "metadata": {},
   "outputs": [],
   "source": []
  },
  {
   "cell_type": "markdown",
   "metadata": {},
   "source": [
    "Analysis of YEARS_LAST_PHONE_CHANGE column"
   ]
  },
  {
   "cell_type": "code",
   "execution_count": null,
   "metadata": {},
   "outputs": [],
   "source": [
    "application['YEARS_LAST_PHONE_CHANGE'].value_counts(normalize = True).sort_values(ascending = False) * 100"
   ]
  },
  {
   "cell_type": "code",
   "execution_count": null,
   "metadata": {},
   "outputs": [],
   "source": [
    "application['YEARS_LAST_PHONE_CHANGE'].describe(percentiles = [0.75,0.99,0.9999])"
   ]
  },
  {
   "cell_type": "code",
   "execution_count": null,
   "metadata": {},
   "outputs": [],
   "source": [
    "# calcultae the IQR \n",
    "\n",
    "Q1 = application['YEARS_LAST_PHONE_CHANGE'].quantile(0.25)\n",
    "Q3 = application['YEARS_LAST_PHONE_CHANGE'].quantile(0.75)\n",
    "IQR = Q3 - Q1\n",
    "print(IQR)"
   ]
  },
  {
   "cell_type": "code",
   "execution_count": null,
   "metadata": {},
   "outputs": [],
   "source": [
    "Min_value = (Q1 - 1.5 * IQR)\n",
    "Max_value = (Q3 + 1.5 * IQR)\n",
    "print(\"Min value before which outlier exist: {}\".format(Min_value))\n",
    "print(\"Max value after which outlier exist: {}\".format(Max_value))"
   ]
  },
  {
   "cell_type": "code",
   "execution_count": null,
   "metadata": {},
   "outputs": [],
   "source": [
    "\n",
    "plt.subplots(1,2 ,figsize = (20,8))\n",
    "\n",
    "plt.subplot(121)\n",
    "sns.distplot(application['YEARS_LAST_PHONE_CHANGE'],color=\"red\")\n",
    "pltname = 'Distplot of ' + 'YEARS_LAST_PHONE_CHANGE'\n",
    "plt.ticklabel_format(style='plain', axis='x')\n",
    "plt.title(pltname)\n",
    "\n",
    "plt.subplot(122)\n",
    "sns.boxplot(application['YEARS_LAST_PHONE_CHANGE'], data = application)\n",
    "pltname = 'Boxplot of ' + 'YEARS_LAST_PHONE_CHANGE'\n",
    "plt.title(pltname)\n",
    "\n",
    "plt.tight_layout(pad = 4)\n",
    "plt.show()"
   ]
  },
  {
   "cell_type": "markdown",
   "metadata": {},
   "source": [
    "Obervation : Max value of outlier is 8.5 years from the last phoen changed "
   ]
  },
  {
   "cell_type": "code",
   "execution_count": null,
   "metadata": {},
   "outputs": [],
   "source": [
    "# plt the vizualiation  , with outlier 8.5 \n",
    "\n",
    "plt.subplots(1,2 ,figsize = (20,8))\n",
    "\n",
    "plt.subplot(121)\n",
    "sns.distplot(application[application['YEARS_LAST_PHONE_CHANGE']<8.5].YEARS_LAST_PHONE_CHANGE,color=\"red\")\n",
    "pltname = 'Distplot of ' + 'YEARS_LAST_PHONE_CHANGE'\n",
    "plt.ticklabel_format(style='plain', axis='x')\n",
    "plt.title(pltname)\n",
    "\n",
    "plt.subplot(122)\n",
    "sns.boxplot(application[application['YEARS_LAST_PHONE_CHANGE']<8.5].YEARS_LAST_PHONE_CHANGE, data = application)\n",
    "pltname = 'Boxplot of ' + 'YEARS_LAST_PHONE_CHANGE'\n",
    "plt.title(pltname)\n",
    "\n",
    "plt.tight_layout(pad = 4)\n",
    "plt.show()"
   ]
  },
  {
   "cell_type": "markdown",
   "metadata": {},
   "source": [
    "Observations\n",
    "\n",
    "-  the outliers tend to exist after 8.5 \n",
    "\n",
    "\n",
    "Conclusion : Applicants with YEARS_LAST_PHONE_CHANGE above 8 are considerd has outliers "
   ]
  },
  {
   "cell_type": "code",
   "execution_count": null,
   "metadata": {},
   "outputs": [],
   "source": []
  },
  {
   "cell_type": "code",
   "execution_count": null,
   "metadata": {},
   "outputs": [],
   "source": []
  },
  {
   "cell_type": "code",
   "execution_count": null,
   "metadata": {},
   "outputs": [],
   "source": [
    "application.info()"
   ]
  },
  {
   "cell_type": "code",
   "execution_count": null,
   "metadata": {},
   "outputs": [],
   "source": []
  },
  {
   "cell_type": "code",
   "execution_count": null,
   "metadata": {},
   "outputs": [],
   "source": []
  },
  {
   "cell_type": "code",
   "execution_count": null,
   "metadata": {},
   "outputs": [],
   "source": []
  },
  {
   "cell_type": "markdown",
   "metadata": {},
   "source": [
    "Analysis of AMT_GOODS_PRICE column"
   ]
  },
  {
   "cell_type": "code",
   "execution_count": null,
   "metadata": {},
   "outputs": [],
   "source": [
    "application['AMT_GOODS_PRICE'].value_counts(normalize = True).sort_values(ascending = False) * 100"
   ]
  },
  {
   "cell_type": "code",
   "execution_count": null,
   "metadata": {},
   "outputs": [],
   "source": [
    "application['AMT_GOODS_PRICE'].describe()"
   ]
  },
  {
   "cell_type": "code",
   "execution_count": null,
   "metadata": {},
   "outputs": [],
   "source": [
    "\n",
    "plt.subplots(1,2 ,figsize = (20,8))\n",
    "\n",
    "plt.subplot(121)\n",
    "sns.distplot(application['AMT_GOODS_PRICE'],color=\"blue\")\n",
    "pltname = 'Distplot of ' + 'AMT_GOODS_PRICE'\n",
    "plt.ticklabel_format(style='plain', axis='x')\n",
    "plt.title(pltname)\n",
    "\n",
    "plt.subplot(122)\n",
    "sns.boxplot(application['AMT_GOODS_PRICE'], data = application)\n",
    "pltname = 'Boxplot of ' + 'AMT_GOODS_PRICE'\n",
    "plt.title(pltname)\n",
    "\n",
    "plt.tight_layout(pad = 4)\n",
    "plt.show()"
   ]
  },
  {
   "cell_type": "markdown",
   "metadata": {},
   "source": [
    "Instaed of removing the outlier in the AMT_GOODS_PRICE column \n",
    "\n",
    "We can categorize the AMT_GOODS_PRICE value into differnet bins ; Here lets categorize 4 or 5 bins based on low , medium , high values "
   ]
  },
  {
   "cell_type": "code",
   "execution_count": null,
   "metadata": {},
   "outputs": [],
   "source": [
    "application['AMT_GOODS_PRICE_CATEGORY'] = pd.cut(application['AMT_GOODS_PRICE'], bins = 5, labels = ['very low','low','medium','high','very high'])"
   ]
  },
  {
   "cell_type": "code",
   "execution_count": null,
   "metadata": {},
   "outputs": [],
   "source": [
    "application.head()"
   ]
  },
  {
   "cell_type": "code",
   "execution_count": null,
   "metadata": {},
   "outputs": [],
   "source": [
    "# chcek for the percentage of values populated in each category \n",
    "\n",
    "application['AMT_GOODS_PRICE_CATEGORY'].value_counts(normalize=True)*100"
   ]
  },
  {
   "cell_type": "markdown",
   "metadata": {},
   "source": [
    "EDA Perfomed : for ease of analysis , the AMT_GOODS_PRICE column is been categorised into 5 bins "
   ]
  },
  {
   "cell_type": "code",
   "execution_count": null,
   "metadata": {},
   "outputs": [],
   "source": []
  },
  {
   "cell_type": "markdown",
   "metadata": {},
   "source": [
    "Analysis of AGE Column "
   ]
  },
  {
   "cell_type": "code",
   "execution_count": null,
   "metadata": {},
   "outputs": [],
   "source": [
    "application['AGE'].value_counts(normalize=True).sort_values(ascending = False)*100"
   ]
  },
  {
   "cell_type": "code",
   "execution_count": null,
   "metadata": {},
   "outputs": [],
   "source": [
    "application['AGE'].describe()"
   ]
  },
  {
   "cell_type": "markdown",
   "metadata": {},
   "source": [
    "Instaed of removing the outliers in the AGe column , lets create a category for ease of analysis "
   ]
  },
  {
   "cell_type": "markdown",
   "metadata": {},
   "source": [
    "Categorize the values from AGE column into a new column AGE_CATEGORY"
   ]
  },
  {
   "cell_type": "code",
   "execution_count": null,
   "metadata": {},
   "outputs": [],
   "source": [
    "# define the age category function  for performing the categories \n",
    "\n",
    "def age_cat(years):\n",
    "    if years <= 20:\n",
    "        return '0-20'\n",
    "    elif years > 20 and years <= 30:\n",
    "        return '20-30'\n",
    "    elif years > 30 and years <= 40:\n",
    "        return '30-40'  \n",
    "    elif years > 40 and years <= 50:\n",
    "        return '40-50'\n",
    "    elif years > 50 and years <= 60:\n",
    "        return '50-60'\n",
    "    elif years > 60 and years <= 70:\n",
    "        return '60-70'\n",
    "    elif years > 70:\n",
    "        return '70+'"
   ]
  },
  {
   "cell_type": "code",
   "execution_count": null,
   "metadata": {},
   "outputs": [],
   "source": [
    "application['AGE_CATEGORY'] = application['AGE'].apply(age_cat)"
   ]
  },
  {
   "cell_type": "code",
   "execution_count": null,
   "metadata": {},
   "outputs": [],
   "source": [
    "application.head()"
   ]
  },
  {
   "cell_type": "code",
   "execution_count": null,
   "metadata": {},
   "outputs": [],
   "source": [
    "# Checking that the values are populated are proper\n",
    "\n",
    "application['AGE_CATEGORY'].value_counts().sort_values(ascending = False)"
   ]
  },
  {
   "cell_type": "markdown",
   "metadata": {},
   "source": [
    "EDA : AGE columns is been redefined to AGe category column , where the applicant age is been categorised. "
   ]
  },
  {
   "cell_type": "code",
   "execution_count": null,
   "metadata": {},
   "outputs": [],
   "source": []
  },
  {
   "cell_type": "code",
   "execution_count": null,
   "metadata": {},
   "outputs": [],
   "source": []
  },
  {
   "cell_type": "markdown",
   "metadata": {},
   "source": [
    "Analysis of YEARS_REGISTRATION column"
   ]
  },
  {
   "cell_type": "code",
   "execution_count": null,
   "metadata": {},
   "outputs": [],
   "source": [
    "application['YEAR_REGISTRATION'].value_counts(normalize=True).sort_values(ascending = False)*100"
   ]
  },
  {
   "cell_type": "code",
   "execution_count": null,
   "metadata": {},
   "outputs": [],
   "source": [
    "application['YEAR_REGISTRATION'].describe()"
   ]
  },
  {
   "cell_type": "code",
   "execution_count": null,
   "metadata": {},
   "outputs": [],
   "source": [
    "# Categorize the values from YEAR_REGISTRATION into a new column YEAR_REGISTRATION_CATEGORY , same has the age category : \n",
    "# this will ease on analysis when categorized.\n",
    "\n",
    "application['YEAR_REGISTRATION_CATEGORY'] = application['YEAR_REGISTRATION'].apply(age_cat)"
   ]
  },
  {
   "cell_type": "code",
   "execution_count": null,
   "metadata": {},
   "outputs": [],
   "source": [
    "application.head()"
   ]
  },
  {
   "cell_type": "code",
   "execution_count": null,
   "metadata": {},
   "outputs": [],
   "source": [
    "# Checking that the values are populated are proper\n",
    "\n",
    "application['YEAR_REGISTRATION_CATEGORY'].value_counts().sort_values(ascending = False)"
   ]
  },
  {
   "cell_type": "markdown",
   "metadata": {},
   "source": [
    "EDA :  YEAR_REGISTRATION columns is been redefined to YEAR_REGISTRATION_CATEGORY column , where the applicant registered year is been categorised."
   ]
  },
  {
   "cell_type": "code",
   "execution_count": null,
   "metadata": {},
   "outputs": [],
   "source": []
  },
  {
   "cell_type": "code",
   "execution_count": null,
   "metadata": {},
   "outputs": [],
   "source": []
  },
  {
   "cell_type": "code",
   "execution_count": null,
   "metadata": {},
   "outputs": [],
   "source": []
  },
  {
   "cell_type": "code",
   "execution_count": null,
   "metadata": {},
   "outputs": [],
   "source": [
    "application.info()"
   ]
  },
  {
   "cell_type": "code",
   "execution_count": null,
   "metadata": {},
   "outputs": [],
   "source": []
  },
  {
   "cell_type": "code",
   "execution_count": null,
   "metadata": {},
   "outputs": [],
   "source": []
  },
  {
   "cell_type": "markdown",
   "metadata": {},
   "source": [
    "Analysis on  TARGET column"
   ]
  },
  {
   "cell_type": "code",
   "execution_count": null,
   "metadata": {},
   "outputs": [],
   "source": [
    "application['TARGET'].value_counts(normalize=True).sort_values(ascending=False)*100"
   ]
  },
  {
   "cell_type": "code",
   "execution_count": null,
   "metadata": {},
   "outputs": [],
   "source": [
    "plt.figure(figsize = (10,5))\n",
    "sns.countplot(x = application['TARGET'], data = application)\n",
    "plt.title('Ratio of TARGET variable')\n",
    "plt.show()"
   ]
  },
  {
   "cell_type": "code",
   "execution_count": null,
   "metadata": {},
   "outputs": [],
   "source": [
    "# Check percentage for TARGET variable values\n",
    "\n",
    "plt.figure(figsize = [20,8])\n",
    "(application['TARGET'].value_counts(normalize=True)*100).plot.bar(title = \"Checking percentage for TARGET variable Ratio\", color=['black', 'red', 'green', 'blue', 'cyan'])\n",
    "plt.xticks(rotation=0)\n",
    "plt.show()"
   ]
  },
  {
   "cell_type": "markdown",
   "metadata": {},
   "source": [
    "Observations\n",
    "\n",
    "- We see imbalance in TARGET variable based on the % and the value count operations performed at top \n",
    "\n",
    "- TARGET value 1 represents applicants with payment difficulties i.e. 8.07% of the data\n",
    "- TARGET value 0 represents all other cases than 1 i.e. 91.93% of the data \n"
   ]
  },
  {
   "cell_type": "code",
   "execution_count": null,
   "metadata": {},
   "outputs": [],
   "source": []
  },
  {
   "cell_type": "markdown",
   "metadata": {},
   "source": [
    "As per the problem stmts given : understand how consumer attributes and loan attributes influence the tendency of default.\n",
    "\n",
    "The data given below contains the information about the loan application at the time of applying for the loan. It contains two types of scenarios:\n",
    "\n",
    "\n",
    "1. The applicants with payment difficulties: he/she had late payment more than X days on at least one of the first Y instalments of the loan in our sample,\n",
    "\n",
    "2. All other cases: All other cases when the payment is paid on time.\n",
    "\n",
    "So at this stage we can split this data accordign to the TARGET VARIBALE and analyse it spepartely . \n",
    "\n",
    "\n",
    "======================================================================================================\n",
    "\n",
    "- split the Data into 2 Data frame based on target variable \n",
    "\n",
    "1. TARGET value 1 represents applicants with payment difficulties i.e. 8.07% of the data\n",
    "2. TARGET value 0 represents all other cases than 1 i.e. 91.93% of the data"
   ]
  },
  {
   "cell_type": "code",
   "execution_count": null,
   "metadata": {},
   "outputs": [],
   "source": [
    "# Create new dataframe with TARGET value 1 \n",
    "\n",
    "df_target_1 = application[application['TARGET'] == 1]\n",
    "\n",
    "df_target_1.shape\n"
   ]
  },
  {
   "cell_type": "code",
   "execution_count": null,
   "metadata": {},
   "outputs": [],
   "source": [
    "# Create new dataframe with TARGET value 0\n",
    "\n",
    "df_target_0 = application[application['TARGET'] == 0]\n",
    "\n",
    "df_target_0.shape\n"
   ]
  },
  {
   "cell_type": "code",
   "execution_count": null,
   "metadata": {},
   "outputs": [],
   "source": []
  },
  {
   "cell_type": "code",
   "execution_count": null,
   "metadata": {},
   "outputs": [],
   "source": []
  },
  {
   "cell_type": "markdown",
   "metadata": {},
   "source": [
    "# Univariate Analysis on the categorical variables. \n"
   ]
  },
  {
   "cell_type": "markdown",
   "metadata": {},
   "source": [
    "Analysis of NAME_CONTRACT_TYPE"
   ]
  },
  {
   "cell_type": "code",
   "execution_count": null,
   "metadata": {},
   "outputs": [],
   "source": []
  },
  {
   "cell_type": "code",
   "execution_count": null,
   "metadata": {},
   "outputs": [],
   "source": [
    "# with payment difficulties -> target value 1 \n",
    "\n",
    "df_target_1['NAME_CONTRACT_TYPE'].value_counts()"
   ]
  },
  {
   "cell_type": "code",
   "execution_count": null,
   "metadata": {},
   "outputs": [],
   "source": [
    "# with on time payment  -> target value 0\n",
    "\n",
    "df_target_0['NAME_CONTRACT_TYPE'].value_counts()"
   ]
  },
  {
   "cell_type": "code",
   "execution_count": null,
   "metadata": {},
   "outputs": [],
   "source": [
    "\n",
    "# plt the visualtion \n",
    "\n",
    "plt.figure(figsize = [20,8])\n",
    "palt = sns.color_palette(\"bright\")\n",
    "\n",
    "plt.subplot(1,2,1)\n",
    "pltname = 'Analysis of ' + ' applicnats with payment difficulties in ' + 'NAME_CONTRACT_TYPE'\n",
    "plt.title(pltname)\n",
    "    \n",
    "sns.countplot(x = 'NAME_CONTRACT_TYPE', data = df_target_1, order = sorted(df_target_1['NAME_CONTRACT_TYPE'].unique(), reverse = True), palette = palt)\n",
    "plt.xticks(rotation = 90)\n",
    "\n",
    "\n",
    "plt.subplot(1,2,2)\n",
    "pltname = 'Analysis of ' + ' applicants with on time payment is ' + 'NAME_CONTRACT_TYPE'\n",
    "plt.title(pltname)\n",
    "    \n",
    "sns.countplot(x = 'NAME_CONTRACT_TYPE', data = df_target_0, order = sorted(df_target_0['NAME_CONTRACT_TYPE'].unique(), reverse = True), palette = palt)\n",
    "plt.xticks(rotation = 90)\n",
    "plt.tight_layout(pad = 4)\n",
    "plt.show()"
   ]
  },
  {
   "cell_type": "markdown",
   "metadata": {},
   "source": [
    "Observations :\n",
    "\n",
    "- we don't see significant differences in NAME_CONTRACT_TYPE column between applicants with payment difficulties and on-time payments.\n",
    "\n",
    "Conclusion : NAME_CONTRACT_TYPE column does not provide any conclusive evidence in favor of applicants with payment difficulties or on-time payments. "
   ]
  },
  {
   "cell_type": "code",
   "execution_count": null,
   "metadata": {},
   "outputs": [],
   "source": []
  },
  {
   "cell_type": "markdown",
   "metadata": {},
   "source": [
    "Analysis of CODE_GENDER"
   ]
  },
  {
   "cell_type": "code",
   "execution_count": null,
   "metadata": {},
   "outputs": [],
   "source": [
    "# chcek if the gender attributs - contributes to payment difficulties\n",
    "\n",
    "#df_target_1.head()\n",
    "\n",
    "df_target_1['CODE_GENDER'].value_counts()"
   ]
  },
  {
   "cell_type": "code",
   "execution_count": null,
   "metadata": {},
   "outputs": [],
   "source": [
    "# chcek if the gender attributs - contributes to on time payment\n",
    "\n",
    "\n",
    "\n",
    "df_target_0['CODE_GENDER'].value_counts()"
   ]
  },
  {
   "cell_type": "code",
   "execution_count": null,
   "metadata": {},
   "outputs": [],
   "source": [
    "\n",
    "# plt the visualtion \n",
    "\n",
    "plt.figure(figsize = [20,8])\n",
    "palt = sns.color_palette(\"bright\")\n",
    "\n",
    "plt.subplot(1,2,1)\n",
    "pltname = 'Analysis of ' + ' applicants with payment difficulties in ' + 'CODE_GENDER'\n",
    "plt.title(pltname)\n",
    "    \n",
    "sns.countplot(x = 'CODE_GENDER', data = df_target_1, order = sorted(df_target_1['CODE_GENDER'].unique(), reverse = True), palette = palt)\n",
    "plt.xticks(rotation = 90)\n",
    "\n",
    "\n",
    "plt.subplot(1,2,2)\n",
    "pltname = 'Analysis of ' + ' applicants with on time payment is ' + 'CODE_GENDER'\n",
    "plt.title(pltname)\n",
    "    \n",
    "sns.countplot(x = 'CODE_GENDER', data = df_target_0, order = sorted(df_target_0['CODE_GENDER'].unique(), reverse = True), palette = palt)\n",
    "plt.xticks(rotation = 90)\n",
    "plt.tight_layout(pad = 4)\n",
    "plt.show()"
   ]
  },
  {
   "cell_type": "markdown",
   "metadata": {},
   "source": [
    "Observations: \n",
    "    \n",
    "   - we see there is a increase  in \"Male\" values from CODE_GENDER between applicants with payment difficulties to on-time payments. \n",
    "   -  Where as we dont see much significant diffrence in the \"Female\" value from CODE_GENDER between applicants with payment difficulties to on-time payments.\n",
    "\n",
    "\n",
    "   - Conclusion :  \"Male\" applicants have more payment difficulties than Female "
   ]
  },
  {
   "cell_type": "code",
   "execution_count": null,
   "metadata": {},
   "outputs": [],
   "source": []
  },
  {
   "cell_type": "code",
   "execution_count": null,
   "metadata": {},
   "outputs": [],
   "source": []
  },
  {
   "cell_type": "markdown",
   "metadata": {},
   "source": [
    "Analysis of FLAG_OWN_CAR"
   ]
  },
  {
   "cell_type": "code",
   "execution_count": null,
   "metadata": {},
   "outputs": [],
   "source": [
    "# with payment difficulties \n",
    "\n",
    "df_target_1['FLAG_OWN_CAR'].value_counts()"
   ]
  },
  {
   "cell_type": "code",
   "execution_count": null,
   "metadata": {},
   "outputs": [],
   "source": [
    "# with  on time payment\n",
    "\n",
    "df_target_0['FLAG_OWN_CAR'].value_counts()"
   ]
  },
  {
   "cell_type": "code",
   "execution_count": null,
   "metadata": {},
   "outputs": [],
   "source": [
    "\n",
    "# plt the visualtion \n",
    "\n",
    "plt.figure(figsize = [20,8])\n",
    "palt = sns.color_palette(\"bright\")\n",
    "\n",
    "plt.subplot(1,2,1)\n",
    "pltname = 'Analysis of ' + ' applicants with payment difficulties in ' + 'FLAG_OWN_CAR'\n",
    "plt.title(pltname)\n",
    "    \n",
    "sns.countplot(x = 'FLAG_OWN_CAR', data = df_target_1, order = sorted(df_target_1['FLAG_OWN_CAR'].unique(), reverse = True), palette = palt)\n",
    "plt.xticks(rotation = 90)\n",
    "\n",
    "\n",
    "plt.subplot(1,2,2)\n",
    "pltname = 'Analysis of ' + ' applicants with on time payment is ' + 'FLAG_OWN_CAR'\n",
    "plt.title(pltname)\n",
    "    \n",
    "sns.countplot(x = 'FLAG_OWN_CAR', data = df_target_0, order = sorted(df_target_0['FLAG_OWN_CAR'].unique(), reverse = True), palette = palt)\n",
    "plt.xticks(rotation = 90)\n",
    "plt.tight_layout(pad = 4)\n",
    "plt.show()"
   ]
  },
  {
   "cell_type": "markdown",
   "metadata": {},
   "source": [
    "Observations : \n",
    "\n",
    "- we don't see significant differences in FLAG_OWN_CAR between applicants with payment difficulties and on-time payments.\n",
    "    \n",
    " Conclusion:\n",
    " - FLAG_OWN_CAR column does not provide any conclusive evidence in terms of applicnats with payment difficulties or on-time payments"
   ]
  },
  {
   "cell_type": "code",
   "execution_count": null,
   "metadata": {},
   "outputs": [],
   "source": []
  },
  {
   "cell_type": "code",
   "execution_count": null,
   "metadata": {},
   "outputs": [],
   "source": [
    "\n",
    "application.info()"
   ]
  },
  {
   "cell_type": "markdown",
   "metadata": {},
   "source": [
    "Analysis of NAME_INCOME_TYPE"
   ]
  },
  {
   "cell_type": "code",
   "execution_count": null,
   "metadata": {},
   "outputs": [],
   "source": [
    "# with paymnet diffcuties \n",
    "\n",
    "df_target_1['NAME_INCOME_TYPE'].value_counts()"
   ]
  },
  {
   "cell_type": "code",
   "execution_count": null,
   "metadata": {},
   "outputs": [],
   "source": [
    "# with paymnet on time \n",
    "\n",
    "df_target_0['NAME_INCOME_TYPE'].value_counts()"
   ]
  },
  {
   "cell_type": "code",
   "execution_count": null,
   "metadata": {},
   "outputs": [],
   "source": [
    "# plt the visualtion \n",
    "\n",
    "plt.figure(figsize = [20,8])\n",
    "palt = sns.color_palette(\"bright\")\n",
    "\n",
    "plt.subplot(1,2,1)\n",
    "pltname = 'Analysis of ' + ' applicnats with payment difficulties in ' + 'NAME_INCOME_TYPE'\n",
    "plt.title(pltname)\n",
    "    \n",
    "sns.countplot(x = 'NAME_INCOME_TYPE', data = df_target_1, order = sorted(df_target_1['NAME_INCOME_TYPE'].unique(), reverse = True), palette = palt)\n",
    "plt.xticks(rotation = 90)\n",
    "\n",
    "\n",
    "plt.subplot(1,2,2)\n",
    "pltname = 'Analysis of ' + ' applicants with on time payment is ' + 'NAME_INCOME_TYPE'\n",
    "plt.title(pltname)\n",
    "    \n",
    "sns.countplot(x = 'NAME_INCOME_TYPE', data = df_target_0, order = sorted(df_target_0['NAME_INCOME_TYPE'].unique(), reverse = True), palette = palt)\n",
    "plt.xticks(rotation = 90)\n",
    "plt.tight_layout(pad = 4)\n",
    "plt.show()"
   ]
  },
  {
   "cell_type": "markdown",
   "metadata": {},
   "source": [
    "Observation : \n",
    "    \n",
    "-  Student and Businnesman dont have any payment diffuclities \n",
    "-   Pensioners have better on time payment compared with difficuties. \n",
    "\n",
    "Conclusion : \n",
    "\n",
    "1. Students don't have Payment difficulties. there are only 18 observations and should be treated as a weak correlation\n",
    "2. Businessmen don't have Payment difficulties. There only 10 observations and should be treated as a weak correlation\n",
    "3. Like wise , Pensioners have better ontime payments. This is as well a weak correlation."
   ]
  },
  {
   "cell_type": "code",
   "execution_count": null,
   "metadata": {},
   "outputs": [],
   "source": []
  },
  {
   "cell_type": "code",
   "execution_count": null,
   "metadata": {},
   "outputs": [],
   "source": []
  },
  {
   "cell_type": "markdown",
   "metadata": {},
   "source": [
    "Analysis of NAME_EDUCATION_TYPE"
   ]
  },
  {
   "cell_type": "code",
   "execution_count": null,
   "metadata": {},
   "outputs": [],
   "source": [
    "# with payment diffculties \n",
    "\n",
    "df_target_1['NAME_EDUCATION_TYPE'].value_counts()"
   ]
  },
  {
   "cell_type": "code",
   "execution_count": null,
   "metadata": {},
   "outputs": [],
   "source": [
    "# with payment on time \n",
    "\n",
    "df_target_0['NAME_EDUCATION_TYPE'].value_counts()"
   ]
  },
  {
   "cell_type": "code",
   "execution_count": null,
   "metadata": {},
   "outputs": [],
   "source": [
    "# plt the visualtion \n",
    "\n",
    "plt.figure(figsize = [20,8])\n",
    "palt = sns.color_palette(\"bright\")\n",
    "\n",
    "plt.subplot(1,2,1)\n",
    "pltname = 'Analysis of ' + ' applicants with payment difficulties in ' + 'NAME_EDUCATION_TYPE'\n",
    "plt.title(pltname)\n",
    "    \n",
    "sns.countplot(x = 'NAME_EDUCATION_TYPE', data = df_target_1, order = sorted(df_target_1['NAME_EDUCATION_TYPE'].unique(), reverse = True), palette = palt)\n",
    "plt.xticks(rotation = 90)\n",
    "\n",
    "\n",
    "plt.subplot(1,2,2)\n",
    "pltname = 'Analysis of ' + ' applicants with on time payment is ' + 'NAME_EDUCATION_TYPE'\n",
    "plt.title(pltname)\n",
    "    \n",
    "sns.countplot(x = 'NAME_EDUCATION_TYPE', data = df_target_0, order = sorted(df_target_0['NAME_EDUCATION_TYPE'].unique(), reverse = True), palette = palt)\n",
    "plt.xticks(rotation = 90)\n",
    "plt.tight_layout(pad = 4)\n",
    "plt.show()"
   ]
  },
  {
   "cell_type": "markdown",
   "metadata": {},
   "source": [
    "Observation   : \n",
    "    \n",
    "  1. Applicants having higher education have  less payment diffuclty , however this is a weak correlation.  \n",
    "  2. Other categories donot provide ant conclusive results . "
   ]
  },
  {
   "cell_type": "code",
   "execution_count": null,
   "metadata": {},
   "outputs": [],
   "source": []
  },
  {
   "cell_type": "markdown",
   "metadata": {},
   "source": [
    "\n",
    "Analysis of NAME_FAMILY_STATUS"
   ]
  },
  {
   "cell_type": "code",
   "execution_count": null,
   "metadata": {},
   "outputs": [],
   "source": [
    "# with payment difficulties \n",
    "\n",
    "df_target_1['NAME_FAMILY_STATUS'].value_counts()"
   ]
  },
  {
   "cell_type": "code",
   "execution_count": null,
   "metadata": {},
   "outputs": [],
   "source": [
    "# with payment on time \n",
    "\n",
    "df_target_0['NAME_FAMILY_STATUS'].value_counts()"
   ]
  },
  {
   "cell_type": "code",
   "execution_count": null,
   "metadata": {},
   "outputs": [],
   "source": [
    "# plt the visualtion \n",
    "\n",
    "plt.figure(figsize = [20,8])\n",
    "palt = sns.color_palette(\"bright\")\n",
    "\n",
    "plt.subplot(1,2,1)\n",
    "pltname = 'Analysis of ' + ' applicants with payment difficulties in ' + 'NAME_FAMILY_STATUS'\n",
    "plt.title(pltname)\n",
    "    \n",
    "sns.countplot(x = 'NAME_FAMILY_STATUS', data = df_target_1, order = sorted(df_target_1['NAME_FAMILY_STATUS'].unique(), reverse = True), palette = palt)\n",
    "plt.xticks(rotation = 90)\n",
    "\n",
    "\n",
    "plt.subplot(1,2,2)\n",
    "pltname = 'Analysis of ' + ' applicnats with on time payment is ' + 'NAME_FAMILY_STATUS'\n",
    "plt.title(pltname)\n",
    "    \n",
    "sns.countplot(x = 'NAME_FAMILY_STATUS', data = df_target_0, order = sorted(df_target_0['NAME_FAMILY_STATUS'].unique(), reverse = True), palette = palt)\n",
    "plt.xticks(rotation = 90)\n",
    "plt.tight_layout(pad = 4)\n",
    "plt.show()"
   ]
  },
  {
   "cell_type": "markdown",
   "metadata": {},
   "source": [
    "Observations\n",
    "\n",
    "1. Applicant  who are 'Married' ; we dont see much significance b/w applicant with payment difficulties and on-time payments.\n",
    "2. Applicant who are 'Widow' ; we see a slight significance diffence b/w applicant with payment difficulties and on-time payments. Where 'Widow' do on time payment . \n",
    "3. Applicant who are 'Single/not married' ; we see a significance diffence b/w applicant with payment difficulties and on-time payments. Where 'Single/not married' have diffuclties in payment . \n",
    "4. Remaining categories don't provide any conclusive results\n",
    "\n",
    "\n",
    "Conclusion\n",
    "\n",
    "1. Applicants who are 'Married' OR 'Widow' do on-time payments better comparatively.\n",
    "   However, this is a weak correlation.\n",
    "2. Applicants  who are 'Single/not married' have more difficulties with on-time payments comparatively. \n",
    "   However, this is a weak correlation."
   ]
  },
  {
   "cell_type": "code",
   "execution_count": null,
   "metadata": {},
   "outputs": [],
   "source": []
  },
  {
   "cell_type": "code",
   "execution_count": null,
   "metadata": {},
   "outputs": [],
   "source": []
  },
  {
   "cell_type": "code",
   "execution_count": null,
   "metadata": {},
   "outputs": [],
   "source": [
    "application.info()"
   ]
  },
  {
   "cell_type": "code",
   "execution_count": null,
   "metadata": {},
   "outputs": [],
   "source": []
  },
  {
   "cell_type": "code",
   "execution_count": null,
   "metadata": {},
   "outputs": [],
   "source": []
  },
  {
   "cell_type": "code",
   "execution_count": null,
   "metadata": {},
   "outputs": [],
   "source": []
  },
  {
   "cell_type": "markdown",
   "metadata": {},
   "source": [
    "# Univariate analysis of numerical variables"
   ]
  },
  {
   "cell_type": "code",
   "execution_count": null,
   "metadata": {},
   "outputs": [],
   "source": [
    "#application.info()"
   ]
  },
  {
   "cell_type": "markdown",
   "metadata": {},
   "source": [
    "Analysis of AMT_CREDIT"
   ]
  },
  {
   "cell_type": "code",
   "execution_count": null,
   "metadata": {},
   "outputs": [],
   "source": [
    "# Outliers are been identifed for the entire data set . \n",
    "\n",
    "# now lets us see ; Outlier of AMT_CREDIT with Payment difficulties\n",
    "\n",
    "df_target_1['AMT_CREDIT'].describe()"
   ]
  },
  {
   "cell_type": "code",
   "execution_count": null,
   "metadata": {},
   "outputs": [],
   "source": [
    "# calculate teh quantile range - IQR  - for payment diffficulties \n",
    "\n",
    "Q1 = df_target_1['AMT_CREDIT'].quantile(0.25)\n",
    "Q3 = df_target_1['AMT_CREDIT'].quantile(0.75)\n",
    "IQR = Q3 - Q1\n",
    "print(IQR)"
   ]
  },
  {
   "cell_type": "code",
   "execution_count": null,
   "metadata": {},
   "outputs": [],
   "source": [
    "# calcutae the min and max values \n",
    "\n",
    "Min_value1 = (Q1 - 1.5 * IQR)\n",
    "Max_value1 = (Q3 + 1.5 * IQR)\n",
    "print(\"Min value before which outlier exist: {}\".format(Min_value1))\n",
    "print(\"Max value after which outlier exist: {}\".format(Max_value1))"
   ]
  },
  {
   "cell_type": "code",
   "execution_count": null,
   "metadata": {},
   "outputs": [],
   "source": [
    "# calculate teh quantile range - IQR  - for payment on time \n",
    "\n",
    "Q1 = df_target_0['AMT_CREDIT'].quantile(0.25)\n",
    "Q3 = df_target_0['AMT_CREDIT'].quantile(0.75)\n",
    "IQR = Q3 - Q1\n",
    "print(IQR)"
   ]
  },
  {
   "cell_type": "code",
   "execution_count": null,
   "metadata": {},
   "outputs": [],
   "source": [
    "# calcutae the min and max values \n",
    "\n",
    "Min_value0 = (Q1 - 1.5 * IQR)\n",
    "Max_value0 = (Q3 + 1.5 * IQR)\n",
    "print(\"Min value before which outlier exist: {}\".format(Min_value0))\n",
    "print(\"Max value after which outlier exist: {}\".format(Max_value0))"
   ]
  },
  {
   "cell_type": "code",
   "execution_count": null,
   "metadata": {},
   "outputs": [],
   "source": [
    "# plt the distplot \n",
    "\n",
    "plt.figure(figsize = [20,8])\n",
    "sns.distplot(df_target_1[df_target_1['AMT_CREDIT'] <= Max_value1].AMT_CREDIT,label = 'Payment difficulties', hist=False)\n",
    "sns.distplot(df_target_0[df_target_0['AMT_CREDIT'] <= Max_value0].AMT_CREDIT,label = 'On-Time Payments', hist=False)\n",
    "plt.ticklabel_format(style='plain', axis='x')\n",
    "plt.xticks(rotation = 45)\n",
    "plt.legend()\n",
    "plt.show()"
   ]
  },
  {
   "cell_type": "markdown",
   "metadata": {},
   "source": [
    "observation:\n",
    "\n",
    "- For AMT_CREDIT between 250000 - 750000, there are more applicant with Payment difficulties\n",
    "- For AMT_CREDIT > 750000 , there are more applicant with On-Time Payments ; on in other hand payment diffiulity trend is down fall. "
   ]
  },
  {
   "cell_type": "code",
   "execution_count": null,
   "metadata": {},
   "outputs": [],
   "source": []
  },
  {
   "cell_type": "code",
   "execution_count": null,
   "metadata": {},
   "outputs": [],
   "source": []
  },
  {
   "cell_type": "markdown",
   "metadata": {},
   "source": [
    "Analysis of AGE"
   ]
  },
  {
   "cell_type": "code",
   "execution_count": null,
   "metadata": {},
   "outputs": [],
   "source": [
    "#Calculate IQR - paymnet diffculities \n",
    "\n",
    "Q1 = df_target_1['AGE'].quantile(0.25)\n",
    "Q3 = df_target_1['AGE'].quantile(0.75)\n",
    "IQR = Q3 - Q1\n",
    "print(IQR)"
   ]
  },
  {
   "cell_type": "code",
   "execution_count": null,
   "metadata": {},
   "outputs": [],
   "source": [
    "Min_value1 = (Q1 - 1.5 * IQR)\n",
    "Max_value1 = (Q3 + 1.5 * IQR)\n",
    "print(\"Min value before which outlier exist: {}\".format(Min_value1))\n",
    "print(\"Max value after which outlier exist: {}\".format(Max_value1))"
   ]
  },
  {
   "cell_type": "code",
   "execution_count": null,
   "metadata": {},
   "outputs": [],
   "source": [
    "#Calculate IQR - paymnet on time \n",
    "\n",
    "Q1 = df_target_0['AGE'].quantile(0.25)\n",
    "Q3 = df_target_0['AGE'].quantile(0.75)\n",
    "IQR = Q3 - Q1\n",
    "print(IQR)"
   ]
  },
  {
   "cell_type": "code",
   "execution_count": null,
   "metadata": {},
   "outputs": [],
   "source": [
    "Min_value0 = (Q1 - 1.5 * IQR)\n",
    "Max_value0 = (Q3 + 1.5 * IQR)\n",
    "print(\"Min value before which outlier exist: {}\".format(Min_value0))\n",
    "print(\"Max value after which outlier exist: {}\".format(Max_value0))"
   ]
  },
  {
   "cell_type": "code",
   "execution_count": null,
   "metadata": {},
   "outputs": [],
   "source": [
    "# plot the graph \n",
    "\n",
    "plt.figure(figsize = [20,8])\n",
    "sns.distplot(df_target_1[df_target_1['AGE'] <= Max_value1].AGE,label = 'Payment difficulties', hist=False)\n",
    "sns.distplot(df_target_0[df_target_0['AGE'] <= Max_value0].AGE,label = 'On-Time Payments', hist=False)\n",
    "plt.ticklabel_format(style='plain', axis='x')\n",
    "plt.xticks(rotation = 45)\n",
    "plt.legend()\n",
    "plt.show()"
   ]
  },
  {
   "cell_type": "markdown",
   "metadata": {},
   "source": [
    "Observations\n",
    "\n",
    "- AGE between 20 and 40, we see there are more applicants with Payment difficulties\n",
    "- where as AGE > 40 , there are more applicants with On-Time Payments"
   ]
  },
  {
   "cell_type": "markdown",
   "metadata": {},
   "source": [
    "Analysis of AMT_GOODS_PRICE"
   ]
  },
  {
   "cell_type": "code",
   "execution_count": null,
   "metadata": {},
   "outputs": [],
   "source": [
    "# IQR - pay ment diffculties \n",
    "\n",
    "Q1 = df_target_1['AMT_GOODS_PRICE'].quantile(0.25)\n",
    "Q3 = df_target_1['AMT_GOODS_PRICE'].quantile(0.75)\n",
    "IQR = Q3 - Q1\n",
    "print(IQR)"
   ]
  },
  {
   "cell_type": "code",
   "execution_count": null,
   "metadata": {},
   "outputs": [],
   "source": [
    "Min_value1 = (Q1 - 1.5 * IQR)\n",
    "Max_value1 = (Q3 + 1.5 * IQR)\n",
    "print(\"Min value before which outlier exist: {}\".format(Min_value1))\n",
    "print(\"Max value after which outlier exist: {}\".format(Max_value1))"
   ]
  },
  {
   "cell_type": "code",
   "execution_count": null,
   "metadata": {},
   "outputs": [],
   "source": [
    "# IQR - pay ment on time \n",
    "\n",
    "Q1 = df_target_0['AMT_GOODS_PRICE'].quantile(0.25)\n",
    "Q3 = df_target_0['AMT_GOODS_PRICE'].quantile(0.75)\n",
    "IQR = Q3 - Q1\n",
    "print(IQR)"
   ]
  },
  {
   "cell_type": "code",
   "execution_count": null,
   "metadata": {},
   "outputs": [],
   "source": [
    "Min_value0 = (Q1 - 1.5 * IQR)\n",
    "Max_value0 = (Q3 + 1.5 * IQR)\n",
    "print(\"Min value before which outlier exist: {}\".format(Min_value0))\n",
    "print(\"Max value after which outlier exist: {}\".format(Max_value0))"
   ]
  },
  {
   "cell_type": "code",
   "execution_count": null,
   "metadata": {},
   "outputs": [],
   "source": [
    "# plt dist plt \n",
    "\n",
    "plt.figure(figsize = [20,8])\n",
    "sns.distplot(df_target_1[df_target_1['AMT_GOODS_PRICE'] <= Max_value1].AMT_GOODS_PRICE,label = 'Payment difficulties', hist=False)\n",
    "sns.distplot(df_target_0[df_target_0['AMT_GOODS_PRICE'] <= Max_value0].AMT_GOODS_PRICE,label = 'On-Time Payments', hist=False)\n",
    "plt.ticklabel_format(style='plain', axis='x')\n",
    "plt.xticks(rotation = 45)\n",
    "plt.legend()\n",
    "plt.show()"
   ]
  },
  {
   "cell_type": "markdown",
   "metadata": {},
   "source": [
    "Observations\n",
    "\n",
    "- For AMT_GOODS_PRICE between 20000 - 550000, there are more applincats with Payment difficulties\n",
    "- Otherwise there are spikes on and off . from which we cannot conclude any observation from the trend "
   ]
  },
  {
   "cell_type": "code",
   "execution_count": null,
   "metadata": {},
   "outputs": [],
   "source": []
  },
  {
   "cell_type": "markdown",
   "metadata": {},
   "source": [
    "Analysis of DAYS_EMPLOYED"
   ]
  },
  {
   "cell_type": "code",
   "execution_count": null,
   "metadata": {},
   "outputs": [],
   "source": [
    "# IQR - Payment difficulties \n",
    "\n",
    "Q1 = df_target_1['DAYS_EMPLOYED'].quantile(0.25)\n",
    "Q3 = df_target_1['DAYS_EMPLOYED'].quantile(0.75)\n",
    "IQR = Q3 - Q1\n",
    "print(IQR)"
   ]
  },
  {
   "cell_type": "code",
   "execution_count": null,
   "metadata": {},
   "outputs": [],
   "source": [
    "Min_value1 = (Q1 - 1.5 * IQR)\n",
    "Max_value1 = (Q3 + 1.5 * IQR)\n",
    "print(\"Min value before which outlier exist: {}\".format(Min_value1))\n",
    "print(\"Max value after which outlier exist: {}\".format(Max_value1))"
   ]
  },
  {
   "cell_type": "code",
   "execution_count": null,
   "metadata": {},
   "outputs": [],
   "source": [
    "# IQR - Payment on time \n",
    "\n",
    "Q1 = df_target_0['DAYS_EMPLOYED'].quantile(0.25)\n",
    "Q3 = df_target_0['DAYS_EMPLOYED'].quantile(0.75)\n",
    "IQR = Q3 - Q1\n",
    "print(IQR)"
   ]
  },
  {
   "cell_type": "code",
   "execution_count": null,
   "metadata": {},
   "outputs": [],
   "source": [
    "Min_value0 = (Q1 - 1.5 * IQR)\n",
    "Max_value0 = (Q3 + 1.5 * IQR)\n",
    "print(\"Min value before which outlier exist: {}\".format(Min_value0))\n",
    "print(\"Max value after which outlier exist: {}\".format(Max_value0))"
   ]
  },
  {
   "cell_type": "code",
   "execution_count": null,
   "metadata": {},
   "outputs": [],
   "source": [
    "plt.figure(figsize = [20,8])\n",
    "sns.distplot(df_target_1[df_target_1['DAYS_EMPLOYED'] <= Max_value1].DAYS_EMPLOYED,label = 'Payment difficulties', hist=False)\n",
    "sns.distplot(df_target_0[df_target_0['DAYS_EMPLOYED'] <= Max_value0].DAYS_EMPLOYED,label = 'On-Time Payments', hist=False)\n",
    "plt.ticklabel_format(style='plain', axis='x')\n",
    "plt.xticks(rotation = 45)\n",
    "plt.legend()\n",
    "plt.show()"
   ]
  },
  {
   "cell_type": "code",
   "execution_count": null,
   "metadata": {},
   "outputs": [],
   "source": [
    "# do chcek for years employed as well \n",
    "\n",
    "\n",
    "# IQR - Payment difficulties \n",
    "\n",
    "Q1 = df_target_1['YEAR_EMPLOYED'].quantile(0.25)\n",
    "Q3 = df_target_1['YEAR_EMPLOYED'].quantile(0.75)\n",
    "IQR = Q3 - Q1\n",
    "print(IQR)\n",
    "\n",
    "Min_value1 = (Q1 - 1.5 * IQR)\n",
    "Max_value1 = (Q3 + 1.5 * IQR)\n",
    "print(\"Min value before which outlier exist: {}\".format(Min_value1))\n",
    "print(\"Max value after which outlier exist: {}\".format(Max_value1))"
   ]
  },
  {
   "cell_type": "code",
   "execution_count": null,
   "metadata": {},
   "outputs": [],
   "source": [
    "\n",
    "# IQR - Payment on time \n",
    "\n",
    "Q1 = df_target_0['YEAR_EMPLOYED'].quantile(0.25)\n",
    "Q3 = df_target_0['YEAR_EMPLOYED'].quantile(0.75)\n",
    "IQR = Q3 - Q1\n",
    "print(IQR)\n",
    "\n",
    "Min_value0 = (Q1 - 1.5 * IQR)\n",
    "Max_value0 = (Q3 + 1.5 * IQR)\n",
    "print(\"Min value before which outlier exist: {}\".format(Min_value0))\n",
    "print(\"Max value after which outlier exist: {}\".format(Max_value0))"
   ]
  },
  {
   "cell_type": "code",
   "execution_count": null,
   "metadata": {},
   "outputs": [],
   "source": [
    "plt.figure(figsize = [20,8])\n",
    "sns.distplot(df_target_1[df_target_1['YEAR_EMPLOYED'] <= Max_value1].YEAR_EMPLOYED,label = 'Payment difficulties', hist=False)\n",
    "sns.distplot(df_target_0[df_target_0['YEAR_EMPLOYED'] <= Max_value0].YEAR_EMPLOYED,label = 'On-Time Payments', hist=False)\n",
    "plt.ticklabel_format(style='plain', axis='x')\n",
    "plt.xticks(rotation = 45)\n",
    "plt.legend()\n",
    "plt.show()"
   ]
  },
  {
   "cell_type": "markdown",
   "metadata": {},
   "source": [
    "Observations\n",
    "\n",
    "- For DAYS_EMPLOYED less than 2000, there are more applicants with Payment difficulties\n",
    "- for DAYS_EMPLOYED > 2000 , there are more applicants with On-Time Payments\n",
    "\n",
    "OR in other words we can also look at it has ; \n",
    "- For YEAR_EMPLOYED less than 7, there are more applicants with Payment difficulties\n",
    "- for YEAR_EMPLOYED > 7 , there are more applicants with On-Time Payments\n",
    "\n",
    "\n",
    "This means that those who are employed longer have better chances of repaying the loan / ontime payment is done\n",
    "\n"
   ]
  },
  {
   "cell_type": "code",
   "execution_count": null,
   "metadata": {},
   "outputs": [],
   "source": []
  },
  {
   "cell_type": "markdown",
   "metadata": {},
   "source": [
    "\n",
    "Analysis of CNT_CHILDREN"
   ]
  },
  {
   "cell_type": "code",
   "execution_count": null,
   "metadata": {},
   "outputs": [],
   "source": [
    "# IQR - payment difficulties \n",
    "\n",
    "Q1 = df_target_1['CNT_CHILDREN'].quantile(0.25)\n",
    "Q3 = df_target_1['CNT_CHILDREN'].quantile(0.75)\n",
    "IQR = Q3 - Q1\n",
    "print(IQR)\n",
    "\n",
    "\n",
    "Min_value1 = (Q1 - 1.5 * IQR)\n",
    "Max_value1 = (Q3 + 1.5 * IQR)\n",
    "print(\"Min value before which outlier exist: {}\".format(Min_value1))\n",
    "print(\"Max value after which outlier exist: {}\".format(Max_value1))"
   ]
  },
  {
   "cell_type": "code",
   "execution_count": null,
   "metadata": {},
   "outputs": [],
   "source": [
    "# IQR - payment on time \n",
    "\n",
    "Q1 = df_target_0['CNT_CHILDREN'].quantile(0.25)\n",
    "Q3 = df_target_0['CNT_CHILDREN'].quantile(0.75)\n",
    "IQR = Q3 - Q1\n",
    "print(IQR)\n",
    "\n",
    "\n",
    "Min_value0 = (Q1 - 1.5 * IQR)\n",
    "Max_value0 = (Q3 + 1.5 * IQR)\n",
    "print(\"Min value before which outlier exist: {}\".format(Min_value0))\n",
    "print(\"Max value after which outlier exist: {}\".format(Max_value0))"
   ]
  },
  {
   "cell_type": "code",
   "execution_count": null,
   "metadata": {},
   "outputs": [],
   "source": [
    "# plt the graph \n",
    "\n",
    "plt.figure(figsize = [20,8])\n",
    "sns.distplot(df_target_1[df_target_1['CNT_CHILDREN'] <= Max_value1].CNT_CHILDREN,label = 'Payment difficulties', hist=False)\n",
    "sns.distplot(df_target_0[df_target_0['CNT_CHILDREN'] <= Max_value0].CNT_CHILDREN,label = 'On-Time Payments', hist=False)\n",
    "plt.ticklabel_format(style='plain', axis='x')\n",
    "plt.xticks(rotation = 45)\n",
    "plt.legend()\n",
    "plt.show()"
   ]
  },
  {
   "cell_type": "markdown",
   "metadata": {},
   "source": [
    "Observation:\n",
    "    \n",
    " - There are spikes on and off . from which we cannot conclude any observation from the trend\n",
    " - One which stand out is , with 0 children the on time payment applicants are way high "
   ]
  },
  {
   "cell_type": "code",
   "execution_count": null,
   "metadata": {},
   "outputs": [],
   "source": []
  },
  {
   "cell_type": "markdown",
   "metadata": {},
   "source": [
    "\n",
    "Analysis of AMT_INCOME_TOTAL"
   ]
  },
  {
   "cell_type": "code",
   "execution_count": null,
   "metadata": {},
   "outputs": [],
   "source": [
    "# IQR - payment difficulty \n",
    "\n",
    "Q1 = df_target_1['AMT_INCOME_TOTAL'].quantile(0.25)\n",
    "Q3 = df_target_1['AMT_INCOME_TOTAL'].quantile(0.75)\n",
    "IQR = Q3 - Q1\n",
    "print(IQR)\n",
    "\n",
    "\n",
    "Min_value1 = (Q1 - 1.5 * IQR)\n",
    "Max_value1 = (Q3 + 1.5 * IQR)\n",
    "print(\"Min value before which outlier exist: {}\".format(Min_value1))\n",
    "print(\"Max value after which outlier exist: {}\".format(Max_value1))"
   ]
  },
  {
   "cell_type": "code",
   "execution_count": null,
   "metadata": {},
   "outputs": [],
   "source": [
    "# IQR - payment on time \n",
    "\n",
    "Q1 = df_target_0['AMT_INCOME_TOTAL'].quantile(0.25)\n",
    "Q3 = df_target_0['AMT_INCOME_TOTAL'].quantile(0.75)\n",
    "IQR = Q3 - Q1\n",
    "print(IQR)\n",
    "\n",
    "\n",
    "Min_value0 = (Q1 - 1.5 * IQR)\n",
    "Max_value0 = (Q3 + 1.5 * IQR)\n",
    "print(\"Min value before which outlier exist: {}\".format(Min_value0))\n",
    "print(\"Max value after which outlier exist: {}\".format(Max_value0))"
   ]
  },
  {
   "cell_type": "code",
   "execution_count": null,
   "metadata": {},
   "outputs": [],
   "source": [
    "plt.figure(figsize = [20,8])\n",
    "sns.distplot(df_target_1[df_target_1['AMT_INCOME_TOTAL'] <= Max_value1].AMT_INCOME_TOTAL,label = 'Payment difficulties', hist=False)\n",
    "sns.distplot(df_target_0[df_target_0['AMT_INCOME_TOTAL'] <= Max_value0].AMT_INCOME_TOTAL,label = 'On-Time Payments', hist=False)\n",
    "plt.ticklabel_format(style='plain', axis='x')\n",
    "plt.xticks(rotation = 45)\n",
    "plt.legend()\n",
    "plt.show()"
   ]
  },
  {
   "cell_type": "markdown",
   "metadata": {},
   "source": [
    "Observations : \n",
    "\n",
    "- Based on AMT_INCOME_TOTAL, for applicants with Payment difficulties the distribution resembles a normal distribution approximately\n",
    "- But for applicants with On-Time Payments, there are spikes in the distribution which don't give any valid observations"
   ]
  },
  {
   "cell_type": "code",
   "execution_count": null,
   "metadata": {},
   "outputs": [],
   "source": []
  },
  {
   "cell_type": "code",
   "execution_count": null,
   "metadata": {},
   "outputs": [],
   "source": []
  },
  {
   "cell_type": "code",
   "execution_count": null,
   "metadata": {},
   "outputs": [],
   "source": []
  },
  {
   "cell_type": "markdown",
   "metadata": {},
   "source": [
    "# Bivariate/Multivariate analysis"
   ]
  },
  {
   "cell_type": "markdown",
   "metadata": {},
   "source": [
    "\n",
    "\n",
    "\n",
    "\n",
    "Analysis of AMT_GOODS_PRICE V/S AMT_CREDIT"
   ]
  },
  {
   "cell_type": "code",
   "execution_count": null,
   "metadata": {},
   "outputs": [],
   "source": [
    "df_target_1.info()"
   ]
  },
  {
   "cell_type": "code",
   "execution_count": null,
   "metadata": {},
   "outputs": [],
   "source": [
    "# IQR - payment difficulty \n",
    "\n",
    "Q1 = df_target_1['AMT_GOODS_PRICE'].quantile(0.25)\n",
    "Q3 = df_target_1['AMT_GOODS_PRICE'].quantile(0.75)\n",
    "IQR = Q3 - Q1\n",
    "print(IQR)\n",
    "\n",
    "\n",
    "Min_value1 = (Q1 - 1.5 * IQR)\n",
    "Max_value1 = (Q3 + 1.5 * IQR)\n",
    "print(\"Min value before which outlier exist: {}\".format(Min_value1))\n",
    "print(\"Max value after which outlier exist: {}\".format(Max_value1))"
   ]
  },
  {
   "cell_type": "code",
   "execution_count": null,
   "metadata": {},
   "outputs": [],
   "source": [
    "# IQR - payment difficulty \n",
    "\n",
    "Q1 = df_target_1['AMT_CREDIT'].quantile(0.25)\n",
    "Q3 = df_target_1['AMT_CREDIT'].quantile(0.75)\n",
    "IQR = Q3 - Q1\n",
    "print(IQR)\n",
    "\n",
    "\n",
    "Min_value2 = (Q1 - 1.5 * IQR)\n",
    "Max_value2 = (Q3 + 1.5 * IQR)\n",
    "print(\"Min value before which outlier exist: {}\".format(Min_value2))\n",
    "print(\"Max value after which outlier exist: {}\".format(Max_value2))"
   ]
  },
  {
   "cell_type": "code",
   "execution_count": null,
   "metadata": {},
   "outputs": [],
   "source": [
    "# IQR - payment on time \n",
    "\n",
    "Q1 = df_target_0['AMT_GOODS_PRICE'].quantile(0.25)\n",
    "Q3 = df_target_0['AMT_GOODS_PRICE'].quantile(0.75)\n",
    "IQR = Q3 - Q1\n",
    "print(IQR)\n",
    "\n",
    "\n",
    "Min_value0 = (Q1 - 1.5 * IQR)\n",
    "Max_value0 = (Q3 + 1.5 * IQR)\n",
    "print(\"Min value before which outlier exist: {}\".format(Min_value0))\n",
    "print(\"Max value after which outlier exist: {}\".format(Max_value0))"
   ]
  },
  {
   "cell_type": "code",
   "execution_count": null,
   "metadata": {},
   "outputs": [],
   "source": [
    "# IQR - payment on time \n",
    "\n",
    "Q1 = df_target_0['AMT_CREDIT'].quantile(0.25)\n",
    "Q3 = df_target_0['AMT_CREDIT'].quantile(0.75)\n",
    "IQR = Q3 - Q1\n",
    "print(IQR)\n",
    "\n",
    "\n",
    "Min_value02= (Q1 - 1.5 * IQR)\n",
    "Max_value02 = (Q3 + 1.5 * IQR)\n",
    "print(\"Min value before which outlier exist: {}\".format(Min_value02))\n",
    "print(\"Max value after which outlier exist: {}\".format(Max_value02))"
   ]
  },
  {
   "cell_type": "code",
   "execution_count": null,
   "metadata": {},
   "outputs": [],
   "source": [
    "# plt the graph \n",
    "\n",
    "plt.figure(figsize = [20,8])\n",
    "\n",
    "plt.subplot(1,2,1)\n",
    "plt.title('Payment difficulties')\n",
    "sns.scatterplot(x = df_target_1[df_target_1['AMT_GOODS_PRICE'] < Max_value1].AMT_GOODS_PRICE, \n",
    "                y = df_target_1[df_target_1['AMT_CREDIT'] < Max_value2].AMT_CREDIT, data = df_target_1)\n",
    "plt.ticklabel_format(style='plain', axis='x')\n",
    "plt.ticklabel_format(style='plain', axis='y')\n",
    "\n",
    "plt.subplot(1,2,2)\n",
    "plt.title('On-Time Payments')\n",
    "sns.scatterplot(x = df_target_0[df_target_0['AMT_GOODS_PRICE'] < Max_value0].AMT_GOODS_PRICE, \n",
    "                y = df_target_0[df_target_0['AMT_CREDIT'] < Max_value02].AMT_CREDIT, data = df_target_0)\n",
    "plt.ticklabel_format(style='plain', axis='x')\n",
    "plt.ticklabel_format(style='plain', axis='y')\n",
    "\n",
    "plt.tight_layout(pad = 4)\n",
    "plt.show()"
   ]
  },
  {
   "cell_type": "markdown",
   "metadata": {},
   "source": [
    "Observation  : \n",
    "    \n",
    " - AMT_GOODS_PRICE and AMT_CREDIT have strong positive correlation. \n",
    " - This means that as Goods price increases, so does Credit Amount"
   ]
  },
  {
   "cell_type": "code",
   "execution_count": null,
   "metadata": {},
   "outputs": [],
   "source": []
  },
  {
   "cell_type": "code",
   "execution_count": null,
   "metadata": {},
   "outputs": [],
   "source": []
  },
  {
   "cell_type": "markdown",
   "metadata": {},
   "source": [
    "Analysis of AMT_ANNUITY V/S AMT_CREDIT"
   ]
  },
  {
   "cell_type": "code",
   "execution_count": null,
   "metadata": {},
   "outputs": [],
   "source": [
    "# IQR - payment difficulty \n",
    "\n",
    "Q1 = df_target_1['AMT_ANNUITY'].quantile(0.25)\n",
    "Q3 = df_target_1['AMT_ANNUITY'].quantile(0.75)\n",
    "IQR = Q3 - Q1\n",
    "print(IQR)\n",
    "\n",
    "\n",
    "Min_value1 = (Q1 - 1.5 * IQR)\n",
    "Max_value1 = (Q3 + 1.5 * IQR)\n",
    "print(\"Min value before which outlier exist: {}\".format(Min_value1))\n",
    "print(\"Max value after which outlier exist: {}\".format(Max_value1))"
   ]
  },
  {
   "cell_type": "code",
   "execution_count": null,
   "metadata": {},
   "outputs": [],
   "source": [
    "# IQR - payment difficulty \n",
    "\n",
    "Q1 = df_target_1['AMT_CREDIT'].quantile(0.25)\n",
    "Q3 = df_target_1['AMT_CREDIT'].quantile(0.75)\n",
    "IQR = Q3 - Q1\n",
    "print(IQR)\n",
    "\n",
    "\n",
    "Min_value12 = (Q1 - 1.5 * IQR)\n",
    "Max_value12 = (Q3 + 1.5 * IQR)\n",
    "print(\"Min value before which outlier exist: {}\".format(Min_value12))\n",
    "print(\"Max value after which outlier exist: {}\".format(Max_value12))"
   ]
  },
  {
   "cell_type": "code",
   "execution_count": null,
   "metadata": {},
   "outputs": [],
   "source": [
    "# IQR - payment on time \n",
    "\n",
    "Q1 = df_target_0['AMT_ANNUITY'].quantile(0.25)\n",
    "Q3 = df_target_0['AMT_ANNUITY'].quantile(0.75)\n",
    "IQR = Q3 - Q1\n",
    "print(IQR)\n",
    "\n",
    "\n",
    "Min_value0 = (Q1 - 1.5 * IQR)\n",
    "Max_value0 = (Q3 + 1.5 * IQR)\n",
    "print(\"Min value before which outlier exist: {}\".format(Min_value0))\n",
    "print(\"Max value after which outlier exist: {}\".format(Max_value0))"
   ]
  },
  {
   "cell_type": "code",
   "execution_count": null,
   "metadata": {},
   "outputs": [],
   "source": [
    "# IQR - payment on time \n",
    "\n",
    "Q1 = df_target_0['AMT_CREDIT'].quantile(0.25)\n",
    "Q3 = df_target_0['AMT_CREDIT'].quantile(0.75)\n",
    "IQR = Q3 - Q1\n",
    "print(IQR)\n",
    "\n",
    "\n",
    "Min_value02 = (Q1 - 1.5 * IQR)\n",
    "Max_value02 = (Q3 + 1.5 * IQR)\n",
    "print(\"Min value before which outlier exist: {}\".format(Min_value02))\n",
    "print(\"Max value after which outlier exist: {}\".format(Max_value02))"
   ]
  },
  {
   "cell_type": "code",
   "execution_count": null,
   "metadata": {},
   "outputs": [],
   "source": [
    "#  plt the graph \n",
    "\n",
    "plt.figure(figsize = [20,8])\n",
    "\n",
    "plt.subplot(1,2,1)\n",
    "plt.title('Payment difficulties')\n",
    "sns.scatterplot(x = df_target_1[df_target_1['AMT_ANNUITY'] < Max_value1].AMT_ANNUITY, \n",
    "                y = df_target_1[df_target_1['AMT_CREDIT'] < Max_value12].AMT_CREDIT, data = df_target_1)\n",
    "plt.ticklabel_format(style='plain', axis='x')\n",
    "plt.ticklabel_format(style='plain', axis='y')\n",
    "\n",
    "plt.subplot(1,2,2)\n",
    "plt.title('On-Time Payments')\n",
    "sns.scatterplot(x = df_target_0[df_target_0['AMT_ANNUITY'] < Max_value0].AMT_ANNUITY, \n",
    "                y = df_target_0[df_target_0['AMT_CREDIT'] < Max_value02].AMT_CREDIT, data = df_target_0)\n",
    "plt.ticklabel_format(style='plain', axis='x')\n",
    "plt.ticklabel_format(style='plain', axis='y')\n",
    "\n",
    "plt.tight_layout(pad = 4)\n",
    "plt.show()"
   ]
  },
  {
   "cell_type": "markdown",
   "metadata": {},
   "source": [
    "Observations\n",
    "\n",
    "AMT_ANNUITY and AMT_CREDIT have strong positive correlation. \n",
    "This means that as Annuity Amount increases, so does Credit Amount"
   ]
  },
  {
   "cell_type": "code",
   "execution_count": null,
   "metadata": {},
   "outputs": [],
   "source": []
  },
  {
   "cell_type": "code",
   "execution_count": null,
   "metadata": {},
   "outputs": [],
   "source": []
  },
  {
   "cell_type": "markdown",
   "metadata": {},
   "source": [
    "Analysis of YEAR_EMPLOYED V/S AMT_INCOME_TOTAL"
   ]
  },
  {
   "cell_type": "code",
   "execution_count": null,
   "metadata": {},
   "outputs": [],
   "source": [
    "# IQR - payment difficulty \n",
    "\n",
    "Q1 = df_target_1['YEAR_EMPLOYED'].quantile(0.25)\n",
    "Q3 = df_target_1['YEAR_EMPLOYED'].quantile(0.75)\n",
    "IQR = Q3 - Q1\n",
    "print(IQR)\n",
    "\n",
    "\n",
    "Min_value1 = (Q1 - 1.5 * IQR)\n",
    "Max_value1 = (Q3 + 1.5 * IQR)\n",
    "print(\"Min value before which outlier exist: {}\".format(Min_value1))\n",
    "print(\"Max value after which outlier exist: {}\".format(Max_value1))"
   ]
  },
  {
   "cell_type": "code",
   "execution_count": null,
   "metadata": {},
   "outputs": [],
   "source": [
    "# IQR - payment difficulty \n",
    "\n",
    "Q1 = df_target_1['AMT_INCOME_TOTAL'].quantile(0.25)\n",
    "Q3 = df_target_1['AMT_INCOME_TOTAL'].quantile(0.75)\n",
    "IQR = Q3 - Q1\n",
    "print(IQR)\n",
    "\n",
    "\n",
    "Min_value12= (Q1 - 1.5 * IQR)\n",
    "Max_value12 = (Q3 + 1.5 * IQR)\n",
    "print(\"Min value before which outlier exist: {}\".format(Min_value12))\n",
    "print(\"Max value after which outlier exist: {}\".format(Max_value12))"
   ]
  },
  {
   "cell_type": "code",
   "execution_count": null,
   "metadata": {},
   "outputs": [],
   "source": [
    "# IQR - payment on time \n",
    "\n",
    "Q1 = df_target_0['YEAR_EMPLOYED'].quantile(0.25)\n",
    "Q3 = df_target_0['YEAR_EMPLOYED'].quantile(0.75)\n",
    "IQR = Q3 - Q1\n",
    "print(IQR)\n",
    "\n",
    "\n",
    "Min_value0 = (Q1 - 1.5 * IQR)\n",
    "Max_value0 = (Q3 + 1.5 * IQR)\n",
    "print(\"Min value before which outlier exist: {}\".format(Min_value0))\n",
    "print(\"Max value after which outlier exist: {}\".format(Max_value0))"
   ]
  },
  {
   "cell_type": "code",
   "execution_count": null,
   "metadata": {},
   "outputs": [],
   "source": [
    "# IQR - payment on time \n",
    "\n",
    "Q1 = df_target_0['AMT_INCOME_TOTAL'].quantile(0.25)\n",
    "Q3 = df_target_0['AMT_INCOME_TOTAL'].quantile(0.75)\n",
    "IQR = Q3 - Q1\n",
    "print(IQR)\n",
    "\n",
    "\n",
    "Min_value02 = (Q1 - 1.5 * IQR)\n",
    "Max_value02 = (Q3 + 1.5 * IQR)\n",
    "print(\"Min value before which outlier exist: {}\".format(Min_value02))\n",
    "print(\"Max value after which outlier exist: {}\".format(Max_value02))"
   ]
  },
  {
   "cell_type": "code",
   "execution_count": null,
   "metadata": {},
   "outputs": [],
   "source": [
    "\n",
    "\n",
    "#  plt the graph \n",
    "\n",
    "plt.figure(figsize = [20,8])\n",
    "\n",
    "plt.subplot(1,2,1)\n",
    "plt.title('Payment difficulties')\n",
    "sns.scatterplot(x = df_target_1[df_target_1['YEAR_EMPLOYED'] < Max_value1].YEAR_EMPLOYED, \n",
    "                y = df_target_1[df_target_1['AMT_INCOME_TOTAL'] < Max_value12].AMT_INCOME_TOTAL, data = df_target_1)\n",
    "plt.ticklabel_format(style='plain', axis='x')\n",
    "plt.ticklabel_format(style='plain', axis='y')\n",
    "\n",
    "plt.subplot(1,2,2)\n",
    "plt.title('On-Time Payments')\n",
    "sns.scatterplot(x = df_target_0[df_target_0['YEAR_EMPLOYED'] < Max_value0].YEAR_EMPLOYED, \n",
    "                y = df_target_0[df_target_0['AMT_INCOME_TOTAL'] < Max_value02].AMT_INCOME_TOTAL, data = df_target_0)\n",
    "plt.ticklabel_format(style='plain', axis='x')\n",
    "plt.ticklabel_format(style='plain', axis='y')\n",
    "\n",
    "plt.tight_layout(pad = 4)\n",
    "plt.show()"
   ]
  },
  {
   "cell_type": "markdown",
   "metadata": {},
   "source": [
    "Observation: \n",
    "   - applicants who are employed for a long time are making their payments on-time \n"
   ]
  },
  {
   "cell_type": "code",
   "execution_count": null,
   "metadata": {},
   "outputs": [],
   "source": []
  },
  {
   "cell_type": "code",
   "execution_count": null,
   "metadata": {},
   "outputs": [],
   "source": []
  },
  {
   "cell_type": "code",
   "execution_count": null,
   "metadata": {},
   "outputs": [],
   "source": []
  },
  {
   "cell_type": "markdown",
   "metadata": {},
   "source": [
    "Analysis of AMT_CREDIT V/S DAYS_BIRTH"
   ]
  },
  {
   "cell_type": "code",
   "execution_count": null,
   "metadata": {},
   "outputs": [],
   "source": [
    "# IQR - payment difficulty \n",
    "\n",
    "Q1 = df_target_1['DAYS_BIRTH'].quantile(0.25)\n",
    "Q3 = df_target_1['DAYS_BIRTH'].quantile(0.75)\n",
    "IQR = Q3 - Q1\n",
    "print(IQR)\n",
    "\n",
    "\n",
    "Min_value1 = (Q1 - 1.5 * IQR)\n",
    "Max_value1 = (Q3 + 1.5 * IQR)\n",
    "print(\"Min value before which outlier exist: {}\".format(Min_value1))\n",
    "print(\"Max value after which outlier exist: {}\".format(Max_value1))"
   ]
  },
  {
   "cell_type": "code",
   "execution_count": null,
   "metadata": {},
   "outputs": [],
   "source": [
    "# IQR - payment difficulty \n",
    "\n",
    "Q1 = df_target_1['AMT_CREDIT'].quantile(0.25)\n",
    "Q3 = df_target_1['AMT_CREDIT'].quantile(0.75)\n",
    "IQR = Q3 - Q1\n",
    "print(IQR)\n",
    "\n",
    "\n",
    "Min_value12= (Q1 - 1.5 * IQR)\n",
    "Max_value12 = (Q3 + 1.5 * IQR)\n",
    "print(\"Min value before which outlier exist: {}\".format(Min_value12))\n",
    "print(\"Max value after which outlier exist: {}\".format(Max_value12))"
   ]
  },
  {
   "cell_type": "code",
   "execution_count": null,
   "metadata": {},
   "outputs": [],
   "source": [
    "# IQR - payment on time \n",
    "\n",
    "Q1 = df_target_0['DAYS_BIRTH'].quantile(0.25)\n",
    "Q3 = df_target_0['DAYS_BIRTH'].quantile(0.75)\n",
    "IQR = Q3 - Q1\n",
    "print(IQR)\n",
    "\n",
    "\n",
    "Min_value0 = (Q1 - 1.5 * IQR)\n",
    "Max_value0 = (Q3 + 1.5 * IQR)\n",
    "print(\"Min value before which outlier exist: {}\".format(Min_value0))\n",
    "print(\"Max value after which outlier exist: {}\".format(Max_value0))"
   ]
  },
  {
   "cell_type": "code",
   "execution_count": null,
   "metadata": {},
   "outputs": [],
   "source": [
    "# IQR - payment on time \n",
    "\n",
    "Q1 = df_target_0['AMT_CREDIT'].quantile(0.25)\n",
    "Q3 = df_target_0['AMT_CREDIT'].quantile(0.75)\n",
    "IQR = Q3 - Q1\n",
    "print(IQR)\n",
    "\n",
    "\n",
    "Min_value02 = (Q1 - 1.5 * IQR)\n",
    "Max_value02 = (Q3 + 1.5 * IQR)\n",
    "print(\"Min value before which outlier exist: {}\".format(Min_value02))\n",
    "print(\"Max value after which outlier exist: {}\".format(Max_value02))"
   ]
  },
  {
   "cell_type": "code",
   "execution_count": null,
   "metadata": {},
   "outputs": [],
   "source": [
    "#  plt the graph \n",
    "\n",
    "plt.figure(figsize = [20,8])\n",
    "\n",
    "plt.subplot(1,2,1)\n",
    "plt.title('Payment difficulties')\n",
    "sns.scatterplot(x = df_target_1[df_target_1['DAYS_BIRTH'] < Max_value1].DAYS_BIRTH, \n",
    "                y = df_target_1[df_target_1['AMT_CREDIT'] < Max_value12].AMT_CREDIT, data = df_target_1)\n",
    "plt.ticklabel_format(style='plain', axis='x')\n",
    "plt.ticklabel_format(style='plain', axis='y')\n",
    "\n",
    "plt.subplot(1,2,2)\n",
    "plt.title('On-Time Payments')\n",
    "sns.scatterplot(x = df_target_0[df_target_0['DAYS_BIRTH'] < Max_value0].DAYS_BIRTH, \n",
    "                y = df_target_0[df_target_0['AMT_CREDIT'] < Max_value02].AMT_CREDIT, data = df_target_0)\n",
    "plt.ticklabel_format(style='plain', axis='x')\n",
    "plt.ticklabel_format(style='plain', axis='y')\n",
    "\n",
    "plt.tight_layout(pad = 4)\n",
    "plt.show()"
   ]
  },
  {
   "cell_type": "markdown",
   "metadata": {},
   "source": [
    "Obsesrvations : \n",
    "    \n",
    " Nothing to co relate here "
   ]
  },
  {
   "cell_type": "code",
   "execution_count": null,
   "metadata": {},
   "outputs": [],
   "source": []
  },
  {
   "cell_type": "code",
   "execution_count": null,
   "metadata": {},
   "outputs": [],
   "source": []
  },
  {
   "cell_type": "code",
   "execution_count": null,
   "metadata": {},
   "outputs": [],
   "source": []
  },
  {
   "cell_type": "markdown",
   "metadata": {},
   "source": [
    "Analysis of AMT_ANNUITY V/S AMT_GOODS_PRICE"
   ]
  },
  {
   "cell_type": "code",
   "execution_count": null,
   "metadata": {},
   "outputs": [],
   "source": [
    "# IQR - payment difficulty \n",
    "\n",
    "Q1 = df_target_1['AMT_ANNUITY'].quantile(0.25)\n",
    "Q3 = df_target_1['AMT_ANNUITY'].quantile(0.75)\n",
    "IQR = Q3 - Q1\n",
    "print(IQR)\n",
    "\n",
    "\n",
    "Min_value1 = (Q1 - 1.5 * IQR)\n",
    "Max_value1 = (Q3 + 1.5 * IQR)\n",
    "print(\"Min value before which outlier exist: {}\".format(Min_value1))\n",
    "print(\"Max value after which outlier exist: {}\".format(Max_value1))\n",
    "\n",
    "\n",
    "# IQR - payment difficulty \n",
    "\n",
    "Q1 = df_target_1['AMT_GOODS_PRICE'].quantile(0.25)\n",
    "Q3 = df_target_1['AMT_GOODS_PRICE'].quantile(0.75)\n",
    "IQR = Q3 - Q1\n",
    "print(IQR)\n",
    "\n",
    "\n",
    "Min_value12= (Q1 - 1.5 * IQR)\n",
    "Max_value12 = (Q3 + 1.5 * IQR)\n",
    "print(\"Min value before which outlier exist: {}\".format(Min_value12))\n",
    "print(\"Max value after which outlier exist: {}\".format(Max_value12))\n"
   ]
  },
  {
   "cell_type": "code",
   "execution_count": null,
   "metadata": {},
   "outputs": [],
   "source": [
    "# IQR - payment on time \n",
    "\n",
    "Q1 = df_target_0['AMT_ANNUITY'].quantile(0.25)\n",
    "Q3 = df_target_0['AMT_ANNUITY'].quantile(0.75)\n",
    "IQR = Q3 - Q1\n",
    "print(IQR)\n",
    "\n",
    "\n",
    "Min_value0 = (Q1 - 1.5 * IQR)\n",
    "Max_value0 = (Q3 + 1.5 * IQR)\n",
    "print(\"Min value before which outlier exist: {}\".format(Min_value0))\n",
    "print(\"Max value after which outlier exist: {}\".format(Max_value0))\n",
    "\n",
    "\n",
    "# IQR - payment on time \n",
    "\n",
    "Q1 = df_target_0['AMT_GOODS_PRICE'].quantile(0.25)\n",
    "Q3 = df_target_0['AMT_GOODS_PRICE'].quantile(0.75)\n",
    "IQR = Q3 - Q1\n",
    "print(IQR)\n",
    "\n",
    "\n",
    "Min_value02 = (Q1 - 1.5 * IQR)\n",
    "Max_value02 = (Q3 + 1.5 * IQR)\n",
    "print(\"Min value before which outlier exist: {}\".format(Min_value02))\n",
    "print(\"Max value after which outlier exist: {}\".format(Max_value02))"
   ]
  },
  {
   "cell_type": "code",
   "execution_count": null,
   "metadata": {},
   "outputs": [],
   "source": [
    "#  plt the graph \n",
    "\n",
    "plt.figure(figsize = [20,8])\n",
    "\n",
    "plt.subplot(1,2,1)\n",
    "plt.title('Payment difficulties')\n",
    "sns.scatterplot(x = df_target_1[df_target_1['AMT_ANNUITY'] < Max_value1].AMT_ANNUITY, \n",
    "                y = df_target_1[df_target_1['AMT_GOODS_PRICE'] < Max_value12].AMT_GOODS_PRICE, data = df_target_1)\n",
    "plt.ticklabel_format(style='plain', axis='x')\n",
    "plt.ticklabel_format(style='plain', axis='y')\n",
    "\n",
    "plt.subplot(1,2,2)\n",
    "plt.title('On-Time Payments')\n",
    "sns.scatterplot(x = df_target_0[df_target_0['AMT_ANNUITY'] < Max_value0].AMT_ANNUITY, \n",
    "                y = df_target_0[df_target_0['AMT_GOODS_PRICE'] < Max_value02].AMT_GOODS_PRICE, data = df_target_0)\n",
    "plt.ticklabel_format(style='plain', axis='x')\n",
    "plt.ticklabel_format(style='plain', axis='y')\n",
    "\n",
    "plt.tight_layout(pad = 4)\n",
    "plt.show()"
   ]
  },
  {
   "cell_type": "markdown",
   "metadata": {},
   "source": [
    "Observations\n",
    "\n",
    "AMT_ANNUITY and AMT_GOODS_PRICE have strong positive correlation. \n",
    "\n",
    "This means that as Annuity increases, so does Goods Price"
   ]
  },
  {
   "cell_type": "code",
   "execution_count": null,
   "metadata": {},
   "outputs": [],
   "source": []
  },
  {
   "cell_type": "code",
   "execution_count": null,
   "metadata": {},
   "outputs": [],
   "source": []
  },
  {
   "cell_type": "code",
   "execution_count": null,
   "metadata": {},
   "outputs": [],
   "source": []
  },
  {
   "cell_type": "markdown",
   "metadata": {},
   "source": [
    "\n",
    "\n",
    "Analysis of NAME_EDUCATION_TYPE V/S AMT_CREDIT V/S CODE_GENDER"
   ]
  },
  {
   "cell_type": "code",
   "execution_count": null,
   "metadata": {},
   "outputs": [],
   "source": [
    "# IQR - payment difficulty \n",
    "\n",
    "Q1 = df_target_1['AMT_CREDIT'].quantile(0.25)\n",
    "Q3 = df_target_1['AMT_CREDIT'].quantile(0.75)\n",
    "IQR = Q3 - Q1\n",
    "print(IQR)\n",
    "\n",
    "\n",
    "Min_value1 = (Q1 - 1.5 * IQR)\n",
    "Max_value1 = (Q3 + 1.5 * IQR)\n",
    "print(\"Min value before which outlier exist: {}\".format(Min_value1))\n",
    "print(\"Max value after which outlier exist: {}\".format(Max_value1))"
   ]
  },
  {
   "cell_type": "code",
   "execution_count": null,
   "metadata": {},
   "outputs": [],
   "source": [
    "# IQR - payment ON TIME \n",
    "Q1 = df_target_0['AMT_CREDIT'].quantile(0.25)\n",
    "Q3 = df_target_0['AMT_CREDIT'].quantile(0.75)\n",
    "IQR = Q3 - Q1\n",
    "print(IQR)\n",
    "\n",
    "\n",
    "Min_value0 = (Q1 - 1.5 * IQR)\n",
    "Max_value0 = (Q3 + 1.5 * IQR)\n",
    "print(\"Min value before which outlier exist: {}\".format(Min_value0))\n",
    "print(\"Max value after which outlier exist: {}\".format(Max_value0))"
   ]
  },
  {
   "cell_type": "code",
   "execution_count": null,
   "metadata": {},
   "outputs": [],
   "source": [
    "# PIVOT TABLE - group by using the category variables  - with payment diffculty \n",
    "\n",
    "df_target_1.groupby(by = ['NAME_EDUCATION_TYPE','CODE_GENDER']).AMT_CREDIT.describe()"
   ]
  },
  {
   "cell_type": "code",
   "execution_count": null,
   "metadata": {},
   "outputs": [],
   "source": [
    "# PIVOT TABLE - group by using the category variables  - with payment on time \n",
    "\n",
    "df_target_0.groupby(by = ['NAME_EDUCATION_TYPE','CODE_GENDER']).AMT_CREDIT.describe()"
   ]
  },
  {
   "cell_type": "code",
   "execution_count": null,
   "metadata": {},
   "outputs": [],
   "source": [
    "# plt the tabel \n",
    "\n",
    "plt.figure(figsize = [20,12])\n",
    "\n",
    "plt.subplot(1,2,1)\n",
    "plt.title('Payment Difficulties')\n",
    "red_diamond = dict(markerfacecolor='r', marker='D')\n",
    "sns.boxplot(x = 'NAME_EDUCATION_TYPE', \n",
    "                y = df_target_1[df_target_1['AMT_CREDIT'] < Max_value1]['AMT_CREDIT'], \n",
    "                data = df_target_1, \n",
    "                flierprops = red_diamond, \n",
    "                order = sorted(df_target_1['NAME_EDUCATION_TYPE'].unique(), reverse = True),\n",
    "                hue = 'CODE_GENDER', hue_order = sorted(df_target_1['CODE_GENDER'].unique(), reverse = True))\n",
    "plt.ticklabel_format(style='plain', axis='y')\n",
    "plt.xticks(rotation=90)\n",
    "\n",
    "plt.subplot(1,2,2)\n",
    "plt.title('On-Time Payments')\n",
    "sns.boxplot(x = 'NAME_EDUCATION_TYPE', \n",
    "                y = df_target_0[df_target_0['AMT_CREDIT'] < Max_value0]['AMT_CREDIT'], \n",
    "                data = df_target_0, \n",
    "                flierprops = red_diamond, \n",
    "                order = sorted(df_target_0['NAME_EDUCATION_TYPE'].unique(), reverse = True),\n",
    "                hue = 'CODE_GENDER', hue_order = sorted(df_target_0['CODE_GENDER'].unique(), reverse = True))\n",
    "plt.ticklabel_format(style='plain', axis='y')\n",
    "plt.xticks(rotation=90)\n",
    "\n",
    "plt.tight_layout(pad = 4)\n",
    "plt.show()"
   ]
  },
  {
   "cell_type": "markdown",
   "metadata": {},
   "source": [
    "Observations: \n",
    "\n",
    "- Applicants with Academic Degree have a wide range of credits for On-Time Payments whereas the range is much lower for ones with Payment difficulties\n",
    "\n",
    "- Applicants with Academic Degree and Payment difficulties take mean and median credit at a much higher range than On-Time Payment applicnats\n",
    "\n",
    "- Male applicants with Academic Degree always pay the loan on-time ; we see none under payment difficulties\n",
    "\n",
    "- "
   ]
  },
  {
   "cell_type": "code",
   "execution_count": null,
   "metadata": {},
   "outputs": [],
   "source": []
  },
  {
   "cell_type": "code",
   "execution_count": null,
   "metadata": {},
   "outputs": [],
   "source": []
  },
  {
   "cell_type": "markdown",
   "metadata": {},
   "source": [
    "Analysis of NAME_FAMILY_STATUS V/S AMT_INCOME_TOTAL V/S CODE_GENDER"
   ]
  },
  {
   "cell_type": "code",
   "execution_count": null,
   "metadata": {},
   "outputs": [],
   "source": [
    "\n",
    "# IQR - payment difficulty \n",
    "\n",
    "Q1 = df_target_1['AMT_INCOME_TOTAL'].quantile(0.25)\n",
    "Q3 = df_target_1['AMT_INCOME_TOTAL'].quantile(0.75)\n",
    "IQR = Q3 - Q1\n",
    "print(IQR)\n",
    "\n",
    "\n",
    "Min_value1 = (Q1 - 1.5 * IQR)\n",
    "Max_value1 = (Q3 + 1.5 * IQR)\n",
    "print(\"Min value before which outlier exist: {}\".format(Min_value1))\n",
    "print(\"Max value after which outlier exist: {}\".format(Max_value1))"
   ]
  },
  {
   "cell_type": "code",
   "execution_count": null,
   "metadata": {},
   "outputs": [],
   "source": [
    "\n",
    "# IQR - payment on time \n",
    "\n",
    "Q1 = df_target_0['AMT_INCOME_TOTAL'].quantile(0.25)\n",
    "Q3 = df_target_0['AMT_INCOME_TOTAL'].quantile(0.75)\n",
    "IQR = Q3 - Q1\n",
    "print(IQR)\n",
    "\n",
    "\n",
    "Min_value0 = (Q1 - 1.5 * IQR)\n",
    "Max_value0 = (Q3 + 1.5 * IQR)\n",
    "print(\"Min value before which outlier exist: {}\".format(Min_value0))\n",
    "print(\"Max value after which outlier exist: {}\".format(Max_value0))"
   ]
  },
  {
   "cell_type": "code",
   "execution_count": null,
   "metadata": {},
   "outputs": [],
   "source": [
    "# # PIVOT TABLE - group by using the category variables  - with payment difficulties \n",
    "\n",
    "df_target_1.groupby(by = ['NAME_FAMILY_STATUS','CODE_GENDER']).AMT_INCOME_TOTAL.describe()"
   ]
  },
  {
   "cell_type": "code",
   "execution_count": null,
   "metadata": {},
   "outputs": [],
   "source": [
    "# # PIVOT TABLE - group by using the category variables  - with payment on time \n",
    "\n",
    "df_target_0.groupby(by = ['NAME_FAMILY_STATUS','CODE_GENDER']).AMT_INCOME_TOTAL.describe()"
   ]
  },
  {
   "cell_type": "code",
   "execution_count": null,
   "metadata": {},
   "outputs": [],
   "source": [
    "# plt the tabel \n",
    "\n",
    "plt.figure(figsize = [20,12])\n",
    "\n",
    "plt.subplot(1,2,1)\n",
    "plt.title('Payment Difficulties')\n",
    "red_diamond = dict(markerfacecolor='r', marker='D')\n",
    "sns.boxplot(x = 'NAME_FAMILY_STATUS', \n",
    "                y = df_target_1[df_target_1['AMT_INCOME_TOTAL'] < Max_value1]['AMT_INCOME_TOTAL'], \n",
    "                data = df_target_1, \n",
    "                flierprops = red_diamond, \n",
    "                order = sorted(df_target_1['NAME_FAMILY_STATUS'].unique(), reverse = True),\n",
    "                hue = 'CODE_GENDER', hue_order = sorted(df_target_1['CODE_GENDER'].unique(), reverse = True))\n",
    "plt.ticklabel_format(style='plain', axis='y')\n",
    "plt.xticks(rotation=90)\n",
    "\n",
    "plt.subplot(1,2,2)\n",
    "plt.title('On-Time Payments')\n",
    "sns.boxplot(x = 'NAME_FAMILY_STATUS', \n",
    "                y = df_target_0[df_target_0['AMT_INCOME_TOTAL'] < Max_value0]['AMT_INCOME_TOTAL'], \n",
    "                data = df_target_0, \n",
    "                flierprops = red_diamond, \n",
    "                order = sorted(df_target_0['NAME_FAMILY_STATUS'].unique(), reverse = True),\n",
    "                hue = 'CODE_GENDER', hue_order = sorted(df_target_0['CODE_GENDER'].unique(), reverse = True))\n",
    "plt.ticklabel_format(style='plain', axis='y')\n",
    "plt.xticks(rotation=90)\n",
    "\n",
    "plt.tight_layout(pad = 4)\n",
    "plt.show()"
   ]
  },
  {
   "cell_type": "markdown",
   "metadata": {},
   "source": [
    "Observations : \n",
    "\n",
    "- Married applicants ( Male ) have a slightly higher mean/median income with Ontime Payments than Payment difficulties category\n",
    "- Single - Not Married / Separted / Married / Civil Marriage applicants ( Female ) all have the same mean / medain income with Ontime Payments than Payment difficulties category "
   ]
  },
  {
   "cell_type": "code",
   "execution_count": null,
   "metadata": {},
   "outputs": [],
   "source": []
  },
  {
   "cell_type": "code",
   "execution_count": null,
   "metadata": {},
   "outputs": [],
   "source": []
  },
  {
   "cell_type": "code",
   "execution_count": null,
   "metadata": {},
   "outputs": [],
   "source": []
  },
  {
   "cell_type": "markdown",
   "metadata": {},
   "source": [
    "Analysis of AGE_CATEGORY V/S AMT_INCOME_TOTAL V/S NAME_HOUSING_TYPE"
   ]
  },
  {
   "cell_type": "code",
   "execution_count": null,
   "metadata": {},
   "outputs": [],
   "source": [
    "\n",
    "# IQR - payment difficulty \n",
    "\n",
    "Q1 = df_target_1['AMT_INCOME_TOTAL'].quantile(0.25)\n",
    "Q3 = df_target_1['AMT_INCOME_TOTAL'].quantile(0.75)\n",
    "IQR = Q3 - Q1\n",
    "print(IQR)\n",
    "\n",
    "\n",
    "Min_value1 = (Q1 - 1.5 * IQR)\n",
    "Max_value1 = (Q3 + 1.5 * IQR)\n",
    "print(\"Min value before which outlier exist: {}\".format(Min_value1))\n",
    "print(\"Max value after which outlier exist: {}\".format(Max_value1))"
   ]
  },
  {
   "cell_type": "code",
   "execution_count": null,
   "metadata": {},
   "outputs": [],
   "source": [
    "\n",
    "# IQR - payment on time \n",
    "\n",
    "Q1 = df_target_0['AMT_INCOME_TOTAL'].quantile(0.25)\n",
    "Q3 = df_target_0['AMT_INCOME_TOTAL'].quantile(0.75)\n",
    "IQR = Q3 - Q1\n",
    "print(IQR)\n",
    "\n",
    "\n",
    "Min_value0 = (Q1 - 1.5 * IQR)\n",
    "Max_value0 = (Q3 + 1.5 * IQR)\n",
    "print(\"Min value before which outlier exist: {}\".format(Min_value0))\n",
    "print(\"Max value after which outlier exist: {}\".format(Max_value0))"
   ]
  },
  {
   "cell_type": "code",
   "execution_count": null,
   "metadata": {},
   "outputs": [],
   "source": [
    "# # PIVOT TABLE - group by using the category variables  - with payment difficulties \n",
    "\n",
    "df_target_1.groupby(by = ['AGE_CATEGORY','NAME_HOUSING_TYPE']).AMT_INCOME_TOTAL.describe()"
   ]
  },
  {
   "cell_type": "code",
   "execution_count": null,
   "metadata": {},
   "outputs": [],
   "source": [
    "# # PIVOT TABLE - group by using the category variables  - with payment on time \n",
    "\n",
    "df_target_0.groupby(by = ['AGE_CATEGORY','NAME_HOUSING_TYPE']).AMT_INCOME_TOTAL.describe()"
   ]
  },
  {
   "cell_type": "code",
   "execution_count": null,
   "metadata": {},
   "outputs": [],
   "source": []
  },
  {
   "cell_type": "code",
   "execution_count": null,
   "metadata": {},
   "outputs": [],
   "source": [
    "\n",
    "plt.figure(figsize = [20,12])\n",
    "\n",
    "plt.subplot(1,2,1)\n",
    "plt.title('Payment Difficulties')\n",
    "red_diamond = dict(markerfacecolor='r', marker='D')\n",
    "sns.boxplot(x = 'AGE_CATEGORY', \n",
    "                y = df_target_1[df_target_1['AMT_INCOME_TOTAL'] < Max_value1]['AMT_INCOME_TOTAL'], \n",
    "                data = df_target_1, \n",
    "                flierprops = red_diamond, \n",
    "                order = sorted(df_target_1['AGE_CATEGORY'].unique(), reverse = True),\n",
    "                hue = 'NAME_HOUSING_TYPE', hue_order = sorted(df_target_1['NAME_HOUSING_TYPE'].unique(), reverse = True))\n",
    "plt.ticklabel_format(style='plain', axis='y')\n",
    "plt.xticks(rotation=90)\n",
    "\n",
    "plt.subplot(1,2,2)\n",
    "plt.title('On-Time Payments')\n",
    "sns.boxplot(x = 'AGE_CATEGORY', \n",
    "                y = df_target_0[df_target_0['AMT_INCOME_TOTAL'] < Max_value0]['AMT_INCOME_TOTAL'], \n",
    "                data = df_target_0, \n",
    "                flierprops = red_diamond, \n",
    "                order = sorted(df_target_0['AGE_CATEGORY'].unique(), reverse = True),\n",
    "                hue = 'NAME_HOUSING_TYPE', hue_order = sorted(df_target_0['NAME_HOUSING_TYPE'].unique(), reverse = True))\n",
    "plt.ticklabel_format(style='plain', axis='y')\n",
    "plt.xticks(rotation=90)\n",
    "\n",
    "plt.tight_layout(pad = 4)\n",
    "plt.show()"
   ]
  },
  {
   "cell_type": "markdown",
   "metadata": {},
   "source": [
    "Observations : \n",
    "\n",
    "- Applicants with age 60-70 and 30-40 ; living in Co-op apartment have very high income range in Payment difficulties category than On-Time Payments\n",
    "\n",
    "- Applicants with age 20-30 and living in Office apartment have very higher income median in On-Time Payments compared to Payment difficulties category"
   ]
  },
  {
   "cell_type": "code",
   "execution_count": null,
   "metadata": {},
   "outputs": [],
   "source": []
  },
  {
   "cell_type": "code",
   "execution_count": null,
   "metadata": {},
   "outputs": [],
   "source": []
  },
  {
   "cell_type": "code",
   "execution_count": null,
   "metadata": {},
   "outputs": [],
   "source": []
  },
  {
   "cell_type": "markdown",
   "metadata": {},
   "source": [
    "Analysis of NAME_INCOME_TYPE V/S AMT_GOODS_PRICE V/S CODE_GENDER"
   ]
  },
  {
   "cell_type": "code",
   "execution_count": null,
   "metadata": {},
   "outputs": [],
   "source": [
    "\n",
    "# IQR - payment difficulty \n",
    "\n",
    "Q1 = df_target_1['AMT_GOODS_PRICE'].quantile(0.25)\n",
    "Q3 = df_target_1['AMT_GOODS_PRICE'].quantile(0.75)\n",
    "IQR = Q3 - Q1\n",
    "print(IQR)\n",
    "\n",
    "\n",
    "Min_value1 = (Q1 - 1.5 * IQR)\n",
    "Max_value1 = (Q3 + 1.5 * IQR)\n",
    "print(\"Min value before which outlier exist: {}\".format(Min_value1))\n",
    "print(\"Max value after which outlier exist: {}\".format(Max_value1))"
   ]
  },
  {
   "cell_type": "code",
   "execution_count": null,
   "metadata": {},
   "outputs": [],
   "source": [
    "\n",
    "# IQR - payment on time \n",
    "\n",
    "Q1 = df_target_0['AMT_GOODS_PRICE'].quantile(0.25)\n",
    "Q3 = df_target_0['AMT_GOODS_PRICE'].quantile(0.75)\n",
    "IQR = Q3 - Q1\n",
    "print(IQR)\n",
    "\n",
    "\n",
    "Min_value0 = (Q1 - 1.5 * IQR)\n",
    "Max_value0 = (Q3 + 1.5 * IQR)\n",
    "print(\"Min value before which outlier exist: {}\".format(Min_value0))\n",
    "print(\"Max value after which outlier exist: {}\".format(Max_value0))"
   ]
  },
  {
   "cell_type": "code",
   "execution_count": null,
   "metadata": {},
   "outputs": [],
   "source": [
    "# # PIVOT TABLE - group by using the category variables  - with payment difficulties \n",
    "\n",
    "df_target_1.groupby(by = ['NAME_INCOME_TYPE','CODE_GENDER']).AMT_GOODS_PRICE.describe()"
   ]
  },
  {
   "cell_type": "code",
   "execution_count": null,
   "metadata": {},
   "outputs": [],
   "source": [
    "# # PIVOT TABLE - group by using the category variables  - with payment on time \n",
    "\n",
    "df_target_0.groupby(by = ['NAME_INCOME_TYPE','CODE_GENDER']).AMT_GOODS_PRICE.describe()"
   ]
  },
  {
   "cell_type": "code",
   "execution_count": null,
   "metadata": {},
   "outputs": [],
   "source": [
    "plt.figure(figsize = [20,12])\n",
    "\n",
    "plt.subplot(1,2,1)\n",
    "plt.title('Payment Difficulties')\n",
    "red_diamond = dict(markerfacecolor='r', marker='D')\n",
    "sns.boxplot(x = 'NAME_INCOME_TYPE', \n",
    "                y = df_target_1[df_target_1['AMT_GOODS_PRICE'] < Max_value1]['AMT_GOODS_PRICE'], \n",
    "                data = df_target_1, \n",
    "                flierprops = red_diamond, \n",
    "                order = sorted(df_target_1['NAME_INCOME_TYPE'].unique(), reverse = True),\n",
    "                hue = 'CODE_GENDER', hue_order = sorted(df_target_1['CODE_GENDER'].unique(), reverse = True))\n",
    "plt.ticklabel_format(style='plain', axis='y')\n",
    "plt.xticks(rotation=90)\n",
    "\n",
    "plt.subplot(1,2,2)\n",
    "plt.title('On-Time Payments')\n",
    "sns.boxplot(x = 'NAME_INCOME_TYPE', \n",
    "                y = df_target_0[df_target_0['AMT_GOODS_PRICE'] < Max_value0]['AMT_GOODS_PRICE'], \n",
    "                data = df_target_0, \n",
    "                flierprops = red_diamond, \n",
    "                order = sorted(df_target_0['NAME_INCOME_TYPE'].unique(), reverse = True),\n",
    "                hue = 'CODE_GENDER', hue_order = sorted(df_target_0['CODE_GENDER'].unique(), reverse = True))\n",
    "plt.ticklabel_format(style='plain', axis='y')\n",
    "plt.xticks(rotation=90)\n",
    "\n",
    "plt.tight_layout(pad = 4)\n",
    "plt.show()"
   ]
  },
  {
   "cell_type": "markdown",
   "metadata": {},
   "source": [
    "Observations : \n",
    "\n",
    "- Applicants  who are Unemployed and Male have a very high price of goods in On-Time Payments than Payment difficulties\n",
    "\n",
    "- Applicants who are Student and either Male OR Female do their payments On-Time. \n",
    "  They are completely missing from Payment difficulties category. \n",
    " \n",
    "- Applicants who are Businessman and either Male OR Female do their payments On-Time. \n",
    "  They are completely missing from Payment difficulties category. \n",
    "  \n",
    "- Applicants who are Working and either Male OR Female have the mean /median in both  On-Time Payments than Payment difficulties\n",
    "\n",
    "- Applicants who are Maternity Levaes and only Females do their payments on time. \n",
    "  They are missing from Payment difficulties category. \n",
    "  \n",
    "Conclusion : \n",
    "\n",
    "Studnts and Businessman seems to be an attractive category to give loans to , since they pay on time . \n"
   ]
  },
  {
   "cell_type": "code",
   "execution_count": null,
   "metadata": {},
   "outputs": [],
   "source": []
  },
  {
   "cell_type": "code",
   "execution_count": null,
   "metadata": {},
   "outputs": [],
   "source": []
  },
  {
   "cell_type": "code",
   "execution_count": null,
   "metadata": {},
   "outputs": [],
   "source": []
  },
  {
   "cell_type": "code",
   "execution_count": null,
   "metadata": {},
   "outputs": [],
   "source": []
  },
  {
   "cell_type": "markdown",
   "metadata": {},
   "source": [
    "Analysis of NAME_INCOME_TYPE V/S AMT_INCOME_TOTAL V/S CODE_GENDER"
   ]
  },
  {
   "cell_type": "code",
   "execution_count": null,
   "metadata": {},
   "outputs": [],
   "source": [
    "\n",
    "# IQR - payment difficulty \n",
    "\n",
    "Q1 = df_target_1['AMT_INCOME_TOTAL'].quantile(0.25)\n",
    "Q3 = df_target_1['AMT_INCOME_TOTAL'].quantile(0.75)\n",
    "IQR = Q3 - Q1\n",
    "print(IQR)\n",
    "\n",
    "\n",
    "Min_value1 = (Q1 - 1.5 * IQR)\n",
    "Max_value1 = (Q3 + 1.5 * IQR)\n",
    "print(\"Min value before which outlier exist: {}\".format(Min_value1))\n",
    "print(\"Max value after which outlier exist: {}\".format(Max_value1))"
   ]
  },
  {
   "cell_type": "code",
   "execution_count": null,
   "metadata": {},
   "outputs": [],
   "source": [
    "\n",
    "# IQR - payment on time \n",
    "\n",
    "Q1 = df_target_0['AMT_INCOME_TOTAL'].quantile(0.25)\n",
    "Q3 = df_target_0['AMT_INCOME_TOTAL'].quantile(0.75)\n",
    "IQR = Q3 - Q1\n",
    "print(IQR)\n",
    "\n",
    "\n",
    "Min_value0 = (Q1 - 1.5 * IQR)\n",
    "Max_value0 = (Q3 + 1.5 * IQR)\n",
    "print(\"Min value before which outlier exist: {}\".format(Min_value0))\n",
    "print(\"Max value after which outlier exist: {}\".format(Max_value0))"
   ]
  },
  {
   "cell_type": "code",
   "execution_count": null,
   "metadata": {},
   "outputs": [],
   "source": [
    "# # PIVOT TABLE - group by using the category variables  - with payment on time \n",
    "\n",
    "df_target_0.groupby(by = ['NAME_INCOME_TYPE','CODE_GENDER']).AMT_INCOME_TOTAL.describe()"
   ]
  },
  {
   "cell_type": "code",
   "execution_count": null,
   "metadata": {},
   "outputs": [],
   "source": [
    " # PIVOT TABLE - group by using the category variables  - with payment on time \n",
    "\n",
    "df_target_1.groupby(by = ['NAME_INCOME_TYPE','CODE_GENDER']).AMT_INCOME_TOTAL.describe()"
   ]
  },
  {
   "cell_type": "code",
   "execution_count": null,
   "metadata": {},
   "outputs": [],
   "source": [
    "plt.figure(figsize = [20,12])\n",
    "\n",
    "plt.subplot(1,2,1)\n",
    "plt.title('Payment Difficulties')\n",
    "\n",
    "sns.boxplot(x = 'NAME_INCOME_TYPE', \n",
    "                y = df_target_1[df_target_1['AMT_INCOME_TOTAL'] < Max_value1]['AMT_INCOME_TOTAL'], \n",
    "                data = df_target_1,  \n",
    "                order = sorted(df_target_1['NAME_INCOME_TYPE'].unique(), reverse = True),\n",
    "                hue = 'CODE_GENDER', hue_order = sorted(df_target_1['CODE_GENDER'].unique(), reverse = True))\n",
    "plt.ticklabel_format(style='plain', axis='y')\n",
    "plt.xticks(rotation=90)\n",
    "\n",
    "plt.subplot(1,2,2)\n",
    "plt.title('On-Time Payments')\n",
    "sns.boxplot(x = 'NAME_INCOME_TYPE', \n",
    "                y = df_target_0[df_target_0['AMT_INCOME_TOTAL'] < Max_value0]['AMT_INCOME_TOTAL'], \n",
    "                data = df_target_0, \n",
    "                order = sorted(df_target_0['NAME_INCOME_TYPE'].unique(), reverse = True),\n",
    "                hue = 'CODE_GENDER', hue_order = sorted(df_target_0['CODE_GENDER'].unique(), reverse = True))\n",
    "plt.ticklabel_format(style='plain', axis='y')\n",
    "plt.xticks(rotation=90)\n",
    "\n",
    "plt.tight_layout(pad = 4)\n",
    "plt.show()"
   ]
  },
  {
   "cell_type": "markdown",
   "metadata": {},
   "source": [
    "Observations\n",
    "\n",
    "- Applicants who are Student and either Male OR Female do their payments On-Time. \n",
    "  They are completely missing from Payment difficulties category. \n",
    "\n",
    "- Applicants who are Businessman and either Male OR Female do their payments On-Time.\n",
    "  They are completely missing from Payment difficulties category. \n",
    "  \n",
    "  Businessman and Students seems to be an attractive category to give loans to.\n",
    "  \n",
    "  \n",
    "\n",
    "- Applicants who are in Maternity Leave and Female have a very high income in On-Time Payments than Payment difficulties"
   ]
  },
  {
   "cell_type": "code",
   "execution_count": null,
   "metadata": {},
   "outputs": [],
   "source": [
    "\n",
    "\n"
   ]
  },
  {
   "cell_type": "code",
   "execution_count": null,
   "metadata": {},
   "outputs": [],
   "source": []
  },
  {
   "cell_type": "code",
   "execution_count": null,
   "metadata": {},
   "outputs": [],
   "source": []
  },
  {
   "cell_type": "markdown",
   "metadata": {},
   "source": [
    "Analysis of OCCUPATION_TYPE V/S AMT_INCOME_TOTAL V/S CODE_GENDER"
   ]
  },
  {
   "cell_type": "code",
   "execution_count": null,
   "metadata": {},
   "outputs": [],
   "source": [
    "\n",
    "# IQR - payment difficulty \n",
    "\n",
    "Q1 = df_target_1['AMT_INCOME_TOTAL'].quantile(0.25)\n",
    "Q3 = df_target_1['AMT_INCOME_TOTAL'].quantile(0.75)\n",
    "IQR = Q3 - Q1\n",
    "print(IQR)\n",
    "\n",
    "\n",
    "Min_value1 = (Q1 - 1.5 * IQR)\n",
    "Max_value1 = (Q3 + 1.5 * IQR)\n",
    "print(\"Min value before which outlier exist: {}\".format(Min_value1))\n",
    "print(\"Max value after which outlier exist: {}\".format(Max_value1))"
   ]
  },
  {
   "cell_type": "code",
   "execution_count": null,
   "metadata": {},
   "outputs": [],
   "source": [
    "\n",
    "# IQR - payment on time \n",
    "\n",
    "Q1 = df_target_0['AMT_INCOME_TOTAL'].quantile(0.25)\n",
    "Q3 = df_target_0['AMT_INCOME_TOTAL'].quantile(0.75)\n",
    "IQR = Q3 - Q1\n",
    "print(IQR)\n",
    "\n",
    "\n",
    "Min_value0 = (Q1 - 1.5 * IQR)\n",
    "Max_value0 = (Q3 + 1.5 * IQR)\n",
    "print(\"Min value before which outlier exist: {}\".format(Min_value0))\n",
    "print(\"Max value after which outlier exist: {}\".format(Max_value0))"
   ]
  },
  {
   "cell_type": "code",
   "execution_count": null,
   "metadata": {},
   "outputs": [],
   "source": [
    "# # PIVOT TABLE - group by using the category variables  - with payment on time \n",
    "\n",
    "df_target_0.groupby(by = ['OCCUPATION_TYPE','CODE_GENDER']).AMT_INCOME_TOTAL.describe()"
   ]
  },
  {
   "cell_type": "code",
   "execution_count": null,
   "metadata": {},
   "outputs": [],
   "source": [
    "# # PIVOT TABLE - group by using the category variables  - with payment diffcultities \n",
    "\n",
    "df_target_1.groupby(by = ['OCCUPATION_TYPE','CODE_GENDER']).AMT_INCOME_TOTAL.describe()"
   ]
  },
  {
   "cell_type": "code",
   "execution_count": null,
   "metadata": {},
   "outputs": [],
   "source": [
    "plt.figure(figsize = [20,12])\n",
    "\n",
    "plt.subplot(1,2,1)\n",
    "plt.title('Payment Difficulties')\n",
    "\n",
    "sns.boxplot(x = 'OCCUPATION_TYPE', \n",
    "                y = df_target_1[df_target_1['AMT_INCOME_TOTAL'] < Max_value1]['AMT_INCOME_TOTAL'], \n",
    "                data = df_target_1,  \n",
    "                order = sorted(df_target_1['OCCUPATION_TYPE'].unique(), reverse = True),\n",
    "                hue = 'CODE_GENDER', hue_order = sorted(df_target_1['CODE_GENDER'].unique(), reverse = True))\n",
    "plt.ticklabel_format(style='plain', axis='y')\n",
    "plt.xticks(rotation=90)\n",
    "\n",
    "plt.subplot(1,2,2)\n",
    "plt.title('On-Time Payments')\n",
    "sns.boxplot(x = 'OCCUPATION_TYPE', \n",
    "                y = df_target_0[df_target_0['AMT_INCOME_TOTAL'] < Max_value0]['AMT_INCOME_TOTAL'], \n",
    "                data = df_target_0, \n",
    "                order = sorted(df_target_0['OCCUPATION_TYPE'].unique(), reverse = True),\n",
    "                hue = 'CODE_GENDER', hue_order = sorted(df_target_0['CODE_GENDER'].unique(), reverse = True))\n",
    "plt.ticklabel_format(style='plain', axis='y')\n",
    "plt.xticks(rotation=90)\n",
    "\n",
    "plt.tight_layout(pad = 4)\n",
    "plt.show()"
   ]
  },
  {
   "cell_type": "markdown",
   "metadata": {},
   "source": [
    "Observations : \n",
    "\n",
    "- Applicants who are Cleaning staff and female have more mean / median income in On-Time Payments than Payment difficulties\n",
    "\n",
    "- Applicants who are Waiters/barment staff and female have less median income in On-Time Payments than Payment difficulties\n",
    "\n",
    "- Applicnats who are HR Staff and Male have more median income in Payment difficulties than On-Time Payments\n",
    "\n",
    "- Applicants who are Managers and Male have more median income in On-Time Payments than Payment difficulties"
   ]
  },
  {
   "cell_type": "code",
   "execution_count": null,
   "metadata": {},
   "outputs": [],
   "source": []
  },
  {
   "cell_type": "markdown",
   "metadata": {},
   "source": [
    "Analysis of NAME_INCOME_TYPE V/S CODE_GENDER"
   ]
  },
  {
   "cell_type": "code",
   "execution_count": null,
   "metadata": {},
   "outputs": [],
   "source": [
    "# plt the graph between  Categorical  varibales to vizualise   \n",
    "\n",
    "plt.figure(figsize = [20,8])\n",
    "palt = sns.color_palette(\"bright\")\n",
    "\n",
    "plt.subplot(1,2,1)\n",
    "pltname = 'Applicants with payment difficulties'\n",
    "plt.title(pltname)\n",
    "sns.countplot(x = 'NAME_INCOME_TYPE', data = df_target_1, \n",
    "                  order = sorted(df_target_1['NAME_INCOME_TYPE'].unique(), reverse = True), palette = palt,\n",
    "                  hue = 'CODE_GENDER', hue_order = sorted(df_target_1['CODE_GENDER'].unique(), reverse = True))\n",
    "plt.xticks(rotation = 90)\n",
    "    \n",
    "plt.subplot(1,2,2)\n",
    "pltname = 'Applicants  with on-time payments'\n",
    "plt.title(pltname)\n",
    "sns.countplot(x = 'NAME_INCOME_TYPE', data = df_target_0 ,\n",
    "                  order = sorted(df_target_0['NAME_INCOME_TYPE'].unique(), reverse = True), palette = palt,\n",
    "                  hue = 'CODE_GENDER', hue_order = sorted(df_target_0['CODE_GENDER'].unique(), reverse = True))\n",
    "plt.xticks(rotation = 90)\n",
    "plt.tight_layout(pad = 4)\n",
    "plt.show()"
   ]
  },
  {
   "cell_type": "markdown",
   "metadata": {},
   "source": [
    "Observation : \n",
    " \n",
    " - Applicants who are working and Male have more  Payment difficulties compared to On-Time Payments\n",
    " - Applicants who are Pensioner and Female have more Payment difficulties compared to On-Time Payment\n",
    " - Applicants who are Businessman, Maternity Leave and Students do their payments On-Time though their record count is low"
   ]
  },
  {
   "cell_type": "code",
   "execution_count": null,
   "metadata": {},
   "outputs": [],
   "source": []
  },
  {
   "cell_type": "code",
   "execution_count": null,
   "metadata": {},
   "outputs": [],
   "source": []
  },
  {
   "cell_type": "code",
   "execution_count": null,
   "metadata": {},
   "outputs": [],
   "source": []
  },
  {
   "cell_type": "markdown",
   "metadata": {},
   "source": [
    "Analysis of NAME_EDUCATION_TYPE V/S CODE_GENDER"
   ]
  },
  {
   "cell_type": "code",
   "execution_count": null,
   "metadata": {},
   "outputs": [],
   "source": [
    "# plt the graph between  Categorical  varibales to vizualise   \n",
    "\n",
    "plt.figure(figsize = [20,8])\n",
    "palt = sns.color_palette(\"bright\")\n",
    "\n",
    "plt.subplot(1,2,1)\n",
    "pltname = 'Applicants with payment difficulties'\n",
    "plt.title(pltname)\n",
    "sns.countplot(x = 'NAME_EDUCATION_TYPE', data = df_target_1, \n",
    "                  order = sorted(df_target_1['NAME_EDUCATION_TYPE'].unique(), reverse = True), palette = palt,\n",
    "                  hue = 'CODE_GENDER', hue_order = sorted(df_target_1['CODE_GENDER'].unique(), reverse = True))\n",
    "plt.xticks(rotation = 90)\n",
    "    \n",
    "plt.subplot(1,2,2)\n",
    "pltname = 'Applicants  with on-time payments'\n",
    "plt.title(pltname)\n",
    "sns.countplot(x = 'NAME_EDUCATION_TYPE', data = df_target_0 ,\n",
    "                  order = sorted(df_target_0['NAME_EDUCATION_TYPE'].unique(), reverse = True), palette = palt,\n",
    "                  hue = 'CODE_GENDER', hue_order = sorted(df_target_0['CODE_GENDER'].unique(), reverse = True))\n",
    "plt.xticks(rotation = 90)\n",
    "plt.tight_layout(pad = 4)\n",
    "plt.show()"
   ]
  },
  {
   "cell_type": "markdown",
   "metadata": {},
   "source": [
    "Observations\n",
    "\n",
    "- Applicants who have Secondary/Secondary special education and Male have more Payment difficulties compared to On-Time Payments\n",
    "- Applicants who have Higher education and Female have more On-Time Payments compared to Payment difficulties\n",
    "- Applicants who are Academaic degree do their payments On-Time though their record count is low"
   ]
  },
  {
   "cell_type": "code",
   "execution_count": null,
   "metadata": {},
   "outputs": [],
   "source": []
  },
  {
   "cell_type": "code",
   "execution_count": null,
   "metadata": {},
   "outputs": [],
   "source": []
  },
  {
   "cell_type": "code",
   "execution_count": null,
   "metadata": {},
   "outputs": [],
   "source": []
  },
  {
   "cell_type": "markdown",
   "metadata": {},
   "source": [
    "Analysis of OCCUPATION_TYPE V/S NAME_CONTRACT_TYPE"
   ]
  },
  {
   "cell_type": "code",
   "execution_count": null,
   "metadata": {},
   "outputs": [],
   "source": [
    "# plt the graph between  Categorical  varibales to vizualise   \n",
    "\n",
    "plt.figure(figsize = [20,8])\n",
    "palt = sns.color_palette(\"bright\")\n",
    "\n",
    "plt.subplot(1,2,1)\n",
    "pltname = 'Applicants with payment difficulties'\n",
    "plt.title(pltname)\n",
    "sns.countplot(x = 'OCCUPATION_TYPE', data = df_target_1, \n",
    "                  order = sorted(df_target_1['OCCUPATION_TYPE'].unique(), reverse = True), palette = palt,\n",
    "                  hue = 'NAME_CONTRACT_TYPE', hue_order = sorted(df_target_1['NAME_CONTRACT_TYPE'].unique(), reverse = True))\n",
    "plt.xticks(rotation = 90)\n",
    "    \n",
    "plt.subplot(1,2,2)\n",
    "pltname = 'Applicants  with on-time payments'\n",
    "plt.title(pltname)\n",
    "sns.countplot(x = 'OCCUPATION_TYPE', data = df_target_0 ,\n",
    "                  order = sorted(df_target_0['OCCUPATION_TYPE'].unique(), reverse = True), palette = palt,\n",
    "                  hue = 'NAME_CONTRACT_TYPE', hue_order = sorted(df_target_0['NAME_CONTRACT_TYPE'].unique(), reverse = True))\n",
    "plt.xticks(rotation = 90)\n",
    "plt.tight_layout(pad = 4)\n",
    "plt.show()"
   ]
  },
  {
   "cell_type": "markdown",
   "metadata": {},
   "source": [
    "Observations: \n",
    "\n",
    "- applicants who are Sales staff,Laborers,Drivers and have Cash loans; having more Payment difficulties compared to On-Time Payments\n",
    "- applicants who are IT staff ; have significantly no diffiuclty in payment of loan "
   ]
  },
  {
   "cell_type": "code",
   "execution_count": null,
   "metadata": {},
   "outputs": [],
   "source": []
  },
  {
   "cell_type": "code",
   "execution_count": null,
   "metadata": {},
   "outputs": [],
   "source": []
  },
  {
   "cell_type": "code",
   "execution_count": null,
   "metadata": {},
   "outputs": [],
   "source": []
  },
  {
   "cell_type": "markdown",
   "metadata": {},
   "source": [
    "# Corelation Analysis "
   ]
  },
  {
   "cell_type": "code",
   "execution_count": null,
   "metadata": {},
   "outputs": [],
   "source": [
    "# plot the correlation matrix for numeric data type \n",
    "\n",
    "# check the size of the df \n",
    "df_target_1.select_dtypes(include=[\"int64\",\"float64\"]).shape"
   ]
  },
  {
   "cell_type": "markdown",
   "metadata": {},
   "source": [
    " So we see there are 66 data attributes "
   ]
  },
  {
   "cell_type": "code",
   "execution_count": null,
   "metadata": {},
   "outputs": [],
   "source": [
    "# table for correlation of all the numeric variables \n",
    "\n",
    "corr_df1 = df_target_1.select_dtypes(include=[\"int64\",\"float64\"]).corr()\n",
    "\n",
    "corr_df1"
   ]
  },
  {
   "cell_type": "code",
   "execution_count": null,
   "metadata": {},
   "outputs": [],
   "source": [
    "# plt the heat map of the same \n",
    "\n",
    "plt.figure(figsize = (25,25))\n",
    "sns.heatmap(data = corr_df1, annot = True, cmap = \"RdYlGn\", cbar = True, fmt='.2f')\n",
    "plt.show()"
   ]
  },
  {
   "cell_type": "code",
   "execution_count": null,
   "metadata": {},
   "outputs": [],
   "source": [
    "# plot the heat map has above , consider correlation view between  80% - 100%\n",
    "\n",
    "plt.figure(figsize = (25,25))\n",
    "sns.heatmap(data = corr_df1[(corr_df1 >= 0.8) & (corr_df1 < 0.9999)], annot = True, cmap = \"RdYlGn\", cbar = True, fmt='.2f')\n",
    "plt.show()"
   ]
  },
  {
   "cell_type": "code",
   "execution_count": null,
   "metadata": {},
   "outputs": [],
   "source": [
    "# Getting top 10 correlations for Payment Difficulties\n",
    "\n",
    "corr_df1[corr_df1 <= 0.99].unstack().sort_values(ascending = False).head(25)"
   ]
  },
  {
   "cell_type": "markdown",
   "metadata": {},
   "source": [
    "Obsrervation : We see duplicate entries , removing duplicates , below are the TOP 10 Correlation attributes \n",
    "\n",
    "\n",
    "  1. AMT_CREDIT , AMT_GOODS_PRICE - having 0.98\n",
    "  2. REGION_RATING_CLIENT,  REGION_RATING_CLIENT_W_CITY- having 0.96\n",
    "  3. CNT_FAM_MEMBERS, CNT_CHILDREN - having 0.89\n",
    "  4. DEF_60_CNT_SOCIAL_CIRCLE, DEF_30_CNT_SOCIAL_CIRCLE - having 0.87\n",
    "  5. REG_REGION_NOT_WORK_REGION , LIVE_REGION_NOT_WORK_REGION - having 0.85\n",
    "  6. EXT_SOURCE_3, AMT_REQ_CREDIT_BUREAU_QRT - having 0.84\n",
    "  7. EXT_SOURCE_3, AMT_REQ_CREDIT_BUREAU_HOUR - having 0.84\n",
    "  8. EXT_SOURCE_3, AMT_REQ_CREDIT_BUREAU_DAY - having 0.84\n",
    "  9. EXT_SOURCE_3, AMT_REQ_CREDIT_BUREAU_WEEK - having 0.84\n",
    "  10. EXT_SOURCE_3, AMT_REQ_CREDIT_BUREAU_YEAR - having 0.84\n",
    "    "
   ]
  },
  {
   "cell_type": "code",
   "execution_count": null,
   "metadata": {},
   "outputs": [],
   "source": []
  },
  {
   "cell_type": "code",
   "execution_count": null,
   "metadata": {},
   "outputs": [],
   "source": [
    "# Plotting correlation matrix for On-Time payments\n",
    "\n",
    "corr_df0 = df_target_0.select_dtypes(include=[\"int64\",\"float64\"]).corr()\n",
    "\n",
    "corr_df0"
   ]
  },
  {
   "cell_type": "code",
   "execution_count": null,
   "metadata": {},
   "outputs": [],
   "source": [
    "# plot the heat map has above , consider correlation view between  80% - 100%\n",
    "\n",
    "plt.figure(figsize = (25,25))\n",
    "sns.heatmap(data = corr_df0[(corr_df0 >= 0.8) & (corr_df0 < 0.9999)], annot = True, cmap = \"RdYlGn\", cbar = True, fmt='.2f')\n",
    "plt.show()"
   ]
  },
  {
   "cell_type": "code",
   "execution_count": null,
   "metadata": {},
   "outputs": [],
   "source": [
    "# # Getting top 10 correlations for Payment  On-Time \n",
    "\n",
    "corr_df0[corr_df0 <= 0.99].unstack().sort_values(ascending = False).head(28)"
   ]
  },
  {
   "cell_type": "markdown",
   "metadata": {},
   "source": [
    "Obsrervation : We see duplicate entries , removing duplicates , below are the TOP 10 Correlation attributes - Payment On-Time \n",
    "\n",
    "\n",
    "   1. AMT_CREDIT , AMT_GOODS_PRICE - having 0.99\n",
    "   2. REGION_RATING_CLIENT,  REGION_RATING_CLIENT_W_CITY- having 0.95\n",
    "   3. DEF_60_CNT_SOCIAL_CIRCLE, DEF_30_CNT_SOCIAL_CIRCLE - having 0.86\n",
    "   4. REG_REGION_NOT_WORK_REGION , LIVE_REGION_NOT_WORK_REGION - having 0.86\n",
    "   5. LIVE_CITY_NOT_WORK_CITY , REG_CITY_NOT_WORK_CITY - having 0.83\n",
    "   6. EXT_SOURCE_3, AMT_REQ_CREDIT_BUREAU_YEAR - having 0.79\n",
    "   7. EXT_SOURCE_3, AMT_REQ_CREDIT_BUREAU_QRT - having 0.79\n",
    "   8. EXT_SOURCE_3, AMT_REQ_CREDIT_BUREAU_DAY - having 0.79\n",
    "   9. EXT_SOURCE_3, AMT_REQ_CREDIT_BUREAU_WEEK - having 0.79\n",
    "   10. EXT_SOURCE_3, AMT_REQ_CREDIT_BUREAU_HOUR - having 0.79 "
   ]
  },
  {
   "cell_type": "markdown",
   "metadata": {},
   "source": [
    "Observations : After comparing top 10 correlations between Payment difficulties and On-Time Payments -\n",
    "\n",
    "1. Top 10 are almost same , expect for some minor diffrence in percentage\n",
    "2. Hightest correation exists between AMT_CREDIT and AMT_GOODS_PRICE \n",
    "\n",
    "    2.1 where for payment difficuties observed value is 0.98\n",
    "    \n",
    "    2.2 where for on-time payment observed value is 0.99"
   ]
  },
  {
   "cell_type": "code",
   "execution_count": null,
   "metadata": {},
   "outputs": [],
   "source": []
  },
  {
   "cell_type": "code",
   "execution_count": null,
   "metadata": {},
   "outputs": [],
   "source": []
  },
  {
   "cell_type": "code",
   "execution_count": null,
   "metadata": {},
   "outputs": [],
   "source": []
  },
  {
   "cell_type": "code",
   "execution_count": null,
   "metadata": {},
   "outputs": [],
   "source": []
  },
  {
   "cell_type": "code",
   "execution_count": null,
   "metadata": {},
   "outputs": [],
   "source": []
  },
  {
   "cell_type": "code",
   "execution_count": null,
   "metadata": {},
   "outputs": [],
   "source": []
  },
  {
   "cell_type": "markdown",
   "metadata": {},
   "source": [
    "# Analyze the pervious application data set "
   ]
  },
  {
   "cell_type": "code",
   "execution_count": null,
   "metadata": {},
   "outputs": [],
   "source": [
    "# Checking few records from the dataframe\n",
    "pervious_app.head()"
   ]
  },
  {
   "cell_type": "code",
   "execution_count": null,
   "metadata": {},
   "outputs": [],
   "source": [
    "# chcek the data strutucre\n",
    "\n",
    "\n",
    "pervious_app.info(verbose = True,null_counts = True)"
   ]
  },
  {
   "cell_type": "code",
   "execution_count": null,
   "metadata": {},
   "outputs": [],
   "source": [
    "\n",
    "pervious_app.shape"
   ]
  },
  {
   "cell_type": "markdown",
   "metadata": {},
   "source": [
    "There are 1670214 data points and 37 attributes  / varibales in teh data set "
   ]
  },
  {
   "cell_type": "code",
   "execution_count": null,
   "metadata": {},
   "outputs": [],
   "source": [
    "# statisticalsumary of numeric variables \n",
    "\n",
    "pervious_app.describe()"
   ]
  },
  {
   "cell_type": "markdown",
   "metadata": {},
   "source": [
    "# Analyzing categorical variables"
   ]
  },
  {
   "cell_type": "code",
   "execution_count": null,
   "metadata": {},
   "outputs": [],
   "source": [
    "pervious_app.select_dtypes(include = \"object\").columns"
   ]
  },
  {
   "cell_type": "code",
   "execution_count": null,
   "metadata": {},
   "outputs": [],
   "source": [
    "# Checking number of categorical variables\n",
    "len(pervious_app.select_dtypes(include = \"object\").columns)"
   ]
  },
  {
   "cell_type": "markdown",
   "metadata": {},
   "source": [
    "There are 16 categorical attributes out of 37 columns "
   ]
  },
  {
   "cell_type": "markdown",
   "metadata": {},
   "source": [
    "# Analyzing  non - categorical variables"
   ]
  },
  {
   "cell_type": "code",
   "execution_count": null,
   "metadata": {},
   "outputs": [],
   "source": [
    "pervious_app.select_dtypes(include=[\"int64\",\"float64\"]).columns"
   ]
  },
  {
   "cell_type": "code",
   "execution_count": null,
   "metadata": {},
   "outputs": [],
   "source": [
    "len(pervious_app.select_dtypes(include=[\"int64\",\"float64\"]).columns)"
   ]
  },
  {
   "cell_type": "markdown",
   "metadata": {},
   "source": [
    "There are 21 categorical attributes out of 37 columns"
   ]
  },
  {
   "cell_type": "code",
   "execution_count": null,
   "metadata": {},
   "outputs": [],
   "source": []
  },
  {
   "cell_type": "code",
   "execution_count": null,
   "metadata": {},
   "outputs": [],
   "source": []
  },
  {
   "cell_type": "markdown",
   "metadata": {},
   "source": [
    "Chcek for the incorrect and misisng data from the data set "
   ]
  },
  {
   "cell_type": "code",
   "execution_count": null,
   "metadata": {},
   "outputs": [],
   "source": [
    "pervious_app.info()"
   ]
  },
  {
   "cell_type": "code",
   "execution_count": null,
   "metadata": {},
   "outputs": [],
   "source": [
    "pervious_app.head()"
   ]
  },
  {
   "cell_type": "code",
   "execution_count": null,
   "metadata": {},
   "outputs": [],
   "source": [
    "# missing value exists or not \n",
    "\n",
    "\n",
    "pervious_app.isnull().values.any()"
   ]
  },
  {
   "cell_type": "markdown",
   "metadata": {},
   "source": [
    "We do have missing values here , need to know the missing value presnt in the column "
   ]
  },
  {
   "cell_type": "code",
   "execution_count": null,
   "metadata": {},
   "outputs": [],
   "source": [
    "# chcek the totla number of missing value count \n",
    "pervious_app.isnull().values.sum()"
   ]
  },
  {
   "cell_type": "code",
   "execution_count": null,
   "metadata": {},
   "outputs": [],
   "source": [
    "## list the columns which has missing value \n",
    "\n",
    "len(pervious_app.columns[pervious_app.isnull().any()])"
   ]
  },
  {
   "cell_type": "markdown",
   "metadata": {},
   "source": [
    "There are 16 columns consisting of misisng values "
   ]
  },
  {
   "cell_type": "code",
   "execution_count": null,
   "metadata": {},
   "outputs": [],
   "source": [
    "# chcek the percentage of missing values on the same \n",
    "\n",
    "null_count = pervious_app.isnull().sum()\n",
    "null_percentage = round((null_count/pervious_app.shape[0])*100, 2)\n",
    "\n",
    "null_df = pd.DataFrame({'column_name' : pervious_app.columns,'null_count' : null_count,'null_percentage': null_percentage})\n",
    "null_df.reset_index(drop = True, inplace = True)\n",
    "\n",
    "null_df.sort_values(by = 'null_percentage', ascending = False)"
   ]
  },
  {
   "cell_type": "code",
   "execution_count": null,
   "metadata": {},
   "outputs": [],
   "source": [
    "# will drop the columns were the missinh values is  > 40 % , like that of applications data set \n",
    "\n",
    "columns_deleted = null_df[null_df['null_percentage'] > 40].column_name.to_list()\n",
    "\n",
    "columns_deleted"
   ]
  },
  {
   "cell_type": "code",
   "execution_count": null,
   "metadata": {},
   "outputs": [],
   "source": [
    "len(columns_deleted)"
   ]
  },
  {
   "cell_type": "markdown",
   "metadata": {},
   "source": [
    "There are totally 11 columns to be removed. Deleting them from previous application dataframe "
   ]
  },
  {
   "cell_type": "code",
   "execution_count": null,
   "metadata": {},
   "outputs": [],
   "source": [
    "# drop thise 11 columns from the data set \n",
    "\n",
    "\n",
    "pervious_app.drop(columns = columns_deleted, inplace = True)"
   ]
  },
  {
   "cell_type": "code",
   "execution_count": null,
   "metadata": {},
   "outputs": [],
   "source": [
    "pervious_app.shape"
   ]
  },
  {
   "cell_type": "markdown",
   "metadata": {},
   "source": [
    "After dropping the columns we have 26 columns that can be analyzed "
   ]
  },
  {
   "cell_type": "code",
   "execution_count": null,
   "metadata": {},
   "outputs": [],
   "source": []
  },
  {
   "cell_type": "code",
   "execution_count": null,
   "metadata": {},
   "outputs": [],
   "source": []
  },
  {
   "cell_type": "code",
   "execution_count": null,
   "metadata": {},
   "outputs": [],
   "source": [
    "# chcek the percentage of missign values below 40 % \n",
    "\n",
    "null_df[null_df['null_percentage'] < 40].sort_values(by = 'null_percentage', ascending = False)"
   ]
  },
  {
   "cell_type": "code",
   "execution_count": null,
   "metadata": {},
   "outputs": [],
   "source": []
  },
  {
   "cell_type": "code",
   "execution_count": null,
   "metadata": {},
   "outputs": [],
   "source": []
  },
  {
   "cell_type": "markdown",
   "metadata": {},
   "source": [
    "\n",
    "Analysis of AMT_GOODS_PRICE column - it has 23.08% of misisgn value "
   ]
  },
  {
   "cell_type": "code",
   "execution_count": null,
   "metadata": {},
   "outputs": [],
   "source": [
    "# look at the missign values and try imputeing if required\n",
    "\n",
    "\n",
    "pervious_app.AMT_GOODS_PRICE.value_counts()"
   ]
  },
  {
   "cell_type": "code",
   "execution_count": null,
   "metadata": {},
   "outputs": [],
   "source": [
    "pervious_app['AMT_GOODS_PRICE'].describe()"
   ]
  },
  {
   "cell_type": "code",
   "execution_count": null,
   "metadata": {},
   "outputs": [],
   "source": [
    "sns.boxplot(pervious_app.AMT_GOODS_PRICE)\n",
    "plt.show()"
   ]
  },
  {
   "cell_type": "code",
   "execution_count": null,
   "metadata": {},
   "outputs": [],
   "source": [
    "# chcek the mode\n",
    "\n",
    "pervious_app['AMT_GOODS_PRICE'].mode()"
   ]
  },
  {
   "cell_type": "code",
   "execution_count": null,
   "metadata": {},
   "outputs": [],
   "source": [
    "# check the mean \n",
    "\n",
    "pervious_app['AMT_GOODS_PRICE'].mean()"
   ]
  },
  {
   "cell_type": "code",
   "execution_count": null,
   "metadata": {},
   "outputs": [],
   "source": [
    "# median \n",
    "\n",
    "pervious_app['AMT_GOODS_PRICE'].median()"
   ]
  },
  {
   "cell_type": "markdown",
   "metadata": {},
   "source": [
    "Observations: \n",
    "\n",
    "- median is 112320\n",
    "- mode is 45000\n",
    "- Mean value is 227847.28\n",
    "\n",
    "Since missing percentage value is higher i.e 23.08% , it would be better to leave the data as it is and not perform imputations"
   ]
  },
  {
   "cell_type": "markdown",
   "metadata": {},
   "source": [
    "Analysis of AMT_ANNUITY column"
   ]
  },
  {
   "cell_type": "code",
   "execution_count": null,
   "metadata": {},
   "outputs": [],
   "source": [
    "pervious_app['AMT_ANNUITY'].value_counts()"
   ]
  },
  {
   "cell_type": "code",
   "execution_count": null,
   "metadata": {},
   "outputs": [],
   "source": [
    "pervious_app['AMT_ANNUITY'].describe()"
   ]
  },
  {
   "cell_type": "code",
   "execution_count": null,
   "metadata": {},
   "outputs": [],
   "source": [
    "sns.boxplot(pervious_app.AMT_ANNUITY)\n",
    "plt.show()"
   ]
  },
  {
   "cell_type": "code",
   "execution_count": null,
   "metadata": {},
   "outputs": [],
   "source": [
    "# mean \n",
    "\n",
    "pervious_app.AMT_ANNUITY.mean()"
   ]
  },
  {
   "cell_type": "code",
   "execution_count": null,
   "metadata": {},
   "outputs": [],
   "source": [
    "#mode\n",
    "\n",
    "pervious_app.AMT_ANNUITY.mode()"
   ]
  },
  {
   "cell_type": "code",
   "execution_count": null,
   "metadata": {},
   "outputs": [],
   "source": [
    "# # median \n",
    "pervious_app.AMT_ANNUITY.median()"
   ]
  },
  {
   "cell_type": "markdown",
   "metadata": {},
   "source": [
    "Observations\n",
    "\n",
    "-  median is 11250\n",
    "- mode is 2250\n",
    "- Mean value is 15955.12\n",
    "\n",
    "\n",
    "Since missing percentage value is higher i.e 22.29%, it would be better to leave the data as it is and not perform imputations"
   ]
  },
  {
   "cell_type": "code",
   "execution_count": null,
   "metadata": {},
   "outputs": [],
   "source": []
  },
  {
   "cell_type": "markdown",
   "metadata": {},
   "source": [
    "Analysis of CNT_PAYMENT column"
   ]
  },
  {
   "cell_type": "code",
   "execution_count": null,
   "metadata": {},
   "outputs": [],
   "source": [
    "pervious_app.CNT_PAYMENT.value_counts()"
   ]
  },
  {
   "cell_type": "code",
   "execution_count": null,
   "metadata": {},
   "outputs": [],
   "source": [
    "sns.boxplot(pervious_app.CNT_PAYMENT)\n",
    "plt.show()"
   ]
  },
  {
   "cell_type": "code",
   "execution_count": null,
   "metadata": {},
   "outputs": [],
   "source": [
    "pervious_app.CNT_PAYMENT.describe()"
   ]
  },
  {
   "cell_type": "code",
   "execution_count": null,
   "metadata": {},
   "outputs": [],
   "source": [
    "# mean \n",
    "pervious_app.CNT_PAYMENT.mean()"
   ]
  },
  {
   "cell_type": "code",
   "execution_count": null,
   "metadata": {},
   "outputs": [],
   "source": [
    "# mode\n",
    "pervious_app.CNT_PAYMENT.mode()"
   ]
  },
  {
   "cell_type": "code",
   "execution_count": null,
   "metadata": {},
   "outputs": [],
   "source": [
    "# median\n",
    "pervious_app.CNT_PAYMENT.median()"
   ]
  },
  {
   "cell_type": "markdown",
   "metadata": {},
   "source": [
    "Observations\n",
    "- mode and  median is 12\n",
    "- Mean value is 16.05\n",
    "\n",
    "\n",
    "median and mode are same, since missing percentage value is higher as 22.29%, it would be better to leave the data as it is and not perform imputations"
   ]
  },
  {
   "cell_type": "code",
   "execution_count": null,
   "metadata": {},
   "outputs": [],
   "source": []
  },
  {
   "cell_type": "code",
   "execution_count": null,
   "metadata": {},
   "outputs": [],
   "source": []
  },
  {
   "cell_type": "markdown",
   "metadata": {},
   "source": [
    "Checking columns with NULL values > 0% and < 1% "
   ]
  },
  {
   "cell_type": "code",
   "execution_count": null,
   "metadata": {},
   "outputs": [],
   "source": [
    "null_df_under1 = null_df[(null_df['null_percentage'] > 0) & (null_df['null_percentage'] < 1)]\n",
    "\n",
    "null_df_under1"
   ]
  },
  {
   "cell_type": "code",
   "execution_count": null,
   "metadata": {},
   "outputs": [],
   "source": [
    "# null_df[(null_df['null_percentage'] < 40)].shape"
   ]
  },
  {
   "cell_type": "markdown",
   "metadata": {},
   "source": [
    "Analysis of PRODUCT_COMBINATION column"
   ]
  },
  {
   "cell_type": "code",
   "execution_count": null,
   "metadata": {},
   "outputs": [],
   "source": [
    "pervious_app.shape"
   ]
  },
  {
   "cell_type": "code",
   "execution_count": null,
   "metadata": {},
   "outputs": [],
   "source": [
    "pervious_app['PRODUCT_COMBINATION'].value_counts()"
   ]
  },
  {
   "cell_type": "code",
   "execution_count": null,
   "metadata": {},
   "outputs": [],
   "source": [
    "plt.figure(figsize = (10,8))\n",
    "sns.countplot(data = pervious_app, x = \"PRODUCT_COMBINATION\")\n",
    "plt.xticks(rotation = 90)\n",
    "plt.show()"
   ]
  },
  {
   "cell_type": "markdown",
   "metadata": {},
   "source": [
    "Observations\n",
    "\n",
    "- Cash type has the highest number of loan applicants\n",
    "\n",
    "Conclusion :  We can impute Cash in the dataframe"
   ]
  },
  {
   "cell_type": "code",
   "execution_count": null,
   "metadata": {},
   "outputs": [],
   "source": [
    "#  Impute Cash values with Unknown category\n",
    "\n",
    "pervious_app['PRODUCT_COMBINATION'].fillna(value = 'Cash', inplace = True)"
   ]
  },
  {
   "cell_type": "code",
   "execution_count": null,
   "metadata": {},
   "outputs": [],
   "source": [
    "pervious_app['PRODUCT_COMBINATION'].value_counts()"
   ]
  },
  {
   "cell_type": "code",
   "execution_count": null,
   "metadata": {},
   "outputs": [],
   "source": [
    "pervious_app['PRODUCT_COMBINATION'].isnull().sum()"
   ]
  },
  {
   "cell_type": "code",
   "execution_count": null,
   "metadata": {},
   "outputs": [],
   "source": [
    "pervious_app.info()"
   ]
  },
  {
   "cell_type": "markdown",
   "metadata": {},
   "source": [
    "Analysis of NAME_CASH_LOAN_PURPOSE column"
   ]
  },
  {
   "cell_type": "code",
   "execution_count": null,
   "metadata": {},
   "outputs": [],
   "source": [
    "#Checking range of values\n",
    "\n",
    "pervious_app['NAME_CASH_LOAN_PURPOSE'].value_counts(normalize=True)*100"
   ]
  },
  {
   "cell_type": "markdown",
   "metadata": {},
   "source": [
    "Observation : \n",
    "    \n",
    " -  XAP and XNA don't provide any understanding of Loan purpose, they indicate Not Available / Not Applicable\n",
    " - Of all the type, these makes arounf 90% of the data. \n",
    " \n",
    " Conclusion : We will leave it as such and not impute anything on the same. "
   ]
  },
  {
   "cell_type": "code",
   "execution_count": null,
   "metadata": {},
   "outputs": [],
   "source": []
  },
  {
   "cell_type": "code",
   "execution_count": null,
   "metadata": {},
   "outputs": [],
   "source": []
  },
  {
   "cell_type": "markdown",
   "metadata": {},
   "source": [
    "Analysis of DAYS_DECISION column"
   ]
  },
  {
   "cell_type": "code",
   "execution_count": null,
   "metadata": {},
   "outputs": [],
   "source": [
    "pervious_app['DAYS_DECISION'].value_counts()"
   ]
  },
  {
   "cell_type": "markdown",
   "metadata": {},
   "source": [
    "Observation : We see 2922 unique records ; and all of the values seems -ve \n",
    "    \n",
    " - Sinces its is used to decribe ->  Relative to current application when was the decision about previous application made\n",
    "    \n",
    "    Will convert the values to +ve number "
   ]
  },
  {
   "cell_type": "code",
   "execution_count": null,
   "metadata": {},
   "outputs": [],
   "source": [
    "pervious_app['DAYS_DECISION'] = pervious_app['DAYS_DECISION'].apply(lambda x : -x if x < 0 else x)"
   ]
  },
  {
   "cell_type": "code",
   "execution_count": null,
   "metadata": {},
   "outputs": [],
   "source": [
    "#recheck the values\n",
    "\n",
    "pervious_app['DAYS_DECISION'].value_counts()"
   ]
  },
  {
   "cell_type": "markdown",
   "metadata": {},
   "source": [
    "All days are conveted to postive number "
   ]
  },
  {
   "cell_type": "code",
   "execution_count": null,
   "metadata": {},
   "outputs": [],
   "source": []
  },
  {
   "cell_type": "code",
   "execution_count": null,
   "metadata": {},
   "outputs": [],
   "source": []
  },
  {
   "cell_type": "markdown",
   "metadata": {},
   "source": [
    "Analysis of NAME_PAYMENT_TYPE column"
   ]
  },
  {
   "cell_type": "code",
   "execution_count": null,
   "metadata": {},
   "outputs": [],
   "source": [
    "pervious_app['NAME_PAYMENT_TYPE'].value_counts(normalize=True)*100"
   ]
  },
  {
   "cell_type": "markdown",
   "metadata": {},
   "source": [
    "Observation : \n",
    "   \n",
    "   - XNA don't provide any understanding of Payment type purpose, they indicate Not Available / Not Applicable\n",
    "   - Of all the type, these makes arounf 38% of the data. \n",
    "    \n",
    " Conclusion : We will leave it as such and not impute anything on the same. "
   ]
  },
  {
   "cell_type": "code",
   "execution_count": null,
   "metadata": {},
   "outputs": [],
   "source": []
  },
  {
   "cell_type": "code",
   "execution_count": null,
   "metadata": {},
   "outputs": [],
   "source": [
    "#pervious_app.info()"
   ]
  },
  {
   "cell_type": "markdown",
   "metadata": {},
   "source": [
    "Analysis of NAME_CONTRACT_STATUS column "
   ]
  },
  {
   "cell_type": "code",
   "execution_count": null,
   "metadata": {},
   "outputs": [],
   "source": [
    "pervious_app['NAME_CONTRACT_TYPE'].value_counts(normalize=True)*100"
   ]
  },
  {
   "cell_type": "markdown",
   "metadata": {},
   "source": [
    "Observation :\n",
    "\n",
    "- XNA don't provide any understanding of Contract type purpose, they indicate Not Available / Not Applicable\n",
    "- Of all the type, these makes arounf 0.02% of the data. \n",
    "\n",
    "\n",
    "Conclusion : We will replace this with Majority of the contract type value "
   ]
  },
  {
   "cell_type": "code",
   "execution_count": null,
   "metadata": {},
   "outputs": [],
   "source": [
    "#  Impute Cash loans values with Unknown category\n",
    "\n",
    "pervious_app['NAME_CONTRACT_TYPE'] = pervious_app['NAME_CONTRACT_TYPE'].replace(['XNA'],'Cash loans')"
   ]
  },
  {
   "cell_type": "code",
   "execution_count": null,
   "metadata": {},
   "outputs": [],
   "source": [
    "pervious_app['NAME_CONTRACT_TYPE'].value_counts(normalize=True)*100"
   ]
  },
  {
   "cell_type": "code",
   "execution_count": null,
   "metadata": {},
   "outputs": [],
   "source": []
  },
  {
   "cell_type": "code",
   "execution_count": null,
   "metadata": {},
   "outputs": [],
   "source": []
  },
  {
   "cell_type": "code",
   "execution_count": null,
   "metadata": {},
   "outputs": [],
   "source": [
    "pervious_app.info()"
   ]
  },
  {
   "cell_type": "markdown",
   "metadata": {},
   "source": [
    "Analysis of CODE_REJECT_REASON column "
   ]
  },
  {
   "cell_type": "code",
   "execution_count": null,
   "metadata": {},
   "outputs": [],
   "source": [
    "pervious_app['CODE_REJECT_REASON'].value_counts(normalize=True)*100"
   ]
  },
  {
   "cell_type": "markdown",
   "metadata": {},
   "source": [
    "Observation :\n",
    "\n",
    "- XAP don't provide any understanding of code reject reason , they indicate Not Available / Not Applicable\n",
    "- Of all the type, these makes arounf 81% of the data. \n",
    "\n",
    "\n",
    "Conclusion : We will leave it as such and not impute anything on the same."
   ]
  },
  {
   "cell_type": "code",
   "execution_count": null,
   "metadata": {},
   "outputs": [],
   "source": []
  },
  {
   "cell_type": "code",
   "execution_count": null,
   "metadata": {},
   "outputs": [],
   "source": []
  },
  {
   "cell_type": "markdown",
   "metadata": {},
   "source": [
    "Analysis of NAME_CLIENT_TYPE column"
   ]
  },
  {
   "cell_type": "code",
   "execution_count": null,
   "metadata": {},
   "outputs": [],
   "source": [
    "pervious_app['NAME_CLIENT_TYPE'].value_counts(normalize=True)*100"
   ]
  },
  {
   "cell_type": "markdown",
   "metadata": {},
   "source": [
    "Observation :\n",
    "\n",
    "XNA don't provide any understanding of code reject reason , they indicate Not Available / Not Applicable\n",
    "Of all the type, these makes arounf 0.12% of the data.\n",
    "\n",
    "Conclusion : We will impute anything on the same with Repeater"
   ]
  },
  {
   "cell_type": "code",
   "execution_count": null,
   "metadata": {},
   "outputs": [],
   "source": [
    "pervious_app['NAME_CLIENT_TYPE'] = pervious_app['NAME_CLIENT_TYPE'].replace(['XNA'],'Repeater')"
   ]
  },
  {
   "cell_type": "code",
   "execution_count": null,
   "metadata": {},
   "outputs": [],
   "source": [
    "pervious_app['NAME_CLIENT_TYPE'].value_counts(normalize=True)*100"
   ]
  },
  {
   "cell_type": "code",
   "execution_count": null,
   "metadata": {},
   "outputs": [],
   "source": [
    "\n"
   ]
  },
  {
   "cell_type": "code",
   "execution_count": null,
   "metadata": {},
   "outputs": [],
   "source": [
    "pervious_app.info()"
   ]
  },
  {
   "cell_type": "markdown",
   "metadata": {},
   "source": [
    "Analysis of NAME_GOODS_CATEGORY column "
   ]
  },
  {
   "cell_type": "code",
   "execution_count": null,
   "metadata": {},
   "outputs": [],
   "source": [
    "pervious_app['NAME_GOODS_CATEGORY'].value_counts(normalize=True)*100"
   ]
  },
  {
   "cell_type": "markdown",
   "metadata": {},
   "source": [
    "Observation :\n",
    "\n",
    "XNA don't provide any understanding of goods category , they indicate Not Available / Not Applicable\n",
    "Of all the type, these makes arounf 56% of the data.\n",
    "\n",
    "Conclusion : We will leave it as such and not impute anything on the same."
   ]
  },
  {
   "cell_type": "code",
   "execution_count": null,
   "metadata": {},
   "outputs": [],
   "source": []
  },
  {
   "cell_type": "code",
   "execution_count": null,
   "metadata": {},
   "outputs": [],
   "source": []
  },
  {
   "cell_type": "markdown",
   "metadata": {},
   "source": [
    "Analysis of  NAME_PORTFOLIO column "
   ]
  },
  {
   "cell_type": "code",
   "execution_count": null,
   "metadata": {},
   "outputs": [],
   "source": [
    "pervious_app['NAME_PORTFOLIO'].value_counts(normalize=True)*100"
   ]
  },
  {
   "cell_type": "markdown",
   "metadata": {},
   "source": [
    "Observation :\n",
    "\n",
    "- XNA don't provide any understanding of goods category , they indicate Not Available / Not Applicable\n",
    "- Of all the type, these makes arounf 22% of the data.\n",
    "\n",
    "Conclusion : We will leave it as such and not impute anything on the same."
   ]
  },
  {
   "cell_type": "code",
   "execution_count": null,
   "metadata": {},
   "outputs": [],
   "source": []
  },
  {
   "cell_type": "code",
   "execution_count": null,
   "metadata": {},
   "outputs": [],
   "source": []
  },
  {
   "cell_type": "markdown",
   "metadata": {},
   "source": [
    "Analysis of CHANNEL_TYPE column "
   ]
  },
  {
   "cell_type": "code",
   "execution_count": null,
   "metadata": {},
   "outputs": [],
   "source": [
    "pervious_app['CHANNEL_TYPE'].value_counts(normalize=True)*100"
   ]
  },
  {
   "cell_type": "code",
   "execution_count": null,
   "metadata": {},
   "outputs": [],
   "source": [
    "pervious_app['CHANNEL_TYPE'].isnull().sum()"
   ]
  },
  {
   "cell_type": "code",
   "execution_count": null,
   "metadata": {},
   "outputs": [],
   "source": []
  },
  {
   "cell_type": "code",
   "execution_count": null,
   "metadata": {},
   "outputs": [],
   "source": []
  },
  {
   "cell_type": "markdown",
   "metadata": {},
   "source": [
    "Analysis of NAME_SELLER_INDUSTRY column "
   ]
  },
  {
   "cell_type": "code",
   "execution_count": null,
   "metadata": {},
   "outputs": [],
   "source": [
    "pervious_app['NAME_SELLER_INDUSTRY'].value_counts(normalize=True)*100"
   ]
  },
  {
   "cell_type": "markdown",
   "metadata": {},
   "source": [
    "Observation :\n",
    "\n",
    "- XNA don't provide any understanding of goods category , they indicate Not Available / Not Applicable\n",
    "- Of all the type, these makes around 51 % of the data.\n",
    "\n",
    "\n",
    "Conclusion : We will leave it as such and not impute anything on the same."
   ]
  },
  {
   "cell_type": "code",
   "execution_count": null,
   "metadata": {},
   "outputs": [],
   "source": [
    "pervious_app.info()"
   ]
  },
  {
   "cell_type": "markdown",
   "metadata": {},
   "source": [
    "Analysis of NAME_CONTRACT_STATUS column"
   ]
  },
  {
   "cell_type": "code",
   "execution_count": null,
   "metadata": {},
   "outputs": [],
   "source": [
    "pervious_app['NAME_CONTRACT_STATUS'].value_counts(normalize=True)*100"
   ]
  },
  {
   "cell_type": "code",
   "execution_count": null,
   "metadata": {},
   "outputs": [],
   "source": []
  },
  {
   "cell_type": "code",
   "execution_count": null,
   "metadata": {},
   "outputs": [],
   "source": []
  },
  {
   "cell_type": "code",
   "execution_count": null,
   "metadata": {},
   "outputs": [],
   "source": []
  },
  {
   "cell_type": "code",
   "execution_count": null,
   "metadata": {},
   "outputs": [],
   "source": []
  },
  {
   "cell_type": "markdown",
   "metadata": {},
   "source": [
    "# Analysis on Outliers in the pervious application data set "
   ]
  },
  {
   "cell_type": "code",
   "execution_count": null,
   "metadata": {},
   "outputs": [],
   "source": []
  },
  {
   "cell_type": "code",
   "execution_count": null,
   "metadata": {},
   "outputs": [],
   "source": []
  },
  {
   "cell_type": "markdown",
   "metadata": {},
   "source": [
    "Analysis of AMT_ANNUITY column"
   ]
  },
  {
   "cell_type": "code",
   "execution_count": null,
   "metadata": {},
   "outputs": [],
   "source": [
    "pervious_app['AMT_ANNUITY'].value_counts().sort_values(ascending = False)"
   ]
  },
  {
   "cell_type": "code",
   "execution_count": null,
   "metadata": {},
   "outputs": [],
   "source": [
    "pervious_app['AMT_ANNUITY'].describe()"
   ]
  },
  {
   "cell_type": "code",
   "execution_count": null,
   "metadata": {},
   "outputs": [],
   "source": [
    "# visualize \n",
    "\n",
    "plt.subplots(1,2 ,figsize = (20,8))\n",
    "plt.subplot(121)\n",
    "\n",
    "sns.distplot(pervious_app['AMT_ANNUITY'], color = 'purple')\n",
    "pltname = 'Distplot of ' + 'AMT_ANNUITY'\n",
    "plt.ticklabel_format(style='plain', axis='x')\n",
    "plt.title(pltname)\n",
    "\n",
    "plt.subplot(122)\n",
    "sns.boxplot(y = pervious_app['AMT_ANNUITY'], data = pervious_app)\n",
    "pltname = 'Boxplot of ' + 'AMT_ANNUITY'\n",
    "plt.title(pltname)\n",
    "\n",
    "plt.tight_layout(pad = 4)\n",
    "plt.show()\n"
   ]
  },
  {
   "cell_type": "markdown",
   "metadata": {},
   "source": [
    "Observation  ,: cananot decide much on the oultier here , \n",
    "    \n",
    " Calcuate the IQR "
   ]
  },
  {
   "cell_type": "code",
   "execution_count": null,
   "metadata": {},
   "outputs": [],
   "source": [
    "Q1 = pervious_app['AMT_ANNUITY'].quantile(0.25)\n",
    "Q3 = pervious_app['AMT_ANNUITY'].quantile(0.75)\n",
    "IQR = Q3 - Q1\n",
    "print(IQR)\n",
    "\n",
    "\n",
    "Min_value = (Q1 - 1.5 * IQR)\n",
    "Max_value = (Q3 + 1.5 * IQR)\n",
    "print(\"Min value before which outlier exist: {}\".format(Min_value))\n",
    "print(\"Max value after which outlier exist: {}\".format(Max_value))"
   ]
  },
  {
   "cell_type": "markdown",
   "metadata": {},
   "source": [
    "Observation : \n",
    "    \n",
    "  - For AMT_ANNUITY values above 42163.38 are outliers"
   ]
  },
  {
   "cell_type": "code",
   "execution_count": null,
   "metadata": {},
   "outputs": [],
   "source": []
  },
  {
   "cell_type": "code",
   "execution_count": null,
   "metadata": {},
   "outputs": [],
   "source": []
  },
  {
   "cell_type": "markdown",
   "metadata": {},
   "source": [
    "\n",
    "Analysis of AMT_APPLICATION column"
   ]
  },
  {
   "cell_type": "code",
   "execution_count": null,
   "metadata": {},
   "outputs": [],
   "source": [
    "pervious_app['AMT_APPLICATION'].value_counts().sort_values(ascending = False)"
   ]
  },
  {
   "cell_type": "code",
   "execution_count": null,
   "metadata": {},
   "outputs": [],
   "source": [
    "pervious_app['AMT_APPLICATION'].describe()"
   ]
  },
  {
   "cell_type": "code",
   "execution_count": null,
   "metadata": {},
   "outputs": [],
   "source": [
    "# visualize \n",
    "\n",
    "plt.subplots(1,2 ,figsize = (20,8))\n",
    "plt.subplot(121)\n",
    "\n",
    "sns.distplot(pervious_app['AMT_APPLICATION'], color = 'purple')\n",
    "pltname = 'Distplot of ' + 'AMT_APPLICATION'\n",
    "plt.ticklabel_format(style='plain', axis='x')\n",
    "plt.title(pltname)\n",
    "\n",
    "plt.subplot(122)\n",
    "sns.boxplot(y = pervious_app['AMT_APPLICATION'], data = pervious_app)\n",
    "pltname = 'Boxplot of ' + 'AMT_APPLICATION'\n",
    "plt.title(pltname)\n",
    "\n",
    "plt.tight_layout(pad = 4)\n",
    "plt.show()\n"
   ]
  },
  {
   "cell_type": "code",
   "execution_count": null,
   "metadata": {},
   "outputs": [],
   "source": [
    "Q1 = pervious_app['AMT_APPLICATION'].quantile(0.25)\n",
    "Q3 = pervious_app['AMT_APPLICATION'].quantile(0.75)\n",
    "IQR = Q3 - Q1\n",
    "print(IQR)\n",
    "\n",
    "Min_value = (Q1 - 1.5 * IQR)\n",
    "Max_value = (Q3 + 1.5 * IQR)\n",
    "print(\"Min value before which outlier exist: {}\".format(Min_value))\n",
    "print(\"Max value after which outlier exist: {}\".format(Max_value))"
   ]
  },
  {
   "cell_type": "code",
   "execution_count": null,
   "metadata": {},
   "outputs": [],
   "source": []
  },
  {
   "cell_type": "markdown",
   "metadata": {},
   "source": []
  },
  {
   "cell_type": "code",
   "execution_count": null,
   "metadata": {},
   "outputs": [],
   "source": []
  },
  {
   "cell_type": "markdown",
   "metadata": {},
   "source": [
    "Analysis of AMT_CREDIT column"
   ]
  },
  {
   "cell_type": "code",
   "execution_count": null,
   "metadata": {},
   "outputs": [],
   "source": [
    "pervious_app['AMT_CREDIT'].value_counts().sort_values(ascending = False)"
   ]
  },
  {
   "cell_type": "code",
   "execution_count": null,
   "metadata": {},
   "outputs": [],
   "source": [
    "pervious_app['AMT_CREDIT'].describe()"
   ]
  },
  {
   "cell_type": "code",
   "execution_count": null,
   "metadata": {},
   "outputs": [],
   "source": [
    "Q1 = pervious_app['AMT_CREDIT'].quantile(0.25)\n",
    "Q3 = pervious_app['AMT_CREDIT'].quantile(0.75)\n",
    "IQR = Q3 - Q1\n",
    "print(IQR)\n",
    "\n",
    "Min_value = (Q1 - 1.5 * IQR)\n",
    "Max_value = (Q3 + 1.5 * IQR)\n",
    "print(\"Min value before which outlier exist: {}\".format(Min_value))\n",
    "print(\"Max value after which outlier exist: {}\".format(Max_value))"
   ]
  },
  {
   "cell_type": "markdown",
   "metadata": {},
   "source": [
    "Observations\n",
    "\n",
    "- AMT_CREDIT values above 504805.5 are outliers"
   ]
  },
  {
   "cell_type": "code",
   "execution_count": null,
   "metadata": {},
   "outputs": [],
   "source": []
  },
  {
   "cell_type": "code",
   "execution_count": null,
   "metadata": {},
   "outputs": [],
   "source": []
  },
  {
   "cell_type": "markdown",
   "metadata": {},
   "source": [
    "# Merge datasets application and pervious_app into df_merge "
   ]
  },
  {
   "cell_type": "code",
   "execution_count": null,
   "metadata": {},
   "outputs": [],
   "source": [
    "application.shape"
   ]
  },
  {
   "cell_type": "code",
   "execution_count": null,
   "metadata": {},
   "outputs": [],
   "source": [
    "pervious_app.shape"
   ]
  },
  {
   "cell_type": "code",
   "execution_count": null,
   "metadata": {},
   "outputs": [],
   "source": [
    "df_merge = application.merge(pervious_app, left_on='SK_ID_CURR', right_on='SK_ID_CURR', how='inner')"
   ]
  },
  {
   "cell_type": "code",
   "execution_count": null,
   "metadata": {},
   "outputs": [],
   "source": [
    "df_merge.shape"
   ]
  },
  {
   "cell_type": "markdown",
   "metadata": {},
   "source": [
    "Observation : \n",
    "\n",
    "  - After mergeing ; Now we have 1413701 data points and 106 attributes  / columns"
   ]
  },
  {
   "cell_type": "code",
   "execution_count": null,
   "metadata": {},
   "outputs": [],
   "source": []
  },
  {
   "cell_type": "code",
   "execution_count": null,
   "metadata": {},
   "outputs": [],
   "source": []
  },
  {
   "cell_type": "code",
   "execution_count": null,
   "metadata": {},
   "outputs": [],
   "source": [
    "df_merge\n"
   ]
  },
  {
   "cell_type": "code",
   "execution_count": null,
   "metadata": {},
   "outputs": [],
   "source": [
    "# structure of data is \n",
    "\n",
    "df_merge.info(verbose= True,null_counts = True)"
   ]
  },
  {
   "cell_type": "code",
   "execution_count": null,
   "metadata": {},
   "outputs": [],
   "source": [
    "df_merge.isnull().values.sum()"
   ]
  },
  {
   "cell_type": "code",
   "execution_count": null,
   "metadata": {},
   "outputs": [],
   "source": [
    "# 1. checek for the null value count \n",
    "# 2. CAlcaluate the % of missing value \n",
    "# 3. Chcek for each column name , what is the number of mmissing value  and its percentage. \n",
    "\n",
    "\n",
    "null_count = df_merge.isnull().sum()\n",
    "null_percentage = round((null_count/df_merge.shape[0])*100, 2)\n",
    "\n",
    "\n",
    "null_merge = pd.DataFrame({'column_name' : df_merge.columns,'null_count' : null_count,'null_percentage': null_percentage})\n",
    "null_merge.reset_index(drop = True, inplace = True)\n",
    "\n",
    "null_merge.sort_values(by = 'null_percentage', ascending = False)"
   ]
  },
  {
   "cell_type": "code",
   "execution_count": null,
   "metadata": {},
   "outputs": [],
   "source": [
    "missing_column = null_merge[null_merge['null_percentage'] > 0 ].column_name.to_list()\n",
    "\n",
    "missing_column"
   ]
  },
  {
   "cell_type": "code",
   "execution_count": null,
   "metadata": {},
   "outputs": [],
   "source": []
  },
  {
   "cell_type": "code",
   "execution_count": null,
   "metadata": {},
   "outputs": [],
   "source": []
  },
  {
   "cell_type": "markdown",
   "metadata": {},
   "source": [
    "Obervation : \n",
    "\n",
    "We see 3 columns missing values are more than 20% ; So we will not impute or drop these values "
   ]
  },
  {
   "cell_type": "raw",
   "metadata": {},
   "source": []
  },
  {
   "cell_type": "markdown",
   "metadata": {},
   "source": [
    "categorical variables : "
   ]
  },
  {
   "cell_type": "code",
   "execution_count": null,
   "metadata": {},
   "outputs": [],
   "source": [
    "df_merge.select_dtypes(include = \"object\").columns"
   ]
  },
  {
   "cell_type": "code",
   "execution_count": null,
   "metadata": {},
   "outputs": [],
   "source": [
    "# total number of categorical variables\n",
    "len(df_merge.select_dtypes(include = \"object\").columns)"
   ]
  },
  {
   "cell_type": "markdown",
   "metadata": {},
   "source": [
    "There are 29 categorical variables"
   ]
  },
  {
   "cell_type": "code",
   "execution_count": null,
   "metadata": {},
   "outputs": [],
   "source": []
  },
  {
   "cell_type": "markdown",
   "metadata": {},
   "source": [
    "Numeric Varibales :"
   ]
  },
  {
   "cell_type": "code",
   "execution_count": null,
   "metadata": {},
   "outputs": [],
   "source": [
    "df_merge.select_dtypes(include=[\"int64\",\"float64\"]).columns"
   ]
  },
  {
   "cell_type": "code",
   "execution_count": null,
   "metadata": {},
   "outputs": [],
   "source": [
    "# total number of categorical variables\n",
    "len(df_merge.select_dtypes(include=[\"int64\",\"float64\"]).columns)"
   ]
  },
  {
   "cell_type": "markdown",
   "metadata": {},
   "source": [
    "There are 76 numerical variables"
   ]
  },
  {
   "cell_type": "code",
   "execution_count": null,
   "metadata": {},
   "outputs": [],
   "source": []
  },
  {
   "cell_type": "code",
   "execution_count": null,
   "metadata": {},
   "outputs": [],
   "source": []
  },
  {
   "cell_type": "markdown",
   "metadata": {},
   "source": [
    "# Univariate analysis of Merged data set "
   ]
  },
  {
   "cell_type": "code",
   "execution_count": null,
   "metadata": {},
   "outputs": [],
   "source": [
    "df_merge.head()"
   ]
  },
  {
   "cell_type": "markdown",
   "metadata": {},
   "source": [
    "Analysis of NAME_CONTRACT_STATUS"
   ]
  },
  {
   "cell_type": "code",
   "execution_count": null,
   "metadata": {},
   "outputs": [],
   "source": [
    "df_merge['NAME_CONTRACT_STATUS'].value_counts(normalize=True).sort_values(ascending = False)*100"
   ]
  },
  {
   "cell_type": "code",
   "execution_count": null,
   "metadata": {},
   "outputs": [],
   "source": []
  },
  {
   "cell_type": "code",
   "execution_count": null,
   "metadata": {},
   "outputs": [],
   "source": []
  },
  {
   "cell_type": "code",
   "execution_count": null,
   "metadata": {},
   "outputs": [],
   "source": [
    "#visualize the Name contract status\n",
    "\n",
    "plt.figure(figsize = [20,8])\n",
    "palt = sns.color_palette(\"bright\")\n",
    "    \n",
    "pltname = 'Analysis of ' + 'NAME_CONTRACT_STATUS'\n",
    "plt.title(pltname)\n",
    "sns.countplot(x = df_merge['NAME_CONTRACT_STATUS'], data = df_merge, \n",
    "                  order = sorted(df_merge['NAME_CONTRACT_STATUS'].unique(), reverse = True), palette = palt)\n",
    "\n",
    "plt.xticks(rotation = 90)\n",
    "plt.tight_layout(pad = 4)\n",
    "plt.show()"
   ]
  },
  {
   "cell_type": "markdown",
   "metadata": {},
   "source": [
    "Obseravtion: \n",
    "    \n",
    "  - Approved Loan has highest among all loan applications\n",
    "  - Cancelled and Refused are almost same among the loan applications\n",
    "  - Where as Unused Offers are the least among all loan applications"
   ]
  },
  {
   "cell_type": "code",
   "execution_count": null,
   "metadata": {},
   "outputs": [],
   "source": []
  },
  {
   "cell_type": "code",
   "execution_count": null,
   "metadata": {},
   "outputs": [],
   "source": []
  },
  {
   "cell_type": "markdown",
   "metadata": {},
   "source": [
    "Analysis of NAME_CLIENT_TYPE"
   ]
  },
  {
   "cell_type": "code",
   "execution_count": null,
   "metadata": {},
   "outputs": [],
   "source": [
    "df_merge['NAME_CLIENT_TYPE'].value_counts(normalize=True).sort_values(ascending = False)*100"
   ]
  },
  {
   "cell_type": "code",
   "execution_count": null,
   "metadata": {},
   "outputs": [],
   "source": [
    "#visualize the Name client type\n",
    "\n",
    "plt.figure(figsize = [20,8])\n",
    "palt = sns.color_palette(\"bright\")\n",
    "    \n",
    "pltname = 'Analysis of ' + 'NAME_CLIENT_TYPE'\n",
    "plt.title(pltname)\n",
    "sns.countplot(x = df_merge['NAME_CLIENT_TYPE'], data = df_merge, \n",
    "                  order = sorted(df_merge['NAME_CLIENT_TYPE'].unique(), reverse = True), palette = palt)\n",
    "\n",
    "plt.xticks(rotation = 90)\n",
    "plt.tight_layout(pad = 4)\n",
    "plt.show()"
   ]
  },
  {
   "cell_type": "markdown",
   "metadata": {},
   "source": [
    "Observations\n",
    "\n",
    "- Repeater applicant type is the highest among all loan applications\n",
    "- New applicant type is the second highest among all loan applications"
   ]
  },
  {
   "cell_type": "code",
   "execution_count": null,
   "metadata": {},
   "outputs": [],
   "source": []
  },
  {
   "cell_type": "code",
   "execution_count": null,
   "metadata": {},
   "outputs": [],
   "source": []
  },
  {
   "cell_type": "code",
   "execution_count": null,
   "metadata": {},
   "outputs": [],
   "source": []
  },
  {
   "cell_type": "markdown",
   "metadata": {},
   "source": [
    "Analysis of CHANNEL_TYPE"
   ]
  },
  {
   "cell_type": "code",
   "execution_count": null,
   "metadata": {},
   "outputs": [],
   "source": [
    "df_merge['CHANNEL_TYPE'].value_counts(normalize=True).sort_values(ascending = False)"
   ]
  },
  {
   "cell_type": "code",
   "execution_count": null,
   "metadata": {},
   "outputs": [],
   "source": [
    "#visualize the channel type\n",
    "\n",
    "plt.figure(figsize = [20,8])\n",
    "palt = sns.color_palette(\"bright\")\n",
    "    \n",
    "pltname = 'Analysis of ' + 'CHANNEL_TYPE'\n",
    "plt.title(pltname)\n",
    "sns.countplot(x = df_merge['CHANNEL_TYPE'], data = df_merge, \n",
    "                  order = sorted(df_merge['CHANNEL_TYPE'].unique(), reverse = True), palette = palt)\n",
    "\n",
    "plt.xticks(rotation = 90)\n",
    "plt.tight_layout(pad = 4)\n",
    "plt.show()"
   ]
  },
  {
   "cell_type": "markdown",
   "metadata": {},
   "source": [
    "Observations\n",
    "\n",
    "- Credit and cash offices type is the highest among all loan applications\n",
    "- Country-wide type is the second highest Channel Type among all loan applications\n",
    "- Least Channel Type among all loan applications is Car dealer "
   ]
  },
  {
   "cell_type": "code",
   "execution_count": null,
   "metadata": {},
   "outputs": [],
   "source": []
  },
  {
   "cell_type": "code",
   "execution_count": null,
   "metadata": {},
   "outputs": [],
   "source": []
  },
  {
   "cell_type": "markdown",
   "metadata": {},
   "source": [
    "Analysis of NAME_YIELD_GROUP"
   ]
  },
  {
   "cell_type": "code",
   "execution_count": null,
   "metadata": {},
   "outputs": [],
   "source": [
    "df_merge['NAME_YIELD_GROUP'].value_counts(normalize=True).sort_values(ascending = False)*100"
   ]
  },
  {
   "cell_type": "code",
   "execution_count": null,
   "metadata": {},
   "outputs": [],
   "source": [
    "#visualize the channel type\n",
    "\n",
    "plt.figure(figsize = [20,8])\n",
    "palt = sns.color_palette(\"bright\")\n",
    "    \n",
    "pltname = 'Analysis of ' + 'NAME_YIELD_GROUP'\n",
    "plt.title(pltname)\n",
    "sns.countplot(x = df_merge['NAME_YIELD_GROUP'], data = df_merge, \n",
    "                  order = sorted(df_merge['NAME_YIELD_GROUP'].unique(), reverse = True), palette = palt)\n",
    "\n",
    "plt.xticks(rotation = 90)\n",
    "plt.tight_layout(pad = 4)\n",
    "plt.show()"
   ]
  },
  {
   "cell_type": "markdown",
   "metadata": {},
   "source": [
    "Observations on Grouped Interest Rate : \n",
    "\n",
    "- middle and high interest rates are the second and third highest among all loan applications\n",
    "- XNA - Not applicable is the highest among all loan applications "
   ]
  },
  {
   "cell_type": "code",
   "execution_count": null,
   "metadata": {},
   "outputs": [],
   "source": []
  },
  {
   "cell_type": "code",
   "execution_count": null,
   "metadata": {},
   "outputs": [],
   "source": []
  },
  {
   "cell_type": "markdown",
   "metadata": {},
   "source": [
    "Analysis of NAME_GOODS_CATEGORY"
   ]
  },
  {
   "cell_type": "code",
   "execution_count": null,
   "metadata": {},
   "outputs": [],
   "source": [
    "df_merge['NAME_GOODS_CATEGORY'].value_counts(normalize=True)*100"
   ]
  },
  {
   "cell_type": "code",
   "execution_count": null,
   "metadata": {},
   "outputs": [],
   "source": [
    "#visualize the goods category \n",
    "\n",
    "plt.figure(figsize = [20,8])\n",
    "palt = sns.color_palette(\"bright\")\n",
    "    \n",
    "pltname = 'Analysis of ' + 'NAME_GOODS_CATEGORY'\n",
    "plt.title(pltname)\n",
    "sns.countplot(x = df_merge['NAME_GOODS_CATEGORY'], data = df_merge, \n",
    "                  order = sorted(df_merge['NAME_GOODS_CATEGORY'].unique(), reverse = True), palette = palt)\n",
    "\n",
    "plt.xticks(rotation = 90)\n",
    "plt.tight_layout(pad = 4)\n",
    "plt.show()"
   ]
  },
  {
   "cell_type": "markdown",
   "metadata": {},
   "source": [
    "Observations : \n",
    "\n",
    "- XNA goods category is the highest among all loan applications\n",
    "- mobile goods categoryis the second highest among all loan applications\n",
    "- followed by Computer electronics , computer and audo/ video category "
   ]
  },
  {
   "cell_type": "code",
   "execution_count": null,
   "metadata": {},
   "outputs": [],
   "source": [
    "\n",
    "df_merge.info(verbose= True)"
   ]
  },
  {
   "cell_type": "markdown",
   "metadata": {},
   "source": [
    "Analysis of NAME_EDUCATION_TYPE column"
   ]
  },
  {
   "cell_type": "code",
   "execution_count": null,
   "metadata": {},
   "outputs": [],
   "source": [
    "df_merge['NAME_EDUCATION_TYPE'].value_counts(normalize=True)*100"
   ]
  },
  {
   "cell_type": "code",
   "execution_count": null,
   "metadata": {},
   "outputs": [],
   "source": []
  },
  {
   "cell_type": "code",
   "execution_count": null,
   "metadata": {},
   "outputs": [],
   "source": [
    "#visualize the education type \n",
    "\n",
    "plt.figure(figsize = [20,8])\n",
    "palt = sns.color_palette(\"bright\")\n",
    "    \n",
    "pltname = 'Analysis of ' + 'NAME_EDUCATION_TYPE'\n",
    "plt.title(pltname)\n",
    "sns.countplot(x = df_merge['NAME_EDUCATION_TYPE'], data = df_merge, \n",
    "                  order = sorted(df_merge['NAME_EDUCATION_TYPE'].unique(), reverse = True), palette = palt)\n",
    "\n",
    "plt.xticks(rotation = 90)\n",
    "plt.tight_layout(pad = 4)\n",
    "plt.show()"
   ]
  },
  {
   "cell_type": "markdown",
   "metadata": {},
   "source": [
    "Observation : \n",
    "    \n",
    "  - Secondary / secondary special education type are the highestamong all the loan applicants\n",
    "  - followed by Higher education"
   ]
  },
  {
   "cell_type": "code",
   "execution_count": null,
   "metadata": {},
   "outputs": [],
   "source": []
  },
  {
   "cell_type": "code",
   "execution_count": null,
   "metadata": {},
   "outputs": [],
   "source": []
  },
  {
   "cell_type": "markdown",
   "metadata": {},
   "source": [
    "univerate Analysis of AMT_ANNUITY_y"
   ]
  },
  {
   "cell_type": "code",
   "execution_count": null,
   "metadata": {},
   "outputs": [],
   "source": [
    "Q1 = df_merge['AMT_ANNUITY_y'].quantile(0.25)\n",
    "Q3 = df_merge['AMT_ANNUITY_y'].quantile(0.75)\n",
    "IQR = Q3 - Q1\n",
    "print(IQR)\n",
    "\n",
    "\n",
    "Min_value = (Q1 - 1.5 * IQR)\n",
    "Max_value = (Q3 + 1.5 * IQR)\n",
    "print(\"Min value before which outlier exist: {}\".format(Min_value))\n",
    "print(\"Max value after which outlier exist: {}\".format(Max_value))"
   ]
  },
  {
   "cell_type": "code",
   "execution_count": null,
   "metadata": {},
   "outputs": [],
   "source": [
    "# remove outlier and observe the visualization \n",
    "\n",
    "plt.figure(figsize = [20,8])\n",
    "sns.distplot(df_merge[df_merge['AMT_ANNUITY_y'] <= Max_value].AMT_ANNUITY_y, hist=True)\n",
    "plt.ticklabel_format(style='plain', axis='x')\n",
    "plt.xticks(rotation = 45)\n",
    "plt.show()"
   ]
  },
  {
   "cell_type": "markdown",
   "metadata": {},
   "source": [
    "Observations on Annuity of previous application : \n",
    "\n",
    "- Most of the previous loan's annuity from the applicants is less than 10,000 as the distribution is high here.\n",
    "- the no. of applicnats decreases, as previous loan's annuity increases"
   ]
  },
  {
   "cell_type": "code",
   "execution_count": null,
   "metadata": {},
   "outputs": [],
   "source": []
  },
  {
   "cell_type": "code",
   "execution_count": null,
   "metadata": {},
   "outputs": [],
   "source": []
  },
  {
   "cell_type": "markdown",
   "metadata": {},
   "source": [
    "Univaraite Analysis  on AMT_APPLICATION : \n",
    "\n"
   ]
  },
  {
   "cell_type": "code",
   "execution_count": null,
   "metadata": {},
   "outputs": [],
   "source": []
  },
  {
   "cell_type": "code",
   "execution_count": null,
   "metadata": {},
   "outputs": [],
   "source": [
    "Q1 = df_merge['AMT_APPLICATION'].quantile(0.25)\n",
    "Q3 = df_merge['AMT_APPLICATION'].quantile(0.75)\n",
    "IQR = Q3 - Q1\n",
    "print(IQR)\n",
    "\n",
    "Min_value = (Q1 - 1.5 * IQR)\n",
    "Max_value = (Q3 + 1.5 * IQR)\n",
    "print(\"Min value before which outlier exist: {}\".format(Min_value))\n",
    "print(\"Max value after which outlier exist: {}\".format(Max_value))"
   ]
  },
  {
   "cell_type": "code",
   "execution_count": null,
   "metadata": {},
   "outputs": [],
   "source": []
  },
  {
   "cell_type": "code",
   "execution_count": null,
   "metadata": {},
   "outputs": [],
   "source": [
    "# Remove outliers and plot distplot\n",
    "\n",
    "plt.figure(figsize = [20,8])\n",
    "sns.distplot(df_merge[df_merge['AMT_APPLICATION'] <= Max_value].AMT_APPLICATION, hist=True)\n",
    "plt.ticklabel_format(style='plain', axis='x')\n",
    "plt.xticks(rotation = 45)\n",
    "plt.show()"
   ]
  },
  {
   "cell_type": "markdown",
   "metadata": {},
   "source": [
    "Observations  on how much credit did applcants ask on the previous application\n",
    "\n",
    "- Most of the loan amount applied by the applicnats initially looks to be very small as can be seen from the huge spike at the beginning of the distribution.\n",
    "- the no. of applicants decreases based on the credit asked on the perivous applications \n"
   ]
  },
  {
   "cell_type": "code",
   "execution_count": null,
   "metadata": {},
   "outputs": [],
   "source": []
  },
  {
   "cell_type": "code",
   "execution_count": null,
   "metadata": {},
   "outputs": [],
   "source": []
  },
  {
   "cell_type": "markdown",
   "metadata": {},
   "source": [
    " Univariate Analysis of AMT_CREDIT_y : \n",
    "        \n",
    "        "
   ]
  },
  {
   "cell_type": "code",
   "execution_count": null,
   "metadata": {},
   "outputs": [],
   "source": [
    "# looks for oulier here \n",
    "\n",
    "Q1 = df_merge['AMT_CREDIT_y'].quantile(0.25)\n",
    "Q3 = df_merge['AMT_CREDIT_y'].quantile(0.75)\n",
    "IQR = Q3 - Q1\n",
    "print(IQR)\n",
    "\n",
    "Min_value = (Q1 - 1.5 * IQR)\n",
    "Max_value = (Q3 + 1.5 * IQR)\n",
    "print(\"Min value before which outlier exist: {}\".format(Min_value))\n",
    "print(\"Max value after which outlier exist: {}\".format(Max_value))"
   ]
  },
  {
   "cell_type": "code",
   "execution_count": null,
   "metadata": {},
   "outputs": [],
   "source": []
  },
  {
   "cell_type": "code",
   "execution_count": null,
   "metadata": {},
   "outputs": [],
   "source": [
    "plt.figure(figsize = [20,8])\n",
    "sns.distplot(df_merge[df_merge['AMT_CREDIT_y'] <= Max_value].AMT_CREDIT_y, hist=True)\n",
    "plt.ticklabel_format(style='plain', axis='x')\n",
    "plt.xticks(rotation = 45)\n",
    "plt.show()"
   ]
  },
  {
   "cell_type": "markdown",
   "metadata": {},
   "source": [
    "Observation on Final credit amount on the previous application : \n",
    "    \n",
    "  - The distribution is very closely resambles the AMT_APPLICATION.\n",
    "  - Means the most of the applicants where provided the same loan amount has applied for. "
   ]
  },
  {
   "cell_type": "code",
   "execution_count": null,
   "metadata": {},
   "outputs": [],
   "source": []
  },
  {
   "cell_type": "code",
   "execution_count": null,
   "metadata": {},
   "outputs": [],
   "source": []
  },
  {
   "cell_type": "markdown",
   "metadata": {},
   "source": [
    "Univaraite Analysis of AMT_GOODS_PRICE_y"
   ]
  },
  {
   "cell_type": "code",
   "execution_count": null,
   "metadata": {},
   "outputs": [],
   "source": [
    "# look for the outliers \n",
    "\n",
    "\n",
    "Q1 = df_merge['AMT_GOODS_PRICE_y'].quantile(0.25)\n",
    "Q3 = df_merge['AMT_GOODS_PRICE_y'].quantile(0.75)\n",
    "IQR = Q3 - Q1\n",
    "print(IQR)\n",
    "\n",
    "Min_value = (Q1 - 1.5 * IQR)\n",
    "Max_value = (Q3 + 1.5 * IQR)\n",
    "print(\"Min value before which outlier exist: {}\".format(Min_value))\n",
    "print(\"Max value after which outlier exist: {}\".format(Max_value))"
   ]
  },
  {
   "cell_type": "code",
   "execution_count": null,
   "metadata": {},
   "outputs": [],
   "source": [
    "# Remove outliers and plot distplot\n",
    "\n",
    "plt.figure(figsize = [20,8])\n",
    "sns.distplot(df_merge[df_merge['AMT_GOODS_PRICE_y'] <= Max_value].AMT_GOODS_PRICE_y, hist=True)\n",
    "plt.ticklabel_format(style='plain', axis='x')\n",
    "plt.xticks(rotation = 45)\n",
    "plt.show()"
   ]
  },
  {
   "cell_type": "markdown",
   "metadata": {},
   "source": [
    "Observation of Goods price of good that applicants asked for (if applicable) on the previous application : \n",
    "    \n",
    "  - The distribution some what resambles the AMT_ANNUITY_y.\n",
    "  - Means , most of the loan applicants falls under the good price below 100000."
   ]
  },
  {
   "cell_type": "code",
   "execution_count": null,
   "metadata": {},
   "outputs": [],
   "source": []
  },
  {
   "cell_type": "code",
   "execution_count": null,
   "metadata": {},
   "outputs": [],
   "source": []
  },
  {
   "cell_type": "code",
   "execution_count": null,
   "metadata": {},
   "outputs": [],
   "source": []
  },
  {
   "cell_type": "markdown",
   "metadata": {},
   "source": [
    "Univaraite Analysis of CNT_PAYMENT\n"
   ]
  },
  {
   "cell_type": "code",
   "execution_count": null,
   "metadata": {},
   "outputs": [],
   "source": [
    "# look for the outliers \n",
    "\n",
    "\n",
    "Q1 = df_merge['CNT_PAYMENT'].quantile(0.25)\n",
    "Q3 = df_merge['CNT_PAYMENT'].quantile(0.75)\n",
    "IQR = Q3 - Q1\n",
    "print(IQR)\n",
    "\n",
    "Min_value = (Q1 - 1.5 * IQR)\n",
    "Max_value = (Q3 + 1.5 * IQR)\n",
    "print(\"Min value before which outlier exist: {}\".format(Min_value))\n",
    "print(\"Max value after which outlier exist: {}\".format(Max_value))"
   ]
  },
  {
   "cell_type": "code",
   "execution_count": null,
   "metadata": {},
   "outputs": [],
   "source": [
    "# Remove outliers and plot distplot\n",
    "\n",
    "plt.figure(figsize = [20,8])\n",
    "sns.distplot(df_merge[df_merge['CNT_PAYMENT'] <= Max_value].CNT_PAYMENT, hist=True)\n",
    "plt.ticklabel_format(style='plain', axis='x')\n",
    "plt.xticks(rotation = 45)\n",
    "plt.show()"
   ]
  },
  {
   "cell_type": "markdown",
   "metadata": {},
   "source": [
    "Obseravtion of previous credit at application of the previous application : \n",
    "    \n",
    "  - Donot get much insight from this though "
   ]
  },
  {
   "cell_type": "code",
   "execution_count": null,
   "metadata": {},
   "outputs": [],
   "source": [
    "\n",
    "\n",
    "\n"
   ]
  },
  {
   "cell_type": "code",
   "execution_count": null,
   "metadata": {},
   "outputs": [],
   "source": []
  },
  {
   "cell_type": "code",
   "execution_count": null,
   "metadata": {},
   "outputs": [],
   "source": [
    "df_merge.info(verbose=True)"
   ]
  },
  {
   "cell_type": "markdown",
   "metadata": {},
   "source": [
    "# Bivariate/Multivariate analysis"
   ]
  },
  {
   "cell_type": "markdown",
   "metadata": {},
   "source": [
    "Analysis of AMT_ANNUITY_y V/S AMT_CREDIT_y V/S NAME_CONTRACT_STATUS"
   ]
  },
  {
   "cell_type": "code",
   "execution_count": null,
   "metadata": {},
   "outputs": [],
   "source": [
    "# Outlier identification of AMT_ANNUITY_y\n",
    "\n",
    "\n",
    "Q1 = df_merge['AMT_ANNUITY_y'].quantile(0.25)\n",
    "Q3 = df_merge['AMT_ANNUITY_y'].quantile(0.75)\n",
    "IQR = Q3 - Q1\n",
    "print(IQR)\n",
    "\n",
    "Min_value_ANNUITY_y = (Q1 - 1.5 * IQR)\n",
    "Max_value_ANNUITY_y = (Q3 + 1.5 * IQR)\n",
    "print(\"Min value before which outlier exist: {}\".format(Min_value_ANNUITY_y))\n",
    "print(\"Max value after which outlier exist: {}\".format(Max_value_ANNUITY_y))"
   ]
  },
  {
   "cell_type": "code",
   "execution_count": null,
   "metadata": {},
   "outputs": [],
   "source": [
    "# Outlier identification of AMT_CREDIT_y\n",
    "\n",
    "Q1 = df_merge['AMT_CREDIT_y'].quantile(0.25)\n",
    "Q3 = df_merge['AMT_CREDIT_y'].quantile(0.75)\n",
    "IQR = Q3 - Q1\n",
    "print(IQR)\n",
    "\n",
    "Min_value_CREDIT_y = (Q1 - 1.5 * IQR)\n",
    "Max_value_CREDIT_y = (Q3 + 1.5 * IQR)\n",
    "print(\"Min value before which outlier exist: {}\".format(Min_value_CREDIT_y))\n",
    "print(\"Max value after which outlier exist: {}\".format(Max_value_CREDIT_y))\n"
   ]
  },
  {
   "cell_type": "code",
   "execution_count": null,
   "metadata": {},
   "outputs": [],
   "source": [
    "\n",
    "\n",
    "# plot the scatter plot "
   ]
  },
  {
   "cell_type": "code",
   "execution_count": null,
   "metadata": {},
   "outputs": [],
   "source": [
    "\n",
    "plt.figure(figsize = [20,8])\n",
    "\n",
    "sns.scatterplot(x = df_merge[df_merge['AMT_ANNUITY_y'] < Max_value_ANNUITY_y].AMT_ANNUITY_y, \n",
    "                y = df_merge[df_merge['AMT_CREDIT_y'] < Max_value_CREDIT_y].AMT_CREDIT_y,\n",
    "                data = df_merge,hue = 'NAME_CONTRACT_STATUS')\n",
    "plt.ticklabel_format(style='plain', axis='x')\n",
    "plt.ticklabel_format(style='plain', axis='y')\n",
    "\n",
    "plt.tight_layout(pad = 4)\n",
    "plt.show()"
   ]
  },
  {
   "cell_type": "markdown",
   "metadata": {},
   "source": [
    "Observations : \n",
    "\n",
    "- Between the Annuity 10K and 20 K - we see a lot of \"Refused\" Contract status - This can be because  higher the credit amount , applicant should also have higher annuity from pervious application \n",
    "\n",
    "- As the Annuity increases , we see \"Refused\"contract staus has reduced. \n",
    "\n",
    "\n",
    "- \"Unsed Offer\" staus is not seen Between the Annuity 10K and 20 K"
   ]
  },
  {
   "cell_type": "code",
   "execution_count": null,
   "metadata": {},
   "outputs": [],
   "source": []
  },
  {
   "cell_type": "code",
   "execution_count": null,
   "metadata": {},
   "outputs": [],
   "source": []
  },
  {
   "cell_type": "code",
   "execution_count": null,
   "metadata": {},
   "outputs": [],
   "source": []
  },
  {
   "cell_type": "markdown",
   "metadata": {},
   "source": [
    "Analysis of AMT_GOODS_PRICE_y V/S AMT_CREDIT_y V/S NAME_CONTRACT_STATUS"
   ]
  },
  {
   "cell_type": "code",
   "execution_count": null,
   "metadata": {},
   "outputs": [],
   "source": [
    "# Outlier identification of AMT_GOODS_PRICE_y\n",
    "\n",
    "\n",
    "Q1 = df_merge['AMT_GOODS_PRICE_y'].quantile(0.25)\n",
    "Q3 = df_merge['AMT_GOODS_PRICE_y'].quantile(0.75)\n",
    "IQR = Q3 - Q1\n",
    "print(IQR)\n",
    "\n",
    "Min_value_AMT_GOODS_PRICE_y = (Q1 - 1.5 * IQR)\n",
    "Max_value_AMT_GOODS_PRICE_y = (Q3 + 1.5 * IQR)\n",
    "print(\"Min value before which outlier exist: {}\".format(Min_value_AMT_GOODS_PRICE_y))\n",
    "print(\"Max value after which outlier exist: {}\".format(Max_value_AMT_GOODS_PRICE_y))"
   ]
  },
  {
   "cell_type": "code",
   "execution_count": null,
   "metadata": {},
   "outputs": [],
   "source": [
    "# Outlier identification of AMT_CREDIT_y\n",
    "\n",
    "Q1 = df_merge['AMT_CREDIT_y'].quantile(0.25)\n",
    "Q3 = df_merge['AMT_CREDIT_y'].quantile(0.75)\n",
    "IQR = Q3 - Q1\n",
    "print(IQR)\n",
    "\n",
    "Min_value_CREDIT_y = (Q1 - 1.5 * IQR)\n",
    "Max_value_CREDIT_y = (Q3 + 1.5 * IQR)\n",
    "print(\"Min value before which outlier exist: {}\".format(Min_value_CREDIT_y))\n",
    "print(\"Max value after which outlier exist: {}\".format(Max_value_CREDIT_y))"
   ]
  },
  {
   "cell_type": "code",
   "execution_count": null,
   "metadata": {},
   "outputs": [],
   "source": [
    "# plot the scatter plot for analysis\n",
    "\n",
    "plt.figure(figsize = [20,8])\n",
    "\n",
    "sns.scatterplot(x = df_merge[df_merge['AMT_GOODS_PRICE_y'] < Max_value_AMT_GOODS_PRICE_y].AMT_GOODS_PRICE_y, \n",
    "                y = df_merge[df_merge['AMT_CREDIT_y'] < Max_value_CREDIT_y].AMT_CREDIT_y,\n",
    "                data = df_merge,hue = 'NAME_CONTRACT_STATUS')\n",
    "plt.ticklabel_format(style='plain', axis='x')\n",
    "plt.ticklabel_format(style='plain', axis='y')\n",
    "\n",
    "plt.tight_layout(pad = 4)\n",
    "plt.show()"
   ]
  },
  {
   "cell_type": "markdown",
   "metadata": {},
   "source": [
    "Observation : \n",
    "    \n",
    "  - Between the Goodd price 200K and 300 K - we see a lot of \"Refused\" Contract status "
   ]
  },
  {
   "cell_type": "code",
   "execution_count": null,
   "metadata": {},
   "outputs": [],
   "source": []
  },
  {
   "cell_type": "code",
   "execution_count": null,
   "metadata": {},
   "outputs": [],
   "source": []
  },
  {
   "cell_type": "markdown",
   "metadata": {},
   "source": [
    "Analysis of AMT_APPLICATION V/S AMT_GOODS_PRICE_y V/S NAME_CONTRACT_STATUS"
   ]
  },
  {
   "cell_type": "code",
   "execution_count": null,
   "metadata": {},
   "outputs": [],
   "source": [
    "# Outlier identification of AMT_GOODS_PRICE_y\n",
    "\n",
    "\n",
    "Q1 = df_merge['AMT_GOODS_PRICE_y'].quantile(0.25)\n",
    "Q3 = df_merge['AMT_GOODS_PRICE_y'].quantile(0.75)\n",
    "IQR = Q3 - Q1\n",
    "print(IQR)\n",
    "\n",
    "Min_value_AMT_GOODS_PRICE_y = (Q1 - 1.5 * IQR)\n",
    "Max_value_AMT_GOODS_PRICE_y = (Q3 + 1.5 * IQR)\n",
    "print(\"Min value before which outlier exist: {}\".format(Min_value_AMT_GOODS_PRICE_y))\n",
    "print(\"Max value after which outlier exist: {}\".format(Max_value_AMT_GOODS_PRICE_y))"
   ]
  },
  {
   "cell_type": "code",
   "execution_count": null,
   "metadata": {},
   "outputs": [],
   "source": [
    "# Outlier identification of AMT_APPLICATION\n",
    "\n",
    "\n",
    "Q1 = df_merge['AMT_APPLICATION'].quantile(0.25)\n",
    "Q3 = df_merge['AMT_APPLICATION'].quantile(0.75)\n",
    "IQR = Q3 - Q1\n",
    "print(IQR)\n",
    "\n",
    "Min_value_AMT_APPLICATION = (Q1 - 1.5 * IQR)\n",
    "Max_value_AMT_APPLICATION = (Q3 + 1.5 * IQR)\n",
    "print(\"Min value before which outlier exist: {}\".format(Min_value_AMT_APPLICATION))\n",
    "print(\"Max value after which outlier exist: {}\".format(Max_value_AMT_APPLICATION))"
   ]
  },
  {
   "cell_type": "code",
   "execution_count": null,
   "metadata": {},
   "outputs": [],
   "source": [
    "# plot the scatter plot for analysis\n",
    "\n",
    "plt.figure(figsize = [20,8])\n",
    "\n",
    "sns.scatterplot(x = df_merge[df_merge['AMT_GOODS_PRICE_y'] < Max_value_AMT_GOODS_PRICE_y].AMT_GOODS_PRICE_y, \n",
    "                y = df_merge[df_merge['AMT_APPLICATION'] < Max_value_AMT_APPLICATION].AMT_APPLICATION,\n",
    "                data = df_merge,hue = 'NAME_CONTRACT_STATUS')\n",
    "plt.ticklabel_format(style='plain', axis='x')\n",
    "plt.ticklabel_format(style='plain', axis='y')\n",
    "\n",
    "plt.tight_layout(pad = 4)\n",
    "plt.show()"
   ]
  },
  {
   "cell_type": "markdown",
   "metadata": {},
   "source": [
    "Observations\n",
    "\n",
    "- AMT_APPLICATION has strong positive correlation with AMT_GOOD_PRICE_Y . Linear in nature "
   ]
  },
  {
   "cell_type": "code",
   "execution_count": null,
   "metadata": {},
   "outputs": [],
   "source": []
  },
  {
   "cell_type": "markdown",
   "metadata": {},
   "source": [
    "Analysis of AMT_APPLICATION V/S AMT_CREDIT_y V/S NAME_CONTRACT_STATUS"
   ]
  },
  {
   "cell_type": "code",
   "execution_count": null,
   "metadata": {},
   "outputs": [],
   "source": [
    "# Outlier identification of AMT_APPLICATION\n",
    "\n",
    "\n",
    "Q1 = df_merge['AMT_APPLICATION'].quantile(0.25)\n",
    "Q3 = df_merge['AMT_APPLICATION'].quantile(0.75)\n",
    "IQR = Q3 - Q1\n",
    "print(IQR)\n",
    "\n",
    "Min_value_AMT_APPLICATION = (Q1 - 1.5 * IQR)\n",
    "Max_value_AMT_APPLICATION = (Q3 + 1.5 * IQR)\n",
    "print(\"Min value before which outlier exist: {}\".format(Min_value_AMT_APPLICATION))\n",
    "print(\"Max value after which outlier exist: {}\".format(Max_value_AMT_APPLICATION))"
   ]
  },
  {
   "cell_type": "code",
   "execution_count": null,
   "metadata": {},
   "outputs": [],
   "source": [
    "# Outlier identification of AMT_CREDIT_y\n",
    "\n",
    "Q1 = df_merge['AMT_CREDIT_y'].quantile(0.25)\n",
    "Q3 = df_merge['AMT_CREDIT_y'].quantile(0.75)\n",
    "IQR = Q3 - Q1\n",
    "print(IQR)\n",
    "\n",
    "Min_value_CREDIT_y = (Q1 - 1.5 * IQR)\n",
    "Max_value_CREDIT_y = (Q3 + 1.5 * IQR)\n",
    "print(\"Min value before which outlier exist: {}\".format(Min_value_CREDIT_y))\n",
    "print(\"Max value after which outlier exist: {}\".format(Max_value_CREDIT_y))"
   ]
  },
  {
   "cell_type": "code",
   "execution_count": null,
   "metadata": {},
   "outputs": [],
   "source": [
    "plt.figure(figsize = [20,8])\n",
    "\n",
    "sns.scatterplot(x = df_merge[df_merge['AMT_APPLICATION'] < Max_value_AMT_APPLICATION].AMT_APPLICATION, \n",
    "                y = df_merge[df_merge['AMT_CREDIT_y'] < Max_value_CREDIT_y].AMT_CREDIT_y,\n",
    "                data = df_merge,hue = 'NAME_CONTRACT_STATUS')\n",
    "plt.ticklabel_format(style='plain', axis='x')\n",
    "plt.ticklabel_format(style='plain', axis='y')\n",
    "\n",
    "plt.tight_layout(pad = 4)\n",
    "plt.show()"
   ]
  },
  {
   "cell_type": "code",
   "execution_count": null,
   "metadata": {},
   "outputs": [],
   "source": []
  },
  {
   "cell_type": "code",
   "execution_count": null,
   "metadata": {},
   "outputs": [],
   "source": []
  },
  {
   "cell_type": "code",
   "execution_count": null,
   "metadata": {},
   "outputs": [],
   "source": []
  },
  {
   "cell_type": "markdown",
   "metadata": {},
   "source": [
    "Analysis of NAME_CONTRACT_STATUS V/S AMT_CREDIT_y V/S CODE_GENDER"
   ]
  },
  {
   "cell_type": "code",
   "execution_count": null,
   "metadata": {},
   "outputs": [],
   "source": [
    "# Outlier identification of AMT_CREDIT_y\n",
    "\n",
    "Q1 = df_merge['AMT_CREDIT_y'].quantile(0.25)\n",
    "Q3 = df_merge['AMT_CREDIT_y'].quantile(0.75)\n",
    "IQR = Q3 - Q1\n",
    "print(IQR)\n",
    "\n",
    "Min_value_CREDIT_y = (Q1 - 1.5 * IQR)\n",
    "Max_value_CREDIT_y = (Q3 + 1.5 * IQR)\n",
    "print(\"Min value before which outlier exist: {}\".format(Min_value_CREDIT_y))\n",
    "print(\"Max value after which outlier exist: {}\".format(Max_value_CREDIT_y))"
   ]
  },
  {
   "cell_type": "code",
   "execution_count": null,
   "metadata": {},
   "outputs": [],
   "source": [
    "# Group by the categorical varibale with numeric varibale \n",
    "\n",
    "df_merge.groupby(by = ['NAME_CONTRACT_STATUS','CODE_GENDER']).AMT_CREDIT_y.describe()"
   ]
  },
  {
   "cell_type": "code",
   "execution_count": null,
   "metadata": {},
   "outputs": [],
   "source": [
    "plt.figure(figsize = [20,12])\n",
    "\n",
    "\n",
    "sns.boxplot(x = df_merge['NAME_CONTRACT_STATUS'], \n",
    "                y = df_merge[df_merge['AMT_CREDIT_y'] < Max_value_CREDIT_y]['AMT_CREDIT_y'], \n",
    "                data = df_merge, \n",
    "                order = sorted(df_merge['NAME_CONTRACT_STATUS'].unique(), reverse = True),\n",
    "                hue = df_merge['CODE_GENDER'], hue_order = sorted(df_merge['CODE_GENDER'].unique(), reverse = True))\n",
    "\n",
    "plt.ticklabel_format(style='plain', axis='y')\n",
    "plt.xticks(rotation=90)\n",
    "\n",
    "plt.tight_layout(pad = 4)\n",
    "plt.show()"
   ]
  },
  {
   "cell_type": "markdown",
   "metadata": {},
   "source": [
    "Obervation : \n",
    "    \n",
    "  - Applicants who are Female; have been refused to apply; having higher median credit amount than Male\n",
    "  - Applicants who are Female; have been Approved ; having higher median creidt amonth than Male - though there is a sight upper hand on Female compared to Male "
   ]
  },
  {
   "cell_type": "code",
   "execution_count": null,
   "metadata": {},
   "outputs": [],
   "source": []
  },
  {
   "cell_type": "code",
   "execution_count": null,
   "metadata": {},
   "outputs": [],
   "source": []
  },
  {
   "cell_type": "code",
   "execution_count": null,
   "metadata": {},
   "outputs": [],
   "source": []
  },
  {
   "cell_type": "markdown",
   "metadata": {},
   "source": [
    "Analysis of NAME_CONTRACT_STATUS V/S AMT_ANNUITY_y V/S CODE_GENDER"
   ]
  },
  {
   "cell_type": "code",
   "execution_count": null,
   "metadata": {},
   "outputs": [],
   "source": [
    "# Outlier identification of AMT_ANNUITY_y\n",
    "\n",
    "\n",
    "Q1 = df_merge['AMT_ANNUITY_y'].quantile(0.25)\n",
    "Q3 = df_merge['AMT_ANNUITY_y'].quantile(0.75)\n",
    "IQR = Q3 - Q1\n",
    "print(IQR)\n",
    "\n",
    "Min_value_ANNUITY_y = (Q1 - 1.5 * IQR)\n",
    "Max_value_ANNUITY_y = (Q3 + 1.5 * IQR)\n",
    "print(\"Min value before which outlier exist: {}\".format(Min_value_ANNUITY_y))\n",
    "print(\"Max value after which outlier exist: {}\".format(Max_value_ANNUITY_y))"
   ]
  },
  {
   "cell_type": "code",
   "execution_count": null,
   "metadata": {},
   "outputs": [],
   "source": [
    "# Group by the categorical varibale with numeric varibale \n",
    "\n",
    "df_merge.groupby(by = ['NAME_CONTRACT_STATUS','CODE_GENDER']).AMT_CREDIT_y.describe()"
   ]
  },
  {
   "cell_type": "code",
   "execution_count": null,
   "metadata": {},
   "outputs": [],
   "source": [
    "plt.figure(figsize = [20,12])\n",
    "\n",
    "\n",
    "sns.boxplot(x = df_merge['NAME_CONTRACT_STATUS'], \n",
    "                y = df_merge[df_merge['AMT_ANNUITY_y'] < Max_value_ANNUITY_y]['AMT_ANNUITY_y'], \n",
    "                data = df_merge, \n",
    "                order = sorted(df_merge['NAME_CONTRACT_STATUS'].unique(), reverse = True),\n",
    "                hue = df_merge['CODE_GENDER'], hue_order = sorted(df_merge['CODE_GENDER'].unique(), reverse = True))\n",
    "\n",
    "plt.ticklabel_format(style='plain', axis='y')\n",
    "plt.xticks(rotation=90)\n",
    "\n",
    "plt.tight_layout(pad = 4)\n",
    "plt.show()"
   ]
  },
  {
   "cell_type": "markdown",
   "metadata": {},
   "source": [
    "Observations\n",
    "\n",
    " - Applicants  who are Male ; have been Cancelled paid of ; having higher median Annuity than Female\n",
    " - Applicants who are Female ; have been Refused of ; havinf paid higher median Annuity than Male"
   ]
  },
  {
   "cell_type": "code",
   "execution_count": null,
   "metadata": {},
   "outputs": [],
   "source": []
  },
  {
   "cell_type": "code",
   "execution_count": null,
   "metadata": {},
   "outputs": [],
   "source": []
  },
  {
   "cell_type": "markdown",
   "metadata": {},
   "source": [
    "Analysis of NAME_CONTRACT_STATUS V/S AMT_CREDIT_y V/S NAME_PORTFOLIO"
   ]
  },
  {
   "cell_type": "code",
   "execution_count": null,
   "metadata": {},
   "outputs": [],
   "source": [
    "# Outlier identification of AMT_CREDIT_y\n",
    "\n",
    "Q1 = df_merge['AMT_CREDIT_y'].quantile(0.25)\n",
    "Q3 = df_merge['AMT_CREDIT_y'].quantile(0.75)\n",
    "IQR = Q3 - Q1\n",
    "print(IQR)\n",
    "\n",
    "Min_value_CREDIT_y = (Q1 - 1.5 * IQR)\n",
    "Max_value_CREDIT_y = (Q3 + 1.5 * IQR)\n",
    "print(\"Min value before which outlier exist: {}\".format(Min_value_CREDIT_y))\n",
    "print(\"Max value after which outlier exist: {}\".format(Max_value_CREDIT_y))"
   ]
  },
  {
   "cell_type": "code",
   "execution_count": null,
   "metadata": {},
   "outputs": [],
   "source": [
    "df_merge.groupby(by = ['NAME_PORTFOLIO','NAME_CONTRACT_STATUS']).AMT_CREDIT_y.describe().head()"
   ]
  },
  {
   "cell_type": "code",
   "execution_count": null,
   "metadata": {},
   "outputs": [],
   "source": [
    "plt.figure(figsize = [20,12])\n",
    "\n",
    "\n",
    "sns.boxplot(x = df_merge['NAME_CONTRACT_STATUS'], \n",
    "                y = df_merge[df_merge['AMT_CREDIT_y'] < Max_value_CREDIT_y]['AMT_CREDIT_y'], \n",
    "                data = df_merge, \n",
    "                order = sorted(df_merge['NAME_CONTRACT_STATUS'].unique(), reverse = True),\n",
    "                hue = df_merge['NAME_PORTFOLIO'], hue_order = sorted(df_merge['NAME_PORTFOLIO'].unique(), reverse = True))\n",
    "\n",
    "plt.ticklabel_format(style='plain', axis='y')\n",
    "plt.xticks(rotation=90)\n",
    "\n",
    "plt.tight_layout(pad = 4)\n",
    "plt.show()"
   ]
  },
  {
   "cell_type": "markdown",
   "metadata": {},
   "source": [
    "Observations\n",
    "\n",
    "- Applicants who have Unused offer receive more median credit in POS type and there are no Cash / CArs/ Cards type\n",
    "- Applicants who are Refused and Cancelled receive more median credit in Cash portfolio\n",
    "- Applicants who are Approved receive more median credit in Cars portfolio"
   ]
  },
  {
   "cell_type": "code",
   "execution_count": null,
   "metadata": {},
   "outputs": [],
   "source": []
  },
  {
   "cell_type": "code",
   "execution_count": null,
   "metadata": {},
   "outputs": [],
   "source": []
  },
  {
   "cell_type": "markdown",
   "metadata": {},
   "source": [
    "Analysis of AGE_CATEGORY V/S NAME_CONTRACT_STATUS"
   ]
  },
  {
   "cell_type": "code",
   "execution_count": null,
   "metadata": {},
   "outputs": [],
   "source": [
    "plt.figure(figsize = [20,8])\n",
    "palt = sns.color_palette(\"bright\")\n",
    "\n",
    "    \n",
    "sns.countplot(x = df_merge['AGE_CATEGORY'], data = df_merge, \n",
    "                  order = sorted(df_merge['AGE_CATEGORY'].unique()), \n",
    "                  palette = palt,\n",
    "                  hue = df_merge['NAME_CONTRACT_STATUS'], \n",
    "                  hue_order = sorted(df_merge['NAME_CONTRACT_STATUS'].unique(), reverse = True))\n",
    "plt.xticks(rotation = 90)\n",
    "\n",
    "plt.tight_layout(pad = 4)\n",
    "plt.show()"
   ]
  },
  {
   "cell_type": "markdown",
   "metadata": {},
   "source": [
    "Observations:\n",
    "\n",
    "- Applicants who are in the age range 30-40 get most approval followed by applicants in 40-50 age range\n",
    "- Applicants who are in the age range 60-70 gets least approval followed by 20-30 age range\n",
    "\n",
    "- Applicants who are in the age range between 40-50 and 50-60 age range have a same ratio of \"Refused \" and \"Canceled\"\n",
    "- Applicants who are in the age range 20-30 gets least \"Refused\" followed by agr range  60-70 "
   ]
  },
  {
   "cell_type": "code",
   "execution_count": null,
   "metadata": {},
   "outputs": [],
   "source": [
    "\n"
   ]
  },
  {
   "cell_type": "markdown",
   "metadata": {},
   "source": [
    "Analysis of NAME_FAMILY_STATUS V/S NAME_CONTRACT_STATUS"
   ]
  },
  {
   "cell_type": "code",
   "execution_count": null,
   "metadata": {},
   "outputs": [],
   "source": [
    "plt.figure(figsize = [20,8])\n",
    "palt = sns.color_palette(\"bright\")\n",
    "\n",
    "    \n",
    "sns.countplot(x = df_merge['NAME_FAMILY_STATUS'], data = df_merge, \n",
    "                  order = sorted(df_merge['NAME_FAMILY_STATUS'].unique()), \n",
    "                  palette = palt,\n",
    "                  hue = df_merge['NAME_CONTRACT_STATUS'], \n",
    "                  hue_order = sorted(df_merge['NAME_CONTRACT_STATUS'].unique(), reverse = True))\n",
    "plt.xticks(rotation = 90)\n",
    "\n",
    "plt.tight_layout(pad = 4)\n",
    "plt.show()"
   ]
  },
  {
   "cell_type": "markdown",
   "metadata": {},
   "source": [
    "Observations\n",
    "\n",
    "- Applicants who are Married receive the most approvals\n",
    "- Applicants who are Widow receive the least approvals followed by Sepearted \n",
    "    Same goes for \"Refusal\" and\"Cancelled\" types\n",
    "    "
   ]
  },
  {
   "cell_type": "code",
   "execution_count": null,
   "metadata": {},
   "outputs": [],
   "source": []
  },
  {
   "cell_type": "markdown",
   "metadata": {},
   "source": [
    "Analysis of NAME_EDUCATION_TYPE V/S NAME_CONTRACT_STATUS"
   ]
  },
  {
   "cell_type": "code",
   "execution_count": null,
   "metadata": {},
   "outputs": [],
   "source": [
    "plt.figure(figsize = [20,8])\n",
    "palt = sns.color_palette(\"bright\")\n",
    "\n",
    "    \n",
    "sns.countplot(x = df_merge['NAME_EDUCATION_TYPE'], data = df_merge, \n",
    "                  order = sorted(df_merge['NAME_EDUCATION_TYPE'].unique()), \n",
    "                  palette = palt,\n",
    "                  hue = df_merge['NAME_CONTRACT_STATUS'], \n",
    "                  hue_order = sorted(df_merge['NAME_CONTRACT_STATUS'].unique(), reverse = True))\n",
    "plt.xticks(rotation = 90)\n",
    "\n",
    "plt.tight_layout(pad = 4)\n",
    "plt.show()"
   ]
  },
  {
   "cell_type": "markdown",
   "metadata": {},
   "source": [
    "Observations\n",
    "\n",
    "- applicants who have Secondary/secondary special receive the most approvals followed by Higher education \n",
    "- Applicants who have Academic degree reccives the least approval "
   ]
  },
  {
   "cell_type": "code",
   "execution_count": null,
   "metadata": {},
   "outputs": [],
   "source": []
  },
  {
   "cell_type": "markdown",
   "metadata": {},
   "source": [
    "Analysis of NAME_CLIENT_TYPE V/S NAME_CONTRACT_STATUS"
   ]
  },
  {
   "cell_type": "code",
   "execution_count": null,
   "metadata": {},
   "outputs": [],
   "source": [
    "plt.figure(figsize = [20,8])\n",
    "palt = sns.color_palette(\"bright\")\n",
    "\n",
    "    \n",
    "sns.countplot(x = df_merge['NAME_CLIENT_TYPE'], data = df_merge, \n",
    "                  order = sorted(df_merge['NAME_CLIENT_TYPE'].unique()), \n",
    "                  palette = palt,\n",
    "                  hue = df_merge['NAME_CONTRACT_STATUS'], \n",
    "                  hue_order = sorted(df_merge['NAME_CONTRACT_STATUS'].unique(), reverse = True))\n",
    "plt.xticks(rotation = 90)\n",
    "\n",
    "plt.tight_layout(pad = 4)\n",
    "plt.show()"
   ]
  },
  {
   "cell_type": "markdown",
   "metadata": {},
   "source": [
    "Observations\n",
    "\n",
    "- Applicants who are Repeaters receive the most approvals followed by New\n",
    "- Applicants who are New receive the least approvals. "
   ]
  },
  {
   "cell_type": "markdown",
   "metadata": {},
   "source": [
    "Analysis of OCCUPATION_TYPE V/S NAME_CONTRACT_STATUS"
   ]
  },
  {
   "cell_type": "code",
   "execution_count": null,
   "metadata": {},
   "outputs": [],
   "source": [
    "plt.figure(figsize = [20,8])\n",
    "palt = sns.color_palette(\"bright\")\n",
    "\n",
    "    \n",
    "sns.countplot(x = df_merge['OCCUPATION_TYPE'], data = df_merge, \n",
    "                  order = sorted(df_merge['OCCUPATION_TYPE'].unique()), \n",
    "                  palette = palt,\n",
    "                  hue = df_merge['NAME_CONTRACT_STATUS'], \n",
    "                  hue_order = sorted(df_merge['NAME_CONTRACT_STATUS'].unique(), reverse = True))\n",
    "plt.xticks(rotation = 90)\n",
    "\n",
    "plt.tight_layout(pad = 4)\n",
    "plt.show()"
   ]
  },
  {
   "cell_type": "markdown",
   "metadata": {},
   "source": [
    "Obervation : \n",
    "\n",
    "  - Laborers occuption type have been Approved Loan followed by Sales and Core staff."
   ]
  },
  {
   "cell_type": "code",
   "execution_count": null,
   "metadata": {},
   "outputs": [],
   "source": []
  },
  {
   "cell_type": "code",
   "execution_count": null,
   "metadata": {},
   "outputs": [],
   "source": []
  },
  {
   "cell_type": "markdown",
   "metadata": {},
   "source": [
    "Analysis of ORGANISATION_TYPE V/S NAME_CONTRACT_STATUS"
   ]
  },
  {
   "cell_type": "code",
   "execution_count": null,
   "metadata": {},
   "outputs": [],
   "source": [
    "plt.figure(figsize = [20,8])\n",
    "palt = sns.color_palette(\"bright\")\n",
    "\n",
    "    \n",
    "sns.countplot(x = df_merge['ORGANIZATION_TYPE'], data = df_merge, \n",
    "                  order = sorted(df_merge['ORGANIZATION_TYPE'].unique()), \n",
    "                  palette = palt,\n",
    "                  hue = df_merge['NAME_CONTRACT_STATUS'], \n",
    "                  hue_order = sorted(df_merge['NAME_CONTRACT_STATUS'].unique(), reverse = True))\n",
    "plt.xticks(rotation = 90)\n",
    "\n",
    "plt.tight_layout(pad = 4)\n",
    "plt.show()"
   ]
  },
  {
   "cell_type": "markdown",
   "metadata": {},
   "source": [
    "Observation : \n",
    "    \n",
    "    \n",
    "  - Business Entity Type 3 is been most approved , followed by Self Employed"
   ]
  },
  {
   "cell_type": "code",
   "execution_count": null,
   "metadata": {},
   "outputs": [],
   "source": []
  },
  {
   "cell_type": "code",
   "execution_count": null,
   "metadata": {},
   "outputs": [],
   "source": []
  },
  {
   "cell_type": "code",
   "execution_count": null,
   "metadata": {},
   "outputs": [],
   "source": [
    "plt.figure(figsize = [20,8])\n",
    "palt = sns.color_palette(\"bright\")\n",
    "\n",
    "    \n",
    "sns.countplot(x = df_merge['YEAR_EMPLOYED'], data = df_merge, \n",
    "                  order = sorted(df_merge['YEAR_EMPLOYED'].unique()), \n",
    "                  palette = palt,\n",
    "                  hue = df_merge['NAME_CONTRACT_STATUS'], \n",
    "                  hue_order = sorted(df_merge['NAME_CONTRACT_STATUS'].unique(), reverse = True))\n",
    "plt.xticks(rotation = 90)\n",
    "\n",
    "plt.tight_layout(pad = 4)\n",
    "plt.show()"
   ]
  },
  {
   "cell_type": "code",
   "execution_count": null,
   "metadata": {},
   "outputs": [],
   "source": []
  },
  {
   "cell_type": "code",
   "execution_count": null,
   "metadata": {},
   "outputs": [],
   "source": []
  },
  {
   "cell_type": "code",
   "execution_count": null,
   "metadata": {},
   "outputs": [],
   "source": []
  },
  {
   "cell_type": "code",
   "execution_count": null,
   "metadata": {},
   "outputs": [],
   "source": []
  },
  {
   "cell_type": "markdown",
   "metadata": {},
   "source": [
    "Plot correlation matrix for numeric varibales "
   ]
  },
  {
   "cell_type": "code",
   "execution_count": null,
   "metadata": {},
   "outputs": [],
   "source": [
    "corr_df = df_merge[['AMT_ANNUITY_x', 'AMT_APPLICATION','AMT_CREDIT_x', 'AMT_GOODS_PRICE_x',\n",
    "                    'AMT_ANNUITY_y', 'AMT_CREDIT_y', 'AMT_GOODS_PRICE_y', 'CNT_PAYMENT']].corr()\n",
    "\n",
    "corr_df"
   ]
  },
  {
   "cell_type": "code",
   "execution_count": null,
   "metadata": {},
   "outputs": [],
   "source": [
    "# plt the heat map \n",
    "\n",
    "plt.figure(figsize = (20,8))\n",
    "sns.heatmap(data = corr_df[(corr_df >= 0.8) & (corr_df < 0.99)], annot = True, cmap = \"RdYlGn\", cbar = True, fmt='.2f')\n",
    "plt.show()"
   ]
  },
  {
   "cell_type": "code",
   "execution_count": null,
   "metadata": {},
   "outputs": [],
   "source": [
    "# get the top 6 correlated variables \n",
    "\n",
    "\n",
    "corr_df[corr_df <= 0.99].unstack().sort_values(ascending = False).head(15)"
   ]
  },
  {
   "cell_type": "markdown",
   "metadata": {},
   "source": [
    "Top 6 Hihgly co related varibales are :\n",
    "\n",
    "\n",
    "\n",
    "1. AMT_GOODS_PRICE_x  , AMT_CREDIT_x having the correlation value has 0.99\n",
    "2. AMT_CREDIT_y  ,  AMT_APPLICATION having the correlation value has 0.98\n",
    "3. AMT_ANNUITY_y , AMT_GOODS_PRICE_y having the correlation value has 0.82\n",
    "4. AMT_CREDIT_y  , AMT_ANNUITY_y  having the correlation value has 0.82\n",
    "5. AMT_APPLICATION ,  AMT_ANNUITY_y having the correlation value has 0.81\n",
    "6. AMT_GOODS_PRICE_x ,  AMT_ANNUITY_x having the correlation value has 0.73\n",
    "7. AMT_CREDIT_x , AMT_ANNUITY_x  having the correlation value has 0.73\n"
   ]
  },
  {
   "cell_type": "code",
   "execution_count": null,
   "metadata": {},
   "outputs": [],
   "source": []
  },
  {
   "cell_type": "markdown",
   "metadata": {},
   "source": [
    "\n",
    "\n",
    "\n",
    "From the over all EDA below are the few points which we can conclude :\n",
    "\n",
    "- Applicant to be targeted while providing loans are:\n",
    "\n",
    "    1. Applicants who are employed for more than 7 years are on time payers ; where has more approval rate of appicants who        are employed leass thn 7 years. \n",
    "    2. Applicants in the age range 30-40 and 40-50\n",
    "    3. Aplicants who are Married\n",
    "    4. Applicants who are Repeaters \n",
    "    5. Applicants who have done Secondary/secondary special education type\n",
    "    6. Applicants who are from Business Entity Type 3 organisations \n",
    "    7. Male applicants with Academic Degree always pay the loan on-time\n",
    "    8. Studnts and Businessman seems to be an attractive category to give loans to , since they pay on time \n",
    "    \n",
    "\n",
    "-  Applicants that needs to be avoided while processing the loans are:\n",
    "\n",
    "    1. Applicants who are employed for less than 7 years are having paymnet diffuclties ; where has more approval rate of          appicants who are employed leass thn 7 years. \n",
    "    2. Applicants who are in the age range 20-30 gets least \"Refused\" followed by age range 60-70\n",
    "\n"
   ]
  },
  {
   "cell_type": "code",
   "execution_count": null,
   "metadata": {},
   "outputs": [],
   "source": []
  }
 ],
 "metadata": {
  "kernelspec": {
   "display_name": "Python 3",
   "language": "python",
   "name": "python3"
  },
  "language_info": {
   "codemirror_mode": {
    "name": "ipython",
    "version": 3
   },
   "file_extension": ".py",
   "mimetype": "text/x-python",
   "name": "python",
   "nbconvert_exporter": "python",
   "pygments_lexer": "ipython3",
   "version": "3.8.5"
  }
 },
 "nbformat": 4,
 "nbformat_minor": 4
}
